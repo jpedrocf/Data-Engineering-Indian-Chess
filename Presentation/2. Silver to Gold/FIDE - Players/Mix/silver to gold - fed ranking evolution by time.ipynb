{
 "cells": [
  {
   "cell_type": "markdown",
   "metadata": {
    "application/vnd.databricks.v1+cell": {
     "cellMetadata": {},
     "inputWidgets": {},
     "nuid": "74fc50ee-23c4-4d3b-899f-517fb0e32852",
     "showTitle": false,
     "title": ""
    }
   },
   "source": [
    "- Dataframe creation of the table players in the silver DB that contains the entire historical data, using Spark"
   ]
  },
  {
   "cell_type": "code",
   "execution_count": 0,
   "metadata": {
    "application/vnd.databricks.v1+cell": {
     "cellMetadata": {
      "byteLimit": 2048000,
      "rowLimit": 10000
     },
     "inputWidgets": {},
     "nuid": "1429ad71-1bfb-48e0-ab91-b7a9ebd1979e",
     "showTitle": false,
     "title": ""
    }
   },
   "outputs": [],
   "source": [
    "ranking_df = spark.table('silver.players')"
   ]
  },
  {
   "cell_type": "markdown",
   "metadata": {
    "application/vnd.databricks.v1+cell": {
     "cellMetadata": {},
     "inputWidgets": {},
     "nuid": "97d8027e-62da-4ff5-a680-ac171e64f4f2",
     "showTitle": false,
     "title": ""
    }
   },
   "source": [
    "- Transform the date type to 'MMM/yyyy'"
   ]
  },
  {
   "cell_type": "code",
   "execution_count": 0,
   "metadata": {
    "application/vnd.databricks.v1+cell": {
     "cellMetadata": {
      "byteLimit": 2048000,
      "rowLimit": 10000
     },
     "inputWidgets": {},
     "nuid": "9e549842-e75e-4a10-b826-024369d636a2",
     "showTitle": false,
     "title": ""
    }
   },
   "outputs": [],
   "source": [
    "from pyspark.sql.functions import to_date\n",
    "\n",
    "# Transform rating_date to date\n",
    "ranking_df = ranking_df.withColumn('rating_date', to_date(ranking_df.rating_date, 'MMM/yyyy'))"
   ]
  },
  {
   "cell_type": "markdown",
   "metadata": {
    "application/vnd.databricks.v1+cell": {
     "cellMetadata": {},
     "inputWidgets": {},
     "nuid": "2ce50336-a637-4110-b2c4-ae249205d4cd",
     "showTitle": false,
     "title": ""
    }
   },
   "source": [
    "- Ranking federations by month according to the average rating of the top 10 players"
   ]
  },
  {
   "cell_type": "code",
   "execution_count": 0,
   "metadata": {
    "application/vnd.databricks.v1+cell": {
     "cellMetadata": {
      "byteLimit": 2048000,
      "rowLimit": 10000
     },
     "inputWidgets": {},
     "nuid": "b9c7c6e3-0436-44eb-a02c-90008a2af06f",
     "showTitle": false,
     "title": ""
    }
   },
   "outputs": [],
   "source": [
    "from pyspark.sql import Window\n",
    "from pyspark.sql import functions as F\n",
    "\n",
    "# Filter the rows where the rating is not 0 or not null and flag is not inactive\n",
    "filtered_df = ranking_df.filter(\n",
    "    (ranking_df.rating != 0) & (ranking_df.rating.isNotNull()) & (ranking_df.flag != 'wi') & (ranking_df.flag != 'i') \n",
    ")\n",
    "\n",
    "# Define a window specification to partition by country and month, and order by rating in descending order\n",
    "window_spec = Window.partitionBy('country', 'rating_date').orderBy(F.desc('rating'))\n",
    "\n",
    "# Add a rank column within each partition\n",
    "ranked_df = filtered_df.withColumn('rank', F.row_number().over(window_spec))\n",
    "\n",
    "# Filter to keep only the top 10 players by country and month\n",
    "top_10_df = ranked_df.filter(ranked_df.rank <= 10)\n",
    "\n",
    "# Group by country and month and calculate the average rating of the top 10 players\n",
    "average_rating_by_country_month = top_10_df.groupBy('country', 'rating_date').agg(\n",
    "    F.avg('rating').alias('average_rating')\n",
    ")\n",
    "\n",
    "# Add a rank column for the grouping by country and month\n",
    "window_spec_country = Window.partitionBy('rating_date').orderBy(F.desc('average_rating'))\n",
    "average_rating_by_country_month = average_rating_by_country_month.withColumn(\n",
    "    'rank', F.row_number().over(window_spec_country)\n",
    ")\n",
    "\n",
    "# Order by month (most recent to oldest) and average rating, and round the average to one decimal place\n",
    "average_rating_by_country_month = average_rating_by_country_month.orderBy(\n",
    "    F.desc('rating_date'), \n",
    "    F.desc('average_rating')\n",
    ").withColumn('average_rating', F.round('average_rating', 1))\n",
    "\n",
    "# Display the result\n",
    "display(average_rating_by_country_month)\n"
   ]
  },
  {
   "cell_type": "code",
   "execution_count": 0,
   "metadata": {
    "application/vnd.databricks.v1+cell": {
     "cellMetadata": {
      "byteLimit": 2048000,
      "rowLimit": 10000
     },
     "inputWidgets": {},
     "nuid": "c6bb693f-a16d-4ff9-94ac-7e49146c0e3b",
     "showTitle": false,
     "title": ""
    }
   },
   "outputs": [],
   "source": [
    "average_rating_by_country_month.write.mode('overwrite').saveAsTable('gold.mix_fed_rank_evolution')"
   ]
  },
  {
   "cell_type": "markdown",
   "metadata": {
    "application/vnd.databricks.v1+cell": {
     "cellMetadata": {},
     "inputWidgets": {},
     "nuid": "3016cfb3-1c2a-4923-abda-7ea0d4f224bf",
     "showTitle": false,
     "title": ""
    }
   },
   "source": [
    "- Showing the ranking evolution of India"
   ]
  },
  {
   "cell_type": "code",
   "execution_count": 0,
   "metadata": {
    "application/vnd.databricks.v1+cell": {
     "cellMetadata": {
      "byteLimit": 2048000,
      "rowLimit": 10000
     },
     "inputWidgets": {},
     "nuid": "909f96ea-0d01-408b-96ce-a1681d6195d4",
     "showTitle": false,
     "title": ""
    }
   },
   "outputs": [],
   "source": [
    "# Filtering just country = 'IND'\n",
    "average_rating_india = average_rating_by_country_month.filter(average_rating_by_country_month.country == 'IND')\n",
    "\n",
    "display(average_rating_india)"
   ]
  },
  {
   "cell_type": "code",
   "execution_count": 0,
   "metadata": {
    "application/vnd.databricks.v1+cell": {
     "cellMetadata": {
      "byteLimit": 2048000,
      "rowLimit": 10000
     },
     "inputWidgets": {},
     "nuid": "b4a32e5b-0d6b-42e7-b4e6-cdc7182e5baf",
     "showTitle": false,
     "title": ""
    }
   },
   "outputs": [],
   "source": [
    "average_rating_india.write.mode('overwrite').saveAsTable('gold.mix_IND_rank_evolution')"
   ]
  },
  {
   "cell_type": "code",
   "execution_count": 0,
   "metadata": {
    "application/vnd.databricks.v1+cell": {
     "cellMetadata": {
      "byteLimit": 2048000,
      "rowLimit": 10000
     },
     "inputWidgets": {},
     "nuid": "203df8ff-b813-4826-810c-369b6b368035",
     "showTitle": false,
     "title": ""
    }
   },
   "outputs": [],
   "source": [
    "from pyspark.sql.functions import date_format\n",
    "\n",
    "average_rating_india = average_rating_india.withColumn('rating_date', date_format('rating_date', 'MMM/yyyy'))\n",
    "display(average_rating_india)"
   ]
  },
  {
   "cell_type": "code",
   "execution_count": 0,
   "metadata": {
    "application/vnd.databricks.v1+cell": {
     "cellMetadata": {
      "byteLimit": 2048000,
      "rowLimit": 10000
     },
     "inputWidgets": {},
     "nuid": "be909e93-49c4-4643-a784-08f96db99f61",
     "showTitle": false,
     "title": ""
    }
   },
   "outputs": [],
   "source": [
    "import pandas as pd\n",
    "import matplotlib.pyplot as plt\n",
    "from pyspark.sql.functions import to_date\n",
    "\n",
    "average_rating_india2 = average_rating_india.withColumn('rating_date', to_date('rating_date', 'MMM/yyyy'))\n",
    "\n",
    "# Convert DataFrame Spark to Pandas DataFrame\n",
    "df_pandas = average_rating_india2.toPandas()\n",
    "\n",
    "# Order data per date\n",
    "df_pandas = df_pandas.sort_values(by='rating_date')\n",
    "\n",
    "# Data plot\n",
    "plt.figure(figsize=(14, 7))\n",
    "plt.plot(df_pandas['rating_date'], df_pandas['rank'], marker='o', linestyle='-', color='skyblue')\n",
    "plt.title('India Position Evolution in Federations Ranking')\n",
    "plt.xlabel('Date')\n",
    "plt.ylabel('Ranking Position')\n",
    "\n",
    "# Better view of date in the X axis\n",
    "plt.xticks(rotation=45)\n",
    "\n",
    "# Invert Y axis\n",
    "plt.gca().invert_yaxis()\n",
    "plt.ylim(10, 1)\n",
    "plt.yticks(range(1, 10))\n",
    "plt.grid(True)\n",
    "plt.tight_layout()\n",
    "\n",
    "plt.show()"
   ]
  }
 ],
 "metadata": {
  "application/vnd.databricks.v1+notebook": {
   "dashboards": [],
   "environmentMetadata": null,
   "language": "python",
   "notebookMetadata": {
    "pythonIndentUnit": 4
   },
   "notebookName": "silver to gold - fed ranking evolution by time",
   "widgets": {}
  }
 },
 "nbformat": 4,
 "nbformat_minor": 0
}
