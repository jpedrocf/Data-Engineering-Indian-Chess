{
 "cells": [
  {
   "cell_type": "markdown",
   "metadata": {
    "application/vnd.databricks.v1+cell": {
     "cellMetadata": {},
     "inputWidgets": {},
     "nuid": "cdc19763-9fdf-4ad1-8ace-a479e8badc1f",
     "showTitle": false,
     "title": ""
    }
   },
   "source": [
    "- Checking the 'M' filter at sex"
   ]
  },
  {
   "cell_type": "code",
   "execution_count": 0,
   "metadata": {
    "application/vnd.databricks.v1+cell": {
     "cellMetadata": {},
     "inputWidgets": {},
     "nuid": "fca35a66-c1c1-49f7-9f55-2f9cff5c3532",
     "showTitle": false,
     "title": ""
    }
   },
   "outputs": [],
   "source": [
    "%sql\n",
    "select *\n",
    "from silver.players_current_month\n",
    "where sex = 'M'"
   ]
  },
  {
   "cell_type": "markdown",
   "metadata": {
    "application/vnd.databricks.v1+cell": {
     "cellMetadata": {},
     "inputWidgets": {},
     "nuid": "ecb18c58-f0e0-46d2-8428-dce9b96db5c9",
     "showTitle": false,
     "title": ""
    }
   },
   "source": [
    "- Creating a dataframe from the players_current_month table with the filter 'M' in sex to include only male players and then saving it as a new table in the silver layer"
   ]
  },
  {
   "cell_type": "code",
   "execution_count": 0,
   "metadata": {
    "application/vnd.databricks.v1+cell": {
     "cellMetadata": {},
     "inputWidgets": {},
     "nuid": "1191b1f1-aa6e-4d5b-a0b3-34bf07877d49",
     "showTitle": false,
     "title": ""
    }
   },
   "outputs": [],
   "source": [
    "players_male_base = spark.table('silver.players_current_month').filter(\"sex = 'M'\")\n",
    "display(players_male_base)"
   ]
  },
  {
   "cell_type": "code",
   "execution_count": 0,
   "metadata": {
    "application/vnd.databricks.v1+cell": {
     "cellMetadata": {},
     "inputWidgets": {},
     "nuid": "5ae717e1-40f8-427f-9c9a-e48ec180819f",
     "showTitle": false,
     "title": ""
    }
   },
   "outputs": [],
   "source": [
    "display(players_male_base.groupBy('sex').count())"
   ]
  },
  {
   "cell_type": "code",
   "execution_count": 0,
   "metadata": {
    "application/vnd.databricks.v1+cell": {
     "cellMetadata": {},
     "inputWidgets": {},
     "nuid": "cbbff064-d1b3-4b5f-b3ac-6d4b517ac09d",
     "showTitle": false,
     "title": ""
    }
   },
   "outputs": [],
   "source": [
    "players_male_base.write.mode('overwrite').saveAsTable('silver.players_male_base')"
   ]
  }
 ],
 "metadata": {
  "application/vnd.databricks.v1+notebook": {
   "dashboards": [],
   "environmentMetadata": null,
   "language": "python",
   "notebookMetadata": {},
   "notebookName": "Male_filter_base",
   "widgets": {}
  }
 },
 "nbformat": 4,
 "nbformat_minor": 0
}
