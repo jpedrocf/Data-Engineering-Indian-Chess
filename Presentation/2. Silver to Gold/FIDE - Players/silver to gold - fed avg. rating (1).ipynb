{
 "cells": [
  {
   "cell_type": "markdown",
   "metadata": {
    "application/vnd.databricks.v1+cell": {
     "cellMetadata": {},
     "inputWidgets": {},
     "nuid": "179c5586-1775-4327-adf1-29bc1fb46733",
     "showTitle": false,
     "title": ""
    }
   },
   "source": [
    "- Dataframe creation of the table players_male_Base in the silver DB, using Spark"
   ]
  },
  {
   "cell_type": "code",
   "execution_count": 0,
   "metadata": {
    "application/vnd.databricks.v1+cell": {
     "cellMetadata": {
      "byteLimit": 2048000,
      "rowLimit": 10000
     },
     "inputWidgets": {},
     "nuid": "b884bb50-5bab-402e-af43-c9c84a3e8f0a",
     "showTitle": false,
     "title": ""
    }
   },
   "outputs": [],
   "source": [
    "avg_rating_df = spark.table('silver.players_male_base')"
   ]
  },
  {
   "cell_type": "markdown",
   "metadata": {
    "application/vnd.databricks.v1+cell": {
     "cellMetadata": {},
     "inputWidgets": {},
     "nuid": "a703f6ed-677a-4a43-b234-57fdb68aa06a",
     "showTitle": false,
     "title": ""
    }
   },
   "source": [
    "- Filtering top 10 players per country, where flag is not inactive"
   ]
  },
  {
   "cell_type": "code",
   "execution_count": 0,
   "metadata": {
    "application/vnd.databricks.v1+cell": {
     "cellMetadata": {
      "byteLimit": 2048000,
      "rowLimit": 10000
     },
     "inputWidgets": {},
     "nuid": "fda51d36-9650-48f9-91a8-aeee36923613",
     "showTitle": false,
     "title": ""
    }
   },
   "outputs": [
    {
     "output_type": "display_data",
     "data": {
      "text/html": [
       "<style scoped>\n",
       "  .table-result-container {\n",
       "    max-height: 300px;\n",
       "    overflow: auto;\n",
       "  }\n",
       "  table, th, td {\n",
       "    border: 1px solid black;\n",
       "    border-collapse: collapse;\n",
       "  }\n",
       "  th, td {\n",
       "    padding: 5px;\n",
       "  }\n",
       "  th {\n",
       "    text-align: left;\n",
       "  }\n",
       "</style><div class='table-result-container'><table class='table-result'><thead style='background-color: white'><tr><th>country</th><th>average_rating</th></tr></thead><tbody><tr><td>USA</td><td>2726.9</td></tr><tr><td>IND</td><td>2714.1</td></tr><tr><td>CHN</td><td>2683.6</td></tr><tr><td>RUS</td><td>2667.1</td></tr><tr><td>UKR</td><td>2637.2</td></tr><tr><td>AZE</td><td>2634.9</td></tr><tr><td>FID</td><td>2634.4</td></tr><tr><td>GER</td><td>2632.8</td></tr><tr><td>ESP</td><td>2629.9</td></tr><tr><td>FRA</td><td>2629.3</td></tr><tr><td>ARM</td><td>2627.4</td></tr><tr><td>NED</td><td>2618.5</td></tr><tr><td>POL</td><td>2607.5</td></tr><tr><td>ENG</td><td>2600.3</td></tr><tr><td>UZB</td><td>2598.5</td></tr><tr><td>HUN</td><td>2597.9</td></tr><tr><td>ROU</td><td>2595.4</td></tr><tr><td>ISR</td><td>2587.4</td></tr><tr><td>NOR</td><td>2586.9</td></tr><tr><td>SRB</td><td>2575.6</td></tr><tr><td>CZE</td><td>2571.3</td></tr><tr><td>IRI</td><td>2565.9</td></tr><tr><td>CRO</td><td>2563.3</td></tr><tr><td>NON</td><td>2556.0</td></tr><tr><td>GRE</td><td>2553.0</td></tr><tr><td>TUR</td><td>2552.5</td></tr><tr><td>SLO</td><td>2538.9</td></tr><tr><td>ARG</td><td>2536.8</td></tr><tr><td>CUB</td><td>2535.9</td></tr><tr><td>GEO</td><td>2531.2</td></tr><tr><td>ITA</td><td>2531.2</td></tr><tr><td>SWE</td><td>2531.0</td></tr><tr><td>AUT</td><td>2526.4</td></tr><tr><td>BUL</td><td>2526.0</td></tr><tr><td>DEN</td><td>2519.8</td></tr><tr><td>SUI</td><td>2513.9</td></tr><tr><td>BRA</td><td>2508.5</td></tr><tr><td>SVK</td><td>2493.4</td></tr><tr><td>LTU</td><td>2492.5</td></tr><tr><td>VIE</td><td>2492.1</td></tr><tr><td>KAZ</td><td>2491.1</td></tr><tr><td>CAN</td><td>2490.8</td></tr><tr><td>MDA</td><td>2481.3</td></tr><tr><td>MNE</td><td>2481.1</td></tr><tr><td>BEL</td><td>2477.6</td></tr><tr><td>AUS</td><td>2475.9</td></tr><tr><td>PER</td><td>2474.2</td></tr><tr><td>ISL</td><td>2472.9</td></tr><tr><td>COL</td><td>2469.1</td></tr><tr><td>MEX</td><td>2459.1</td></tr><tr><td>BIH</td><td>2454.9</td></tr><tr><td>EGY</td><td>2449.9</td></tr><tr><td>MGL</td><td>2442.4</td></tr><tr><td>PHI</td><td>2438.4</td></tr><tr><td>LAT</td><td>2437.2</td></tr><tr><td>FIN</td><td>2434.9</td></tr><tr><td>BLR</td><td>2433.3</td></tr><tr><td>CHI</td><td>2429.7</td></tr><tr><td>MKD</td><td>2420.4</td></tr><tr><td>POR</td><td>2420.0</td></tr><tr><td>INA</td><td>2416.9</td></tr><tr><td>SGP</td><td>2395.1</td></tr><tr><td>PAR</td><td>2389.6</td></tr><tr><td>EST</td><td>2382.5</td></tr><tr><td>SCO</td><td>2373.8</td></tr><tr><td>IRL</td><td>2371.7</td></tr><tr><td>VEN</td><td>2363.0</td></tr><tr><td>URU</td><td>2354.5</td></tr><tr><td>KGZ</td><td>2348.1</td></tr><tr><td>MAR</td><td>2329.8</td></tr><tr><td>BAN</td><td>2320.7</td></tr><tr><td>TKM</td><td>2306.2</td></tr><tr><td>AND</td><td>2301.2</td></tr><tr><td>RSA</td><td>2294.1</td></tr><tr><td>ALB</td><td>2290.1</td></tr><tr><td>NZL</td><td>2281.6</td></tr><tr><td>GEQ</td><td>2279.0</td></tr><tr><td>FAI</td><td>2275.8</td></tr><tr><td>KOS</td><td>2271.0</td></tr><tr><td>MAS</td><td>2267.2</td></tr><tr><td>MYA</td><td>2264.0</td></tr><tr><td>ALG</td><td>2262.6</td></tr><tr><td>ZAM</td><td>2257.0</td></tr><tr><td>CRC</td><td>2252.2</td></tr><tr><td>UAE</td><td>2251.5</td></tr><tr><td>JPN</td><td>2249.9</td></tr><tr><td>NGR</td><td>2244.0</td></tr><tr><td>ECU</td><td>2232.8</td></tr><tr><td>DOM</td><td>2232.7</td></tr><tr><td>WLS</td><td>2229.9</td></tr><tr><td>LUX</td><td>2227.7</td></tr><tr><td>TUN</td><td>2219.7</td></tr><tr><td>BOL</td><td>2219.5</td></tr><tr><td>MNC</td><td>2218.9</td></tr><tr><td>SYR</td><td>2216.5</td></tr><tr><td>PAN</td><td>2205.6</td></tr><tr><td>TTO</td><td>2199.1</td></tr><tr><td>NCA</td><td>2198.4</td></tr><tr><td>TJK</td><td>2197.9</td></tr><tr><td>LBN</td><td>2197.4</td></tr><tr><td>IRQ</td><td>2188.7</td></tr><tr><td>JOR</td><td>2187.8</td></tr><tr><td>ZIM</td><td>2187.4</td></tr><tr><td>ANG</td><td>2177.8</td></tr><tr><td>UGA</td><td>2167.5</td></tr><tr><td>ESA</td><td>2167.3</td></tr><tr><td>SRI</td><td>2148.4</td></tr><tr><td>MAD</td><td>2145.9</td></tr><tr><td>THA</td><td>2138.0</td></tr><tr><td>KOR</td><td>2118.5</td></tr><tr><td>GUA</td><td>2116.7</td></tr><tr><td>HON</td><td>2115.7</td></tr><tr><td>MLT</td><td>2111.8</td></tr><tr><td>PUR</td><td>2091.6</td></tr><tr><td>LBA</td><td>2083.4</td></tr><tr><td>JAM</td><td>2074.1</td></tr><tr><td>ETH</td><td>2067.5</td></tr><tr><td>SUD</td><td>2065.5</td></tr><tr><td>SSD</td><td>2058.2</td></tr><tr><td>YEM</td><td>2055.9</td></tr><tr><td>CYP</td><td>2053.7</td></tr><tr><td>PAK</td><td>2047.6</td></tr><tr><td>HKG</td><td>2046.2</td></tr><tr><td>NEP</td><td>2045.8</td></tr><tr><td>AHO</td><td>2021.8</td></tr><tr><td>LIE</td><td>2013.9</td></tr><tr><td>BOT</td><td>2010.8</td></tr><tr><td>BAR</td><td>2009.0</td></tr><tr><td>MAW</td><td>2008.7</td></tr><tr><td>PLE</td><td>2007.9</td></tr><tr><td>VIN</td><td>2001.0</td></tr><tr><td>TPE</td><td>1997.1</td></tr><tr><td>KEN</td><td>1993.2</td></tr><tr><td>BRU</td><td>1991.0</td></tr><tr><td>ARU</td><td>1985.9</td></tr><tr><td>AFG</td><td>1972.3</td></tr><tr><td>MOZ</td><td>1970.8</td></tr><tr><td>JCI</td><td>1965.4</td></tr><tr><td>KSA</td><td>1962.6</td></tr><tr><td>CPV</td><td>1960.0</td></tr><tr><td>NAM</td><td>1958.6</td></tr><tr><td>CIV</td><td>1956.6</td></tr><tr><td>SEY</td><td>1949.3</td></tr><tr><td>IOM</td><td>1942.5</td></tr><tr><td>SUR</td><td>1939.8</td></tr><tr><td>HAI</td><td>1937.9</td></tr><tr><td>LBR</td><td>1922.7</td></tr><tr><td>MTN</td><td>1910.9</td></tr><tr><td>OMA</td><td>1902.7</td></tr><tr><td>GHA</td><td>1899.0</td></tr><tr><td>SOM</td><td>1898.7</td></tr><tr><td>BDI</td><td>1895.3</td></tr><tr><td>GCI</td><td>1878.3</td></tr><tr><td>BER</td><td>1875.6</td></tr><tr><td>BRN</td><td>1875.0</td></tr><tr><td>CHA</td><td>1872.0</td></tr><tr><td>GAM</td><td>1865.2</td></tr><tr><td>GUM</td><td>1861.2</td></tr><tr><td>MRI</td><td>1860.0</td></tr><tr><td>MLI</td><td>1848.5</td></tr><tr><td>ERI</td><td>1843.0</td></tr><tr><td>RWA</td><td>1840.3</td></tr><tr><td>SEN</td><td>1828.9</td></tr><tr><td>STP</td><td>1827.0</td></tr><tr><td>KUW</td><td>1826.8</td></tr><tr><td>TAN</td><td>1819.6</td></tr><tr><td>ISV</td><td>1818.4</td></tr><tr><td>GUY</td><td>1815.7</td></tr><tr><td>NRU</td><td>1815.3</td></tr><tr><td>BIZ</td><td>1806.0</td></tr><tr><td>MDV</td><td>1802.8</td></tr><tr><td>TOG</td><td>1802.2</td></tr><tr><td>FIJ</td><td>1802.1</td></tr><tr><td>PNG</td><td>1798.7</td></tr><tr><td>PLW</td><td>1796.2</td></tr><tr><td>BAH</td><td>1793.2</td></tr><tr><td>COM</td><td>1778.0</td></tr><tr><td>LES</td><td>1773.7</td></tr><tr><td>DJI</td><td>1768.6</td></tr><tr><td>BUR</td><td>1768.0</td></tr><tr><td>CAY</td><td>1767.1</td></tr><tr><td>LAO</td><td>1766.0</td></tr><tr><td>SMR</td><td>1746.7</td></tr><tr><td>SLE</td><td>1743.8</td></tr><tr><td>CAM</td><td>1742.3</td></tr><tr><td>SWZ</td><td>1740.1</td></tr><tr><td>GAB</td><td>1724.8</td></tr><tr><td>SKN</td><td>1722.0</td></tr><tr><td>BHU</td><td>1715.2</td></tr><tr><td>CMR</td><td>1714.0</td></tr><tr><td>MAC</td><td>1704.4</td></tr><tr><td>QAT</td><td>1664.5</td></tr><tr><td>LCA</td><td>1650.1</td></tr><tr><td>NIG</td><td>1645.0</td></tr><tr><td>COD</td><td>1605.0</td></tr><tr><td>DMA</td><td>1571.3</td></tr><tr><td>GRN</td><td>1411.0</td></tr></tbody></table></div>"
      ]
     },
     "metadata": {
      "application/vnd.databricks.v1+output": {
       "addedWidgets": {},
       "aggData": [],
       "aggError": "",
       "aggOverflow": false,
       "aggSchema": [],
       "aggSeriesLimitReached": false,
       "aggType": "",
       "arguments": {},
       "columnCustomDisplayInfos": {},
       "data": [
        [
         "USA",
         2726.9
        ],
        [
         "IND",
         2714.1
        ],
        [
         "CHN",
         2683.6
        ],
        [
         "RUS",
         2667.1
        ],
        [
         "UKR",
         2637.2
        ],
        [
         "AZE",
         2634.9
        ],
        [
         "FID",
         2634.4
        ],
        [
         "GER",
         2632.8
        ],
        [
         "ESP",
         2629.9
        ],
        [
         "FRA",
         2629.3
        ],
        [
         "ARM",
         2627.4
        ],
        [
         "NED",
         2618.5
        ],
        [
         "POL",
         2607.5
        ],
        [
         "ENG",
         2600.3
        ],
        [
         "UZB",
         2598.5
        ],
        [
         "HUN",
         2597.9
        ],
        [
         "ROU",
         2595.4
        ],
        [
         "ISR",
         2587.4
        ],
        [
         "NOR",
         2586.9
        ],
        [
         "SRB",
         2575.6
        ],
        [
         "CZE",
         2571.3
        ],
        [
         "IRI",
         2565.9
        ],
        [
         "CRO",
         2563.3
        ],
        [
         "NON",
         2556.0
        ],
        [
         "GRE",
         2553.0
        ],
        [
         "TUR",
         2552.5
        ],
        [
         "SLO",
         2538.9
        ],
        [
         "ARG",
         2536.8
        ],
        [
         "CUB",
         2535.9
        ],
        [
         "GEO",
         2531.2
        ],
        [
         "ITA",
         2531.2
        ],
        [
         "SWE",
         2531.0
        ],
        [
         "AUT",
         2526.4
        ],
        [
         "BUL",
         2526.0
        ],
        [
         "DEN",
         2519.8
        ],
        [
         "SUI",
         2513.9
        ],
        [
         "BRA",
         2508.5
        ],
        [
         "SVK",
         2493.4
        ],
        [
         "LTU",
         2492.5
        ],
        [
         "VIE",
         2492.1
        ],
        [
         "KAZ",
         2491.1
        ],
        [
         "CAN",
         2490.8
        ],
        [
         "MDA",
         2481.3
        ],
        [
         "MNE",
         2481.1
        ],
        [
         "BEL",
         2477.6
        ],
        [
         "AUS",
         2475.9
        ],
        [
         "PER",
         2474.2
        ],
        [
         "ISL",
         2472.9
        ],
        [
         "COL",
         2469.1
        ],
        [
         "MEX",
         2459.1
        ],
        [
         "BIH",
         2454.9
        ],
        [
         "EGY",
         2449.9
        ],
        [
         "MGL",
         2442.4
        ],
        [
         "PHI",
         2438.4
        ],
        [
         "LAT",
         2437.2
        ],
        [
         "FIN",
         2434.9
        ],
        [
         "BLR",
         2433.3
        ],
        [
         "CHI",
         2429.7
        ],
        [
         "MKD",
         2420.4
        ],
        [
         "POR",
         2420.0
        ],
        [
         "INA",
         2416.9
        ],
        [
         "SGP",
         2395.1
        ],
        [
         "PAR",
         2389.6
        ],
        [
         "EST",
         2382.5
        ],
        [
         "SCO",
         2373.8
        ],
        [
         "IRL",
         2371.7
        ],
        [
         "VEN",
         2363.0
        ],
        [
         "URU",
         2354.5
        ],
        [
         "KGZ",
         2348.1
        ],
        [
         "MAR",
         2329.8
        ],
        [
         "BAN",
         2320.7
        ],
        [
         "TKM",
         2306.2
        ],
        [
         "AND",
         2301.2
        ],
        [
         "RSA",
         2294.1
        ],
        [
         "ALB",
         2290.1
        ],
        [
         "NZL",
         2281.6
        ],
        [
         "GEQ",
         2279.0
        ],
        [
         "FAI",
         2275.8
        ],
        [
         "KOS",
         2271.0
        ],
        [
         "MAS",
         2267.2
        ],
        [
         "MYA",
         2264.0
        ],
        [
         "ALG",
         2262.6
        ],
        [
         "ZAM",
         2257.0
        ],
        [
         "CRC",
         2252.2
        ],
        [
         "UAE",
         2251.5
        ],
        [
         "JPN",
         2249.9
        ],
        [
         "NGR",
         2244.0
        ],
        [
         "ECU",
         2232.8
        ],
        [
         "DOM",
         2232.7
        ],
        [
         "WLS",
         2229.9
        ],
        [
         "LUX",
         2227.7
        ],
        [
         "TUN",
         2219.7
        ],
        [
         "BOL",
         2219.5
        ],
        [
         "MNC",
         2218.9
        ],
        [
         "SYR",
         2216.5
        ],
        [
         "PAN",
         2205.6
        ],
        [
         "TTO",
         2199.1
        ],
        [
         "NCA",
         2198.4
        ],
        [
         "TJK",
         2197.9
        ],
        [
         "LBN",
         2197.4
        ],
        [
         "IRQ",
         2188.7
        ],
        [
         "JOR",
         2187.8
        ],
        [
         "ZIM",
         2187.4
        ],
        [
         "ANG",
         2177.8
        ],
        [
         "UGA",
         2167.5
        ],
        [
         "ESA",
         2167.3
        ],
        [
         "SRI",
         2148.4
        ],
        [
         "MAD",
         2145.9
        ],
        [
         "THA",
         2138.0
        ],
        [
         "KOR",
         2118.5
        ],
        [
         "GUA",
         2116.7
        ],
        [
         "HON",
         2115.7
        ],
        [
         "MLT",
         2111.8
        ],
        [
         "PUR",
         2091.6
        ],
        [
         "LBA",
         2083.4
        ],
        [
         "JAM",
         2074.1
        ],
        [
         "ETH",
         2067.5
        ],
        [
         "SUD",
         2065.5
        ],
        [
         "SSD",
         2058.2
        ],
        [
         "YEM",
         2055.9
        ],
        [
         "CYP",
         2053.7
        ],
        [
         "PAK",
         2047.6
        ],
        [
         "HKG",
         2046.2
        ],
        [
         "NEP",
         2045.8
        ],
        [
         "AHO",
         2021.8
        ],
        [
         "LIE",
         2013.9
        ],
        [
         "BOT",
         2010.8
        ],
        [
         "BAR",
         2009.0
        ],
        [
         "MAW",
         2008.7
        ],
        [
         "PLE",
         2007.9
        ],
        [
         "VIN",
         2001.0
        ],
        [
         "TPE",
         1997.1
        ],
        [
         "KEN",
         1993.2
        ],
        [
         "BRU",
         1991.0
        ],
        [
         "ARU",
         1985.9
        ],
        [
         "AFG",
         1972.3
        ],
        [
         "MOZ",
         1970.8
        ],
        [
         "JCI",
         1965.4
        ],
        [
         "KSA",
         1962.6
        ],
        [
         "CPV",
         1960.0
        ],
        [
         "NAM",
         1958.6
        ],
        [
         "CIV",
         1956.6
        ],
        [
         "SEY",
         1949.3
        ],
        [
         "IOM",
         1942.5
        ],
        [
         "SUR",
         1939.8
        ],
        [
         "HAI",
         1937.9
        ],
        [
         "LBR",
         1922.7
        ],
        [
         "MTN",
         1910.9
        ],
        [
         "OMA",
         1902.7
        ],
        [
         "GHA",
         1899.0
        ],
        [
         "SOM",
         1898.7
        ],
        [
         "BDI",
         1895.3
        ],
        [
         "GCI",
         1878.3
        ],
        [
         "BER",
         1875.6
        ],
        [
         "BRN",
         1875.0
        ],
        [
         "CHA",
         1872.0
        ],
        [
         "GAM",
         1865.2
        ],
        [
         "GUM",
         1861.2
        ],
        [
         "MRI",
         1860.0
        ],
        [
         "MLI",
         1848.5
        ],
        [
         "ERI",
         1843.0
        ],
        [
         "RWA",
         1840.3
        ],
        [
         "SEN",
         1828.9
        ],
        [
         "STP",
         1827.0
        ],
        [
         "KUW",
         1826.8
        ],
        [
         "TAN",
         1819.6
        ],
        [
         "ISV",
         1818.4
        ],
        [
         "GUY",
         1815.7
        ],
        [
         "NRU",
         1815.3
        ],
        [
         "BIZ",
         1806.0
        ],
        [
         "MDV",
         1802.8
        ],
        [
         "TOG",
         1802.2
        ],
        [
         "FIJ",
         1802.1
        ],
        [
         "PNG",
         1798.7
        ],
        [
         "PLW",
         1796.2
        ],
        [
         "BAH",
         1793.2
        ],
        [
         "COM",
         1778.0
        ],
        [
         "LES",
         1773.7
        ],
        [
         "DJI",
         1768.6
        ],
        [
         "BUR",
         1768.0
        ],
        [
         "CAY",
         1767.1
        ],
        [
         "LAO",
         1766.0
        ],
        [
         "SMR",
         1746.7
        ],
        [
         "SLE",
         1743.8
        ],
        [
         "CAM",
         1742.3
        ],
        [
         "SWZ",
         1740.1
        ],
        [
         "GAB",
         1724.8
        ],
        [
         "SKN",
         1722.0
        ],
        [
         "BHU",
         1715.2
        ],
        [
         "CMR",
         1714.0
        ],
        [
         "MAC",
         1704.4
        ],
        [
         "QAT",
         1664.5
        ],
        [
         "LCA",
         1650.1
        ],
        [
         "NIG",
         1645.0
        ],
        [
         "COD",
         1605.0
        ],
        [
         "DMA",
         1571.3
        ],
        [
         "GRN",
         1411.0
        ]
       ],
       "datasetInfos": [],
       "dbfsResultPath": null,
       "isJsonSchema": true,
       "metadata": {},
       "overflow": false,
       "plotOptions": {
        "customPlotOptions": {},
        "displayType": "table",
        "pivotAggregation": null,
        "pivotColumns": null,
        "xColumns": null,
        "yColumns": null
       },
       "removedWidgets": [],
       "schema": [
        {
         "metadata": "{\"comment\":\"Nationality code of the player, country (3 characters)\"}",
         "name": "country",
         "type": "\"string\""
        },
        {
         "metadata": "{}",
         "name": "average_rating",
         "type": "\"double\""
        }
       ],
       "type": "table"
      }
     },
     "output_type": "display_data"
    }
   ],
   "source": [
    "from pyspark.sql import Window\n",
    "from pyspark.sql import functions as F\n",
    "\n",
    "# Filter out rows where the rating is 0 or null and the flag is not inactive\n",
    "filtered_df = avg_rating_df.filter((avg_rating_df.rating != 0) & (avg_rating_df.rating.isNotNull()) & (avg_rating_df.flag.isNull()))\n",
    "\n",
    "# Define a window specification to partition by country and order by rating descending\n",
    "window_spec = Window.partitionBy('country').orderBy(F.desc('rating'))\n",
    "\n",
    "# Add a row number within each partition\n",
    "ranked_df = filtered_df.withColumn('rank', F.row_number().over(window_spec))\n",
    "\n",
    "# Filter to keep only the top 10 players per country\n",
    "top_10_df = ranked_df.filter(ranked_df.rank <= 10)\n",
    "\n",
    "# Group by country and calculate the average rating of the top 10 players\n",
    "average_rating_by_country = top_10_df.groupBy('country').agg(\n",
    "    F.avg('rating').alias('average_rating')\n",
    ")\n",
    "\n",
    "# Order by average_rating in descending order and round to 1 decimal place\n",
    "average_rating_by_country = average_rating_by_country.orderBy(F.desc('average_rating')).withColumn('average_rating', F.round('average_rating', 1))\n",
    "\n",
    "# Display the result\n",
    "display(average_rating_by_country)\n"
   ]
  },
  {
   "cell_type": "code",
   "execution_count": 0,
   "metadata": {
    "application/vnd.databricks.v1+cell": {
     "cellMetadata": {},
     "inputWidgets": {},
     "nuid": "86880495-7d74-46ab-bbaf-ab502c06839e",
     "showTitle": false,
     "title": ""
    }
   },
   "outputs": [],
   "source": [
    "average_rating_by_country.write.mode('overwrite').saveAsTable('gold.m_top10_average_rating_by_country')"
   ]
  }
 ],
 "metadata": {
  "application/vnd.databricks.v1+notebook": {
   "dashboards": [],
   "environmentMetadata": null,
   "language": "python",
   "notebookMetadata": {
    "pythonIndentUnit": 4
   },
   "notebookName": "silver to gold - fed avg. rating",
   "widgets": {}
  }
 },
 "nbformat": 4,
 "nbformat_minor": 0
}
