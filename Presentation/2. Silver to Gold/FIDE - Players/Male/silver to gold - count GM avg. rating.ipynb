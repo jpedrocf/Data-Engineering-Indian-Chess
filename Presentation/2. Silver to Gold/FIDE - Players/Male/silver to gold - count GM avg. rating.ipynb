{
 "cells": [
  {
   "cell_type": "markdown",
   "metadata": {
    "application/vnd.databricks.v1+cell": {
     "cellMetadata": {},
     "inputWidgets": {},
     "nuid": "b4fe01ca-6b70-46a1-b1b1-bb4d0ae8bc4f",
     "showTitle": false,
     "title": ""
    }
   },
   "source": [
    "- Dataframe creation of the table players_male_Base in the silver DB, using Spark"
   ]
  },
  {
   "cell_type": "code",
   "execution_count": 0,
   "metadata": {
    "application/vnd.databricks.v1+cell": {
     "cellMetadata": {
      "byteLimit": 2048000,
      "rowLimit": 10000
     },
     "inputWidgets": {},
     "nuid": "1dc71314-2afc-44db-ab13-831edde00586",
     "showTitle": false,
     "title": ""
    }
   },
   "outputs": [],
   "source": [
    "gm_avg_rating_df = spark.table('silver.players_male_base')"
   ]
  },
  {
   "cell_type": "markdown",
   "metadata": {
    "application/vnd.databricks.v1+cell": {
     "cellMetadata": {},
     "inputWidgets": {},
     "nuid": "bb9d8124-061a-49ee-b54e-d81136a1e41b",
     "showTitle": false,
     "title": ""
    }
   },
   "source": [
    "- Filtering and counting active GM players per country"
   ]
  },
  {
   "cell_type": "code",
   "execution_count": 0,
   "metadata": {
    "application/vnd.databricks.v1+cell": {
     "cellMetadata": {
      "byteLimit": 2048000,
      "rowLimit": 10000
     },
     "inputWidgets": {},
     "nuid": "4966c03f-bd92-45fa-99dc-612eae4adb33",
     "showTitle": false,
     "title": ""
    }
   },
   "outputs": [
    {
     "output_type": "display_data",
     "data": {
      "text/html": [
       "<style scoped>\n",
       "  .table-result-container {\n",
       "    max-height: 300px;\n",
       "    overflow: auto;\n",
       "  }\n",
       "  table, th, td {\n",
       "    border: 1px solid black;\n",
       "    border-collapse: collapse;\n",
       "  }\n",
       "  th, td {\n",
       "    padding: 5px;\n",
       "  }\n",
       "  th {\n",
       "    text-align: left;\n",
       "  }\n",
       "</style><div class='table-result-container'><table class='table-result'><thead style='background-color: white'><tr><th>country</th><th>average_rating</th><th>players</th></tr></thead><tbody><tr><td>RUS</td><td>2475.0</td><td>79</td></tr><tr><td>GER</td><td>2478.1</td><td>74</td></tr><tr><td>IND</td><td>2527.1</td><td>67</td></tr><tr><td>USA</td><td>2519.3</td><td>66</td></tr><tr><td>FRA</td><td>2494.0</td><td>47</td></tr><tr><td>UKR</td><td>2520.6</td><td>46</td></tr><tr><td>ESP</td><td>2472.9</td><td>46</td></tr><tr><td>SRB</td><td>2411.5</td><td>46</td></tr><tr><td>ISR</td><td>2475.7</td><td>42</td></tr><tr><td>POL</td><td>2509.0</td><td>41</td></tr><tr><td>HUN</td><td>2490.7</td><td>39</td></tr><tr><td>CHN</td><td>2577.5</td><td>35</td></tr><tr><td>NED</td><td>2524.5</td><td>32</td></tr><tr><td>FID</td><td>2548.0</td><td>28</td></tr><tr><td>ENG</td><td>2480.4</td><td>28</td></tr><tr><td>CZE</td><td>2463.5</td><td>27</td></tr><tr><td>ARM</td><td>2514.6</td><td>26</td></tr><tr><td>CRO</td><td>2466.1</td><td>23</td></tr><tr><td>ROU</td><td>2512.0</td><td>22</td></tr><tr><td>AZE</td><td>2542.2</td><td>21</td></tr><tr><td>CUB</td><td>2479.5</td><td>19</td></tr><tr><td>SWE</td><td>2452.3</td><td>19</td></tr><tr><td>BUL</td><td>2445.7</td><td>19</td></tr><tr><td>GRE</td><td>2490.0</td><td>16</td></tr><tr><td>ARG</td><td>2477.9</td><td>16</td></tr><tr><td>GEO</td><td>2470.3</td><td>16</td></tr><tr><td>NOR</td><td>2523.7</td><td>15</td></tr><tr><td>IRI</td><td>2512.1</td><td>13</td></tr><tr><td>ITA</td><td>2494.1</td><td>13</td></tr><tr><td>UZB</td><td>2546.2</td><td>12</td></tr><tr><td>TUR</td><td>2515.3</td><td>12</td></tr><tr><td>VIE</td><td>2455.7</td><td>12</td></tr><tr><td>ISL</td><td>2453.5</td><td>12</td></tr><tr><td>SLO</td><td>2517.7</td><td>11</td></tr><tr><td>DEN</td><td>2488.9</td><td>11</td></tr><tr><td>BRA</td><td>2484.0</td><td>11</td></tr><tr><td>MNE</td><td>2457.3</td><td>11</td></tr><tr><td>COL</td><td>2447.3</td><td>11</td></tr><tr><td>SVK</td><td>2427.3</td><td>11</td></tr><tr><td>BLR</td><td>2399.8</td><td>11</td></tr><tr><td>AUT</td><td>2511.0</td><td>10</td></tr><tr><td>PHI</td><td>2412.6</td><td>10</td></tr><tr><td>SUI</td><td>2507.4</td><td>9</td></tr><tr><td>LTU</td><td>2485.4</td><td>9</td></tr><tr><td>MKD</td><td>2402.1</td><td>9</td></tr><tr><td>CAN</td><td>2497.0</td><td>8</td></tr><tr><td>BEL</td><td>2484.4</td><td>7</td></tr><tr><td>LAT</td><td>2459.6</td><td>7</td></tr><tr><td>MEX</td><td>2492.7</td><td>6</td></tr><tr><td>PER</td><td>2483.5</td><td>6</td></tr><tr><td>AUS</td><td>2481.5</td><td>6</td></tr><tr><td>KAZ</td><td>2460.2</td><td>6</td></tr><tr><td>MDA</td><td>2459.5</td><td>6</td></tr><tr><td>EGY</td><td>2524.2</td><td>5</td></tr><tr><td>PAR</td><td>2497.6</td><td>5</td></tr><tr><td>CHI</td><td>2489.6</td><td>5</td></tr><tr><td>BIH</td><td>2483.6</td><td>5</td></tr><tr><td>MGL</td><td>2477.0</td><td>5</td></tr><tr><td>EST</td><td>2415.5</td><td>4</td></tr><tr><td>TKM</td><td>2386.8</td><td>4</td></tr><tr><td>SGP</td><td>2380.3</td><td>4</td></tr><tr><td>BAN</td><td>2357.0</td><td>4</td></tr><tr><td>SCO</td><td>2465.7</td><td>3</td></tr><tr><td>URU</td><td>2450.7</td><td>3</td></tr><tr><td>POR</td><td>2437.0</td><td>3</td></tr><tr><td>FIN</td><td>2360.7</td><td>3</td></tr><tr><td>NON</td><td>2556.0</td><td>2</td></tr><tr><td>INA</td><td>2515.5</td><td>2</td></tr><tr><td>AND</td><td>2475.0</td><td>2</td></tr><tr><td>MNC</td><td>2342.0</td><td>2</td></tr><tr><td>TUN</td><td>2304.5</td><td>2</td></tr><tr><td>UAE</td><td>2638.0</td><td>1</td></tr><tr><td>FAI</td><td>2553.0</td><td>1</td></tr><tr><td>ALG</td><td>2535.0</td><td>1</td></tr><tr><td>MAR</td><td>2532.0</td><td>1</td></tr><tr><td>TPE</td><td>2503.0</td><td>1</td></tr><tr><td>VEN</td><td>2462.0</td><td>1</td></tr><tr><td>ECU</td><td>2417.0</td><td>1</td></tr><tr><td>BOL</td><td>2408.0</td><td>1</td></tr><tr><td>IRL</td><td>2375.0</td><td>1</td></tr><tr><td>RSA</td><td>2297.0</td><td>1</td></tr><tr><td>JOR</td><td>2278.0</td><td>1</td></tr></tbody></table></div>"
      ]
     },
     "metadata": {
      "application/vnd.databricks.v1+output": {
       "addedWidgets": {},
       "aggData": [],
       "aggError": "",
       "aggOverflow": false,
       "aggSchema": [],
       "aggSeriesLimitReached": false,
       "aggType": "",
       "arguments": {},
       "columnCustomDisplayInfos": {},
       "data": [
        [
         "RUS",
         2475.0,
         79
        ],
        [
         "GER",
         2478.1,
         74
        ],
        [
         "IND",
         2527.1,
         67
        ],
        [
         "USA",
         2519.3,
         66
        ],
        [
         "FRA",
         2494.0,
         47
        ],
        [
         "UKR",
         2520.6,
         46
        ],
        [
         "ESP",
         2472.9,
         46
        ],
        [
         "SRB",
         2411.5,
         46
        ],
        [
         "ISR",
         2475.7,
         42
        ],
        [
         "POL",
         2509.0,
         41
        ],
        [
         "HUN",
         2490.7,
         39
        ],
        [
         "CHN",
         2577.5,
         35
        ],
        [
         "NED",
         2524.5,
         32
        ],
        [
         "FID",
         2548.0,
         28
        ],
        [
         "ENG",
         2480.4,
         28
        ],
        [
         "CZE",
         2463.5,
         27
        ],
        [
         "ARM",
         2514.6,
         26
        ],
        [
         "CRO",
         2466.1,
         23
        ],
        [
         "ROU",
         2512.0,
         22
        ],
        [
         "AZE",
         2542.2,
         21
        ],
        [
         "CUB",
         2479.5,
         19
        ],
        [
         "SWE",
         2452.3,
         19
        ],
        [
         "BUL",
         2445.7,
         19
        ],
        [
         "GRE",
         2490.0,
         16
        ],
        [
         "ARG",
         2477.9,
         16
        ],
        [
         "GEO",
         2470.3,
         16
        ],
        [
         "NOR",
         2523.7,
         15
        ],
        [
         "IRI",
         2512.1,
         13
        ],
        [
         "ITA",
         2494.1,
         13
        ],
        [
         "UZB",
         2546.2,
         12
        ],
        [
         "TUR",
         2515.3,
         12
        ],
        [
         "VIE",
         2455.7,
         12
        ],
        [
         "ISL",
         2453.5,
         12
        ],
        [
         "SLO",
         2517.7,
         11
        ],
        [
         "DEN",
         2488.9,
         11
        ],
        [
         "BRA",
         2484.0,
         11
        ],
        [
         "MNE",
         2457.3,
         11
        ],
        [
         "COL",
         2447.3,
         11
        ],
        [
         "SVK",
         2427.3,
         11
        ],
        [
         "BLR",
         2399.8,
         11
        ],
        [
         "AUT",
         2511.0,
         10
        ],
        [
         "PHI",
         2412.6,
         10
        ],
        [
         "SUI",
         2507.4,
         9
        ],
        [
         "LTU",
         2485.4,
         9
        ],
        [
         "MKD",
         2402.1,
         9
        ],
        [
         "CAN",
         2497.0,
         8
        ],
        [
         "BEL",
         2484.4,
         7
        ],
        [
         "LAT",
         2459.6,
         7
        ],
        [
         "MEX",
         2492.7,
         6
        ],
        [
         "PER",
         2483.5,
         6
        ],
        [
         "AUS",
         2481.5,
         6
        ],
        [
         "KAZ",
         2460.2,
         6
        ],
        [
         "MDA",
         2459.5,
         6
        ],
        [
         "EGY",
         2524.2,
         5
        ],
        [
         "PAR",
         2497.6,
         5
        ],
        [
         "CHI",
         2489.6,
         5
        ],
        [
         "BIH",
         2483.6,
         5
        ],
        [
         "MGL",
         2477.0,
         5
        ],
        [
         "EST",
         2415.5,
         4
        ],
        [
         "TKM",
         2386.8,
         4
        ],
        [
         "SGP",
         2380.3,
         4
        ],
        [
         "BAN",
         2357.0,
         4
        ],
        [
         "SCO",
         2465.7,
         3
        ],
        [
         "URU",
         2450.7,
         3
        ],
        [
         "POR",
         2437.0,
         3
        ],
        [
         "FIN",
         2360.7,
         3
        ],
        [
         "NON",
         2556.0,
         2
        ],
        [
         "INA",
         2515.5,
         2
        ],
        [
         "AND",
         2475.0,
         2
        ],
        [
         "MNC",
         2342.0,
         2
        ],
        [
         "TUN",
         2304.5,
         2
        ],
        [
         "UAE",
         2638.0,
         1
        ],
        [
         "FAI",
         2553.0,
         1
        ],
        [
         "ALG",
         2535.0,
         1
        ],
        [
         "MAR",
         2532.0,
         1
        ],
        [
         "TPE",
         2503.0,
         1
        ],
        [
         "VEN",
         2462.0,
         1
        ],
        [
         "ECU",
         2417.0,
         1
        ],
        [
         "BOL",
         2408.0,
         1
        ],
        [
         "IRL",
         2375.0,
         1
        ],
        [
         "RSA",
         2297.0,
         1
        ],
        [
         "JOR",
         2278.0,
         1
        ]
       ],
       "datasetInfos": [],
       "dbfsResultPath": null,
       "isJsonSchema": true,
       "metadata": {},
       "overflow": false,
       "plotOptions": {
        "customPlotOptions": {},
        "displayType": "table",
        "pivotAggregation": null,
        "pivotColumns": null,
        "xColumns": null,
        "yColumns": null
       },
       "removedWidgets": [],
       "schema": [
        {
         "metadata": "{\"comment\":\"Nationality code of the player, country (3 characters)\"}",
         "name": "country",
         "type": "\"string\""
        },
        {
         "metadata": "{}",
         "name": "average_rating",
         "type": "\"double\""
        },
        {
         "metadata": "{}",
         "name": "players",
         "type": "\"long\""
        }
       ],
       "type": "table"
      }
     },
     "output_type": "display_data"
    }
   ],
   "source": [
    "from pyspark.sql import functions as F\n",
    "\n",
    "# Filter out rows where the rating is 0 or null, the player is not a GM, or the flag is null\n",
    "filtered_df = gm_avg_rating_df.filter(\n",
    "    (gm_avg_rating_df.rating != 0) & \n",
    "    (gm_avg_rating_df.rating.isNotNull()) & \n",
    "    (gm_avg_rating_df.title == 'GM') & \n",
    "    (gm_avg_rating_df.flag.isNull())\n",
    ")\n",
    "\n",
    "# Group by country and calculate the average rating\n",
    "average_rating_by_country = filtered_df.groupBy('country').agg(\n",
    "    F.avg('rating').alias('average_rating'),\n",
    "    F.count('*').alias('players')  # Add line_count column to count the number of lines per country\n",
    ")\n",
    "\n",
    "# Order by players count in descending order and average_rating in descending order\n",
    "average_rating_by_country = average_rating_by_country.orderBy(F.desc('players'), F.desc('average_rating')).withColumn('average_rating', F.round('average_rating', 1))\n",
    "\n",
    "# Display the result\n",
    "display(average_rating_by_country)"
   ]
  },
  {
   "cell_type": "code",
   "execution_count": 0,
   "metadata": {
    "application/vnd.databricks.v1+cell": {
     "cellMetadata": {},
     "inputWidgets": {},
     "nuid": "8311de01-c108-4a96-90c0-4f98363e0970",
     "showTitle": false,
     "title": ""
    }
   },
   "outputs": [],
   "source": [
    "average_rating_by_country.write.mode('overwrite').saveAsTable('gold.M_GM_average_rating_by_country')"
   ]
  }
 ],
 "metadata": {
  "application/vnd.databricks.v1+notebook": {
   "dashboards": [],
   "environmentMetadata": null,
   "language": "python",
   "notebookMetadata": {
    "pythonIndentUnit": 4
   },
   "notebookName": "silver to gold - count GM avg. rating",
   "widgets": {}
  }
 },
 "nbformat": 4,
 "nbformat_minor": 0
}
