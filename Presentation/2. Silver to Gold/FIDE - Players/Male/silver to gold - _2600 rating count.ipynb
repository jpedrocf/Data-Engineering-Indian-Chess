{
 "cells": [
  {
   "cell_type": "markdown",
   "metadata": {
    "application/vnd.databricks.v1+cell": {
     "cellMetadata": {},
     "inputWidgets": {},
     "nuid": "b195165e-d016-4827-aef4-bd4ab2d7eb08",
     "showTitle": false,
     "title": ""
    }
   },
   "source": [
    "- Dataframe creation of the table players_male_Base in the silver DB, using Spark"
   ]
  },
  {
   "cell_type": "code",
   "execution_count": 0,
   "metadata": {
    "application/vnd.databricks.v1+cell": {
     "cellMetadata": {
      "byteLimit": 2048000,
      "rowLimit": 10000
     },
     "inputWidgets": {},
     "nuid": "c8ab531b-970e-48f4-909e-02dc5f540fb3",
     "showTitle": false,
     "title": ""
    }
   },
   "outputs": [],
   "source": [
    "awesome_rated_players = spark.table('silver.players_male_base')"
   ]
  },
  {
   "cell_type": "markdown",
   "metadata": {
    "application/vnd.databricks.v1+cell": {
     "cellMetadata": {},
     "inputWidgets": {},
     "nuid": "9fa9c348-c867-4f4f-8b9d-24d396531350",
     "showTitle": false,
     "title": ""
    }
   },
   "source": [
    "- Filtering active male players with more than 2600 of rating and counting them in descending order per country"
   ]
  },
  {
   "cell_type": "code",
   "execution_count": 0,
   "metadata": {
    "application/vnd.databricks.v1+cell": {
     "cellMetadata": {
      "byteLimit": 2048000,
      "rowLimit": 10000
     },
     "inputWidgets": {},
     "nuid": "90e28193-6337-43a0-8fde-bd3e71499644",
     "showTitle": false,
     "title": ""
    }
   },
   "outputs": [
    {
     "output_type": "display_data",
     "data": {
      "text/html": [
       "<style scoped>\n",
       "  .table-result-container {\n",
       "    max-height: 300px;\n",
       "    overflow: auto;\n",
       "  }\n",
       "  table, th, td {\n",
       "    border: 1px solid black;\n",
       "    border-collapse: collapse;\n",
       "  }\n",
       "  th, td {\n",
       "    padding: 5px;\n",
       "  }\n",
       "  th {\n",
       "    text-align: left;\n",
       "  }\n",
       "</style><div class='table-result-container'><table class='table-result'><thead style='background-color: white'><tr><th>country</th><th>player_count</th></tr></thead><tbody><tr><td>USA</td><td>17</td></tr><tr><td>IND</td><td>16</td></tr><tr><td>CHN</td><td>11</td></tr><tr><td>UKR</td><td>10</td></tr><tr><td>ARM</td><td>9</td></tr><tr><td>RUS</td><td>9</td></tr><tr><td>ESP</td><td>9</td></tr><tr><td>FID</td><td>9</td></tr><tr><td>GER</td><td>8</td></tr><tr><td>AZE</td><td>7</td></tr><tr><td>FRA</td><td>6</td></tr><tr><td>HUN</td><td>6</td></tr><tr><td>ENG</td><td>5</td></tr><tr><td>NED</td><td>5</td></tr><tr><td>UZB</td><td>5</td></tr><tr><td>POL</td><td>4</td></tr><tr><td>NOR</td><td>4</td></tr><tr><td>SLO</td><td>3</td></tr><tr><td>ROU</td><td>3</td></tr><tr><td>IRI</td><td>3</td></tr><tr><td>SRB</td><td>3</td></tr><tr><td>VIE</td><td>2</td></tr><tr><td>AUT</td><td>2</td></tr><tr><td>ISR</td><td>2</td></tr><tr><td>CAN</td><td>2</td></tr><tr><td>CRO</td><td>2</td></tr><tr><td>BUL</td><td>2</td></tr><tr><td>GRE</td><td>2</td></tr><tr><td>CZE</td><td>2</td></tr><tr><td>CUB</td><td>1</td></tr><tr><td>ITA</td><td>1</td></tr><tr><td>MEX</td><td>1</td></tr><tr><td>DEN</td><td>1</td></tr><tr><td>PER</td><td>1</td></tr><tr><td>LTU</td><td>1</td></tr><tr><td>UAE</td><td>1</td></tr><tr><td>SUI</td><td>1</td></tr><tr><td>SWE</td><td>1</td></tr><tr><td>BEL</td><td>1</td></tr><tr><td>EGY</td><td>1</td></tr></tbody></table></div>"
      ]
     },
     "metadata": {
      "application/vnd.databricks.v1+output": {
       "addedWidgets": {},
       "aggData": [],
       "aggError": "",
       "aggOverflow": false,
       "aggSchema": [],
       "aggSeriesLimitReached": false,
       "aggType": "",
       "arguments": {},
       "columnCustomDisplayInfos": {},
       "data": [
        [
         "USA",
         17
        ],
        [
         "IND",
         16
        ],
        [
         "CHN",
         11
        ],
        [
         "UKR",
         10
        ],
        [
         "ARM",
         9
        ],
        [
         "RUS",
         9
        ],
        [
         "ESP",
         9
        ],
        [
         "FID",
         9
        ],
        [
         "GER",
         8
        ],
        [
         "AZE",
         7
        ],
        [
         "FRA",
         6
        ],
        [
         "HUN",
         6
        ],
        [
         "ENG",
         5
        ],
        [
         "NED",
         5
        ],
        [
         "UZB",
         5
        ],
        [
         "POL",
         4
        ],
        [
         "NOR",
         4
        ],
        [
         "SLO",
         3
        ],
        [
         "ROU",
         3
        ],
        [
         "IRI",
         3
        ],
        [
         "SRB",
         3
        ],
        [
         "VIE",
         2
        ],
        [
         "AUT",
         2
        ],
        [
         "ISR",
         2
        ],
        [
         "CAN",
         2
        ],
        [
         "CRO",
         2
        ],
        [
         "BUL",
         2
        ],
        [
         "GRE",
         2
        ],
        [
         "CZE",
         2
        ],
        [
         "CUB",
         1
        ],
        [
         "ITA",
         1
        ],
        [
         "MEX",
         1
        ],
        [
         "DEN",
         1
        ],
        [
         "PER",
         1
        ],
        [
         "LTU",
         1
        ],
        [
         "UAE",
         1
        ],
        [
         "SUI",
         1
        ],
        [
         "SWE",
         1
        ],
        [
         "BEL",
         1
        ],
        [
         "EGY",
         1
        ]
       ],
       "datasetInfos": [],
       "dbfsResultPath": null,
       "isJsonSchema": true,
       "metadata": {},
       "overflow": false,
       "plotOptions": {
        "customPlotOptions": {},
        "displayType": "table",
        "pivotAggregation": null,
        "pivotColumns": null,
        "xColumns": null,
        "yColumns": null
       },
       "removedWidgets": [],
       "schema": [
        {
         "metadata": "{\"comment\":\"Nationality code of the player, country (3 characters)\"}",
         "name": "country",
         "type": "\"string\""
        },
        {
         "metadata": "{}",
         "name": "player_count",
         "type": "\"long\""
        }
       ],
       "type": "table"
      }
     },
     "output_type": "display_data"
    }
   ],
   "source": [
    "from pyspark.sql import functions as F\n",
    "\n",
    "#Filter out rows where the rating is under 2600 and the flag is not null (inactive players)\n",
    "filtered_df_rating = awesome_rated_players.filter((awesome_rated_players.rating > 2600) & (awesome_rated_players.flag.isNull()))\n",
    "\n",
    "#Grouping them by country and counting in descending order\n",
    "awesome_rated_players_by_country = filtered_df_rating.groupBy('country').count()\n",
    "awesome_rated_players_by_country2 = awesome_rated_players_by_country.withColumnRenamed(\"count\", \"player_count\")\n",
    "\n",
    "awesome_rated_players_by_country2 = awesome_rated_players_by_country2.orderBy(F.desc(\"player_count\"))\n",
    "\n",
    "display(awesome_rated_players_by_country2)"
   ]
  },
  {
   "cell_type": "code",
   "execution_count": 0,
   "metadata": {
    "application/vnd.databricks.v1+cell": {
     "cellMetadata": {},
     "inputWidgets": {},
     "nuid": "12e9cb64-2523-4eb2-b900-b01d36b7514f",
     "showTitle": false,
     "title": ""
    }
   },
   "outputs": [],
   "source": [
    "awesome_rated_players_by_country2.write.mode('overwrite').saveAsTable('gold.m_2600_rated_players_per_country')"
   ]
  }
 ],
 "metadata": {
  "application/vnd.databricks.v1+notebook": {
   "dashboards": [],
   "environmentMetadata": null,
   "language": "python",
   "notebookMetadata": {
    "pythonIndentUnit": 4
   },
   "notebookName": "silver to gold - >2600 rating count",
   "widgets": {}
  }
 },
 "nbformat": 4,
 "nbformat_minor": 0
}
