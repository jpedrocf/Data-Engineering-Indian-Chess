{
 "cells": [
  {
   "cell_type": "markdown",
   "metadata": {
    "application/vnd.databricks.v1+cell": {
     "cellMetadata": {},
     "inputWidgets": {},
     "nuid": "f183dfeb-c58a-479c-81bc-ab66c4d72327",
     "showTitle": false,
     "title": ""
    }
   },
   "source": [
    "- Dataframe creation of the table players_male_Base in the silver DB, using Spark"
   ]
  },
  {
   "cell_type": "code",
   "execution_count": 0,
   "metadata": {
    "application/vnd.databricks.v1+cell": {
     "cellMetadata": {
      "byteLimit": 2048000,
      "rowLimit": 10000
     },
     "inputWidgets": {},
     "nuid": "dba4b215-05ca-4d09-aa63-7408efd9d97b",
     "showTitle": false,
     "title": ""
    }
   },
   "outputs": [],
   "source": [
    "avg_rating_df = spark.table('silver.players_male_base')"
   ]
  },
  {
   "cell_type": "markdown",
   "metadata": {
    "application/vnd.databricks.v1+cell": {
     "cellMetadata": {},
     "inputWidgets": {},
     "nuid": "27ed04f4-bb05-4ad5-92a4-2ecb23d4f000",
     "showTitle": false,
     "title": ""
    }
   },
   "source": [
    "- Filtering top 10 under 20 y/o players per country, where flag is not inactive"
   ]
  },
  {
   "cell_type": "code",
   "execution_count": 0,
   "metadata": {
    "application/vnd.databricks.v1+cell": {
     "cellMetadata": {
      "byteLimit": 2048000,
      "rowLimit": 10000
     },
     "inputWidgets": {},
     "nuid": "6cec1f43-6765-4560-82bf-c98751e4f4ed",
     "showTitle": false,
     "title": ""
    }
   },
   "outputs": [
    {
     "output_type": "display_data",
     "data": {
      "text/html": [
       "<style scoped>\n",
       "  .table-result-container {\n",
       "    max-height: 300px;\n",
       "    overflow: auto;\n",
       "  }\n",
       "  table, th, td {\n",
       "    border: 1px solid black;\n",
       "    border-collapse: collapse;\n",
       "  }\n",
       "  th, td {\n",
       "    padding: 5px;\n",
       "  }\n",
       "  th {\n",
       "    text-align: left;\n",
       "  }\n",
       "</style><div class='table-result-container'><table class='table-result'><thead style='background-color: white'><tr><th>country</th><th>average_rating</th></tr></thead><tbody><tr><td>IND</td><td>2633.5</td></tr><tr><td>USA</td><td>2532.3</td></tr><tr><td>GER</td><td>2493.9</td></tr><tr><td>FID</td><td>2473.1</td></tr><tr><td>TUR</td><td>2470.8</td></tr><tr><td>FRA</td><td>2460.7</td></tr><tr><td>UZB</td><td>2448.8</td></tr><tr><td>IRI</td><td>2426.6</td></tr><tr><td>ISR</td><td>2424.4</td></tr><tr><td>POL</td><td>2423.3</td></tr><tr><td>AZE</td><td>2423.0</td></tr><tr><td>UKR</td><td>2422.1</td></tr><tr><td>ESP</td><td>2417.5</td></tr><tr><td>ARM</td><td>2398.4</td></tr><tr><td>CZE</td><td>2397.4</td></tr><tr><td>CHN</td><td>2396.4</td></tr><tr><td>HUN</td><td>2391.5</td></tr><tr><td>RUS</td><td>2389.7</td></tr><tr><td>NOR</td><td>2384.4</td></tr><tr><td>KAZ</td><td>2370.1</td></tr><tr><td>GRE</td><td>2361.8</td></tr><tr><td>ROU</td><td>2344.9</td></tr><tr><td>SRB</td><td>2338.3</td></tr><tr><td>AUT</td><td>2337.8</td></tr><tr><td>MGL</td><td>2337.6</td></tr><tr><td>NED</td><td>2332.0</td></tr><tr><td>ARG</td><td>2325.4</td></tr><tr><td>VIE</td><td>2323.3</td></tr><tr><td>CAN</td><td>2314.2</td></tr><tr><td>SLO</td><td>2309.6</td></tr><tr><td>SWE</td><td>2298.2</td></tr><tr><td>CUB</td><td>2295.7</td></tr><tr><td>COL</td><td>2292.7</td></tr><tr><td>SVK</td><td>2292.3</td></tr><tr><td>DEN</td><td>2285.7</td></tr><tr><td>BEL</td><td>2283.3</td></tr><tr><td>GEQ</td><td>2279.0</td></tr><tr><td>ITA</td><td>2268.3</td></tr><tr><td>ENG</td><td>2263.7</td></tr><tr><td>CRO</td><td>2254.5</td></tr><tr><td>BUL</td><td>2252.9</td></tr><tr><td>PHI</td><td>2246.3</td></tr><tr><td>SUI</td><td>2244.3</td></tr><tr><td>BRA</td><td>2222.8</td></tr><tr><td>BIH</td><td>2213.9</td></tr><tr><td>MEX</td><td>2181.4</td></tr><tr><td>POR</td><td>2179.0</td></tr><tr><td>KGZ</td><td>2166.0</td></tr><tr><td>PER</td><td>2165.5</td></tr><tr><td>LTU</td><td>2163.3</td></tr><tr><td>LAT</td><td>2160.3</td></tr><tr><td>MDA</td><td>2151.2</td></tr><tr><td>CHI</td><td>2143.5</td></tr><tr><td>EGY</td><td>2141.7</td></tr><tr><td>GEO</td><td>2140.4</td></tr><tr><td>MAS</td><td>2139.8</td></tr><tr><td>IRL</td><td>2135.5</td></tr><tr><td>INA</td><td>2133.4</td></tr><tr><td>SGP</td><td>2132.0</td></tr><tr><td>MKD</td><td>2116.5</td></tr><tr><td>RSA</td><td>2113.7</td></tr><tr><td>BAN</td><td>2109.7</td></tr><tr><td>EST</td><td>2098.6</td></tr><tr><td>AUS</td><td>2087.5</td></tr><tr><td>FIN</td><td>2084.8</td></tr><tr><td>VEN</td><td>2061.1</td></tr><tr><td>BLR</td><td>2058.1</td></tr><tr><td>NZL</td><td>2050.1</td></tr><tr><td>SCO</td><td>2040.3</td></tr><tr><td>MNE</td><td>2036.1</td></tr><tr><td>UAE</td><td>2025.8</td></tr><tr><td>ISL</td><td>2021.6</td></tr><tr><td>SRI</td><td>2013.5</td></tr><tr><td>TKM</td><td>2009.4</td></tr><tr><td>ALB</td><td>2007.3</td></tr><tr><td>NGR</td><td>2006.8</td></tr><tr><td>URU</td><td>1997.7</td></tr><tr><td>PAR</td><td>1996.0</td></tr><tr><td>BOL</td><td>1981.5</td></tr><tr><td>PAN</td><td>1973.7</td></tr><tr><td>HKG</td><td>1972.5</td></tr><tr><td>LBN</td><td>1966.2</td></tr><tr><td>ESA</td><td>1961.3</td></tr><tr><td>ANG</td><td>1960.1</td></tr><tr><td>SYR</td><td>1951.4</td></tr><tr><td>LUX</td><td>1948.0</td></tr><tr><td>ECU</td><td>1936.5</td></tr><tr><td>CRC</td><td>1931.6</td></tr><tr><td>MAR</td><td>1925.4</td></tr><tr><td>ZAM</td><td>1921.9</td></tr><tr><td>IRQ</td><td>1914.3</td></tr><tr><td>KOR</td><td>1913.7</td></tr><tr><td>JOR</td><td>1904.5</td></tr><tr><td>JPN</td><td>1901.5</td></tr><tr><td>NCA</td><td>1896.4</td></tr><tr><td>THA</td><td>1896.4</td></tr><tr><td>MYA</td><td>1879.1</td></tr><tr><td>DOM</td><td>1875.4</td></tr><tr><td>TUN</td><td>1870.2</td></tr><tr><td>ALG</td><td>1868.1</td></tr><tr><td>WLS</td><td>1865.0</td></tr><tr><td>GUA</td><td>1860.1</td></tr><tr><td>LBA</td><td>1852.7</td></tr><tr><td>AND</td><td>1845.8</td></tr><tr><td>ERI</td><td>1843.0</td></tr><tr><td>KEN</td><td>1840.1</td></tr><tr><td>NEP</td><td>1839.4</td></tr><tr><td>TPE</td><td>1838.5</td></tr><tr><td>ETH</td><td>1837.0</td></tr><tr><td>UGA</td><td>1834.1</td></tr><tr><td>ZIM</td><td>1832.9</td></tr><tr><td>AFG</td><td>1827.0</td></tr><tr><td>FAI</td><td>1826.1</td></tr><tr><td>JAM</td><td>1825.3</td></tr><tr><td>BOT</td><td>1816.2</td></tr><tr><td>SSD</td><td>1813.0</td></tr><tr><td>HON</td><td>1811.2</td></tr><tr><td>LBR</td><td>1809.5</td></tr><tr><td>CYP</td><td>1807.5</td></tr><tr><td>KOS</td><td>1800.9</td></tr><tr><td>PUR</td><td>1797.5</td></tr><tr><td>ARU</td><td>1797.3</td></tr><tr><td>MOZ</td><td>1793.8</td></tr><tr><td>MTN</td><td>1785.9</td></tr><tr><td>GAM</td><td>1785.0</td></tr><tr><td>COM</td><td>1783.0</td></tr><tr><td>BRU</td><td>1780.2</td></tr><tr><td>MAD</td><td>1776.4</td></tr><tr><td>TJK</td><td>1768.5</td></tr><tr><td>PLE</td><td>1767.4</td></tr><tr><td>LIE</td><td>1744.3</td></tr><tr><td>OMA</td><td>1742.3</td></tr><tr><td>HAI</td><td>1736.0</td></tr><tr><td>JCI</td><td>1735.0</td></tr><tr><td>SUR</td><td>1727.7</td></tr><tr><td>PAK</td><td>1724.1</td></tr><tr><td>SEN</td><td>1723.0</td></tr><tr><td>KSA</td><td>1722.6</td></tr><tr><td>AHO</td><td>1721.4</td></tr><tr><td>TTO</td><td>1716.4</td></tr><tr><td>MLT</td><td>1710.9</td></tr><tr><td>LES</td><td>1704.1</td></tr><tr><td>SOM</td><td>1701.0</td></tr><tr><td>TOG</td><td>1701.0</td></tr><tr><td>NAM</td><td>1690.6</td></tr><tr><td>BAH</td><td>1676.2</td></tr><tr><td>MAW</td><td>1655.3</td></tr><tr><td>GHA</td><td>1649.8</td></tr><tr><td>MNC</td><td>1646.2</td></tr><tr><td>GUM</td><td>1643.1</td></tr><tr><td>BHU</td><td>1633.0</td></tr><tr><td>GUY</td><td>1627.1</td></tr><tr><td>KUW</td><td>1626.0</td></tr><tr><td>MAC</td><td>1624.3</td></tr><tr><td>YEM</td><td>1624.0</td></tr><tr><td>FIJ</td><td>1622.0</td></tr><tr><td>SUD</td><td>1621.0</td></tr><tr><td>MDV</td><td>1620.5</td></tr><tr><td>TAN</td><td>1618.7</td></tr><tr><td>STP</td><td>1614.0</td></tr><tr><td>BAR</td><td>1612.5</td></tr><tr><td>BRN</td><td>1610.2</td></tr><tr><td>GAB</td><td>1591.0</td></tr><tr><td>SLE</td><td>1580.0</td></tr><tr><td>SWZ</td><td>1574.3</td></tr><tr><td>CAM</td><td>1572.0</td></tr><tr><td>CIV</td><td>1569.4</td></tr><tr><td>QAT</td><td>1565.3</td></tr><tr><td>CPV</td><td>1560.0</td></tr><tr><td>LCA</td><td>1551.7</td></tr><tr><td>MRI</td><td>1526.8</td></tr><tr><td>CAY</td><td>1492.3</td></tr><tr><td>DMA</td><td>1470.0</td></tr><tr><td>COD</td><td>1440.0</td></tr><tr><td>GRN</td><td>1411.0</td></tr></tbody></table></div>"
      ]
     },
     "metadata": {
      "application/vnd.databricks.v1+output": {
       "addedWidgets": {},
       "aggData": [],
       "aggError": "",
       "aggOverflow": false,
       "aggSchema": [],
       "aggSeriesLimitReached": false,
       "aggType": "",
       "arguments": {},
       "columnCustomDisplayInfos": {},
       "data": [
        [
         "IND",
         2633.5
        ],
        [
         "USA",
         2532.3
        ],
        [
         "GER",
         2493.9
        ],
        [
         "FID",
         2473.1
        ],
        [
         "TUR",
         2470.8
        ],
        [
         "FRA",
         2460.7
        ],
        [
         "UZB",
         2448.8
        ],
        [
         "IRI",
         2426.6
        ],
        [
         "ISR",
         2424.4
        ],
        [
         "POL",
         2423.3
        ],
        [
         "AZE",
         2423.0
        ],
        [
         "UKR",
         2422.1
        ],
        [
         "ESP",
         2417.5
        ],
        [
         "ARM",
         2398.4
        ],
        [
         "CZE",
         2397.4
        ],
        [
         "CHN",
         2396.4
        ],
        [
         "HUN",
         2391.5
        ],
        [
         "RUS",
         2389.7
        ],
        [
         "NOR",
         2384.4
        ],
        [
         "KAZ",
         2370.1
        ],
        [
         "GRE",
         2361.8
        ],
        [
         "ROU",
         2344.9
        ],
        [
         "SRB",
         2338.3
        ],
        [
         "AUT",
         2337.8
        ],
        [
         "MGL",
         2337.6
        ],
        [
         "NED",
         2332.0
        ],
        [
         "ARG",
         2325.4
        ],
        [
         "VIE",
         2323.3
        ],
        [
         "CAN",
         2314.2
        ],
        [
         "SLO",
         2309.6
        ],
        [
         "SWE",
         2298.2
        ],
        [
         "CUB",
         2295.7
        ],
        [
         "COL",
         2292.7
        ],
        [
         "SVK",
         2292.3
        ],
        [
         "DEN",
         2285.7
        ],
        [
         "BEL",
         2283.3
        ],
        [
         "GEQ",
         2279.0
        ],
        [
         "ITA",
         2268.3
        ],
        [
         "ENG",
         2263.7
        ],
        [
         "CRO",
         2254.5
        ],
        [
         "BUL",
         2252.9
        ],
        [
         "PHI",
         2246.3
        ],
        [
         "SUI",
         2244.3
        ],
        [
         "BRA",
         2222.8
        ],
        [
         "BIH",
         2213.9
        ],
        [
         "MEX",
         2181.4
        ],
        [
         "POR",
         2179.0
        ],
        [
         "KGZ",
         2166.0
        ],
        [
         "PER",
         2165.5
        ],
        [
         "LTU",
         2163.3
        ],
        [
         "LAT",
         2160.3
        ],
        [
         "MDA",
         2151.2
        ],
        [
         "CHI",
         2143.5
        ],
        [
         "EGY",
         2141.7
        ],
        [
         "GEO",
         2140.4
        ],
        [
         "MAS",
         2139.8
        ],
        [
         "IRL",
         2135.5
        ],
        [
         "INA",
         2133.4
        ],
        [
         "SGP",
         2132.0
        ],
        [
         "MKD",
         2116.5
        ],
        [
         "RSA",
         2113.7
        ],
        [
         "BAN",
         2109.7
        ],
        [
         "EST",
         2098.6
        ],
        [
         "AUS",
         2087.5
        ],
        [
         "FIN",
         2084.8
        ],
        [
         "VEN",
         2061.1
        ],
        [
         "BLR",
         2058.1
        ],
        [
         "NZL",
         2050.1
        ],
        [
         "SCO",
         2040.3
        ],
        [
         "MNE",
         2036.1
        ],
        [
         "UAE",
         2025.8
        ],
        [
         "ISL",
         2021.6
        ],
        [
         "SRI",
         2013.5
        ],
        [
         "TKM",
         2009.4
        ],
        [
         "ALB",
         2007.3
        ],
        [
         "NGR",
         2006.8
        ],
        [
         "URU",
         1997.7
        ],
        [
         "PAR",
         1996.0
        ],
        [
         "BOL",
         1981.5
        ],
        [
         "PAN",
         1973.7
        ],
        [
         "HKG",
         1972.5
        ],
        [
         "LBN",
         1966.2
        ],
        [
         "ESA",
         1961.3
        ],
        [
         "ANG",
         1960.1
        ],
        [
         "SYR",
         1951.4
        ],
        [
         "LUX",
         1948.0
        ],
        [
         "ECU",
         1936.5
        ],
        [
         "CRC",
         1931.6
        ],
        [
         "MAR",
         1925.4
        ],
        [
         "ZAM",
         1921.9
        ],
        [
         "IRQ",
         1914.3
        ],
        [
         "KOR",
         1913.7
        ],
        [
         "JOR",
         1904.5
        ],
        [
         "JPN",
         1901.5
        ],
        [
         "NCA",
         1896.4
        ],
        [
         "THA",
         1896.4
        ],
        [
         "MYA",
         1879.1
        ],
        [
         "DOM",
         1875.4
        ],
        [
         "TUN",
         1870.2
        ],
        [
         "ALG",
         1868.1
        ],
        [
         "WLS",
         1865.0
        ],
        [
         "GUA",
         1860.1
        ],
        [
         "LBA",
         1852.7
        ],
        [
         "AND",
         1845.8
        ],
        [
         "ERI",
         1843.0
        ],
        [
         "KEN",
         1840.1
        ],
        [
         "NEP",
         1839.4
        ],
        [
         "TPE",
         1838.5
        ],
        [
         "ETH",
         1837.0
        ],
        [
         "UGA",
         1834.1
        ],
        [
         "ZIM",
         1832.9
        ],
        [
         "AFG",
         1827.0
        ],
        [
         "FAI",
         1826.1
        ],
        [
         "JAM",
         1825.3
        ],
        [
         "BOT",
         1816.2
        ],
        [
         "SSD",
         1813.0
        ],
        [
         "HON",
         1811.2
        ],
        [
         "LBR",
         1809.5
        ],
        [
         "CYP",
         1807.5
        ],
        [
         "KOS",
         1800.9
        ],
        [
         "PUR",
         1797.5
        ],
        [
         "ARU",
         1797.3
        ],
        [
         "MOZ",
         1793.8
        ],
        [
         "MTN",
         1785.9
        ],
        [
         "GAM",
         1785.0
        ],
        [
         "COM",
         1783.0
        ],
        [
         "BRU",
         1780.2
        ],
        [
         "MAD",
         1776.4
        ],
        [
         "TJK",
         1768.5
        ],
        [
         "PLE",
         1767.4
        ],
        [
         "LIE",
         1744.3
        ],
        [
         "OMA",
         1742.3
        ],
        [
         "HAI",
         1736.0
        ],
        [
         "JCI",
         1735.0
        ],
        [
         "SUR",
         1727.7
        ],
        [
         "PAK",
         1724.1
        ],
        [
         "SEN",
         1723.0
        ],
        [
         "KSA",
         1722.6
        ],
        [
         "AHO",
         1721.4
        ],
        [
         "TTO",
         1716.4
        ],
        [
         "MLT",
         1710.9
        ],
        [
         "LES",
         1704.1
        ],
        [
         "SOM",
         1701.0
        ],
        [
         "TOG",
         1701.0
        ],
        [
         "NAM",
         1690.6
        ],
        [
         "BAH",
         1676.2
        ],
        [
         "MAW",
         1655.3
        ],
        [
         "GHA",
         1649.8
        ],
        [
         "MNC",
         1646.2
        ],
        [
         "GUM",
         1643.1
        ],
        [
         "BHU",
         1633.0
        ],
        [
         "GUY",
         1627.1
        ],
        [
         "KUW",
         1626.0
        ],
        [
         "MAC",
         1624.3
        ],
        [
         "YEM",
         1624.0
        ],
        [
         "FIJ",
         1622.0
        ],
        [
         "SUD",
         1621.0
        ],
        [
         "MDV",
         1620.5
        ],
        [
         "TAN",
         1618.7
        ],
        [
         "STP",
         1614.0
        ],
        [
         "BAR",
         1612.5
        ],
        [
         "BRN",
         1610.2
        ],
        [
         "GAB",
         1591.0
        ],
        [
         "SLE",
         1580.0
        ],
        [
         "SWZ",
         1574.3
        ],
        [
         "CAM",
         1572.0
        ],
        [
         "CIV",
         1569.4
        ],
        [
         "QAT",
         1565.3
        ],
        [
         "CPV",
         1560.0
        ],
        [
         "LCA",
         1551.7
        ],
        [
         "MRI",
         1526.8
        ],
        [
         "CAY",
         1492.3
        ],
        [
         "DMA",
         1470.0
        ],
        [
         "COD",
         1440.0
        ],
        [
         "GRN",
         1411.0
        ]
       ],
       "datasetInfos": [],
       "dbfsResultPath": null,
       "isJsonSchema": true,
       "metadata": {},
       "overflow": false,
       "plotOptions": {
        "customPlotOptions": {},
        "displayType": "table",
        "pivotAggregation": null,
        "pivotColumns": null,
        "xColumns": null,
        "yColumns": null
       },
       "removedWidgets": [],
       "schema": [
        {
         "metadata": "{\"comment\":\"Nationality code of the player, country (3 characters)\"}",
         "name": "country",
         "type": "\"string\""
        },
        {
         "metadata": "{}",
         "name": "average_rating",
         "type": "\"double\""
        }
       ],
       "type": "table"
      }
     },
     "output_type": "display_data"
    }
   ],
   "source": [
    "from pyspark.sql import Window\n",
    "from pyspark.sql import functions as F\n",
    "\n",
    "# Filter out rows where the rating is 0 or null, birthday is greater than or equal to 2004 and flag is not inactive\n",
    "filtered_df = avg_rating_df.filter((avg_rating_df.rating != 0) & (avg_rating_df.rating.isNotNull()) & (avg_rating_df.birthday >= 2004) & (avg_rating_df.flag.isNull()))\n",
    "# Define a window specification to partition by country and order by rating descending\n",
    "window_spec = Window.partitionBy('country').orderBy(F.desc('rating'))\n",
    "\n",
    "# Add a row number within each partition\n",
    "ranked_df = filtered_df.withColumn('rank', F.row_number().over(window_spec))\n",
    "\n",
    "# Filter to keep only the top 10 players per country\n",
    "top_10_df = ranked_df.filter(ranked_df.rank <= 10)\n",
    "\n",
    "# Group by country and calculate the average rating\n",
    "average_rating_by_country = top_10_df.groupBy('country').agg(\n",
    "    F.avg('rating').alias('average_rating')\n",
    ")\n",
    "\n",
    "# Order by average_rating in descending order and round to 1 decimal place\n",
    "average_rating_by_country = average_rating_by_country.orderBy(F.desc('average_rating')).withColumn('average_rating', F.round('average_rating', 1))\n",
    "\n",
    "# Display the result\n",
    "display(average_rating_by_country)"
   ]
  },
  {
   "cell_type": "code",
   "execution_count": 0,
   "metadata": {
    "application/vnd.databricks.v1+cell": {
     "cellMetadata": {},
     "inputWidgets": {},
     "nuid": "1d8610f9-4bc8-4e8e-a164-9b44f50582fe",
     "showTitle": false,
     "title": ""
    }
   },
   "outputs": [],
   "source": [
    "average_rating_by_country.write.mode('overwrite').saveAsTable('gold.M_20_average_rating_by_country')"
   ]
  }
 ],
 "metadata": {
  "application/vnd.databricks.v1+notebook": {
   "dashboards": [],
   "environmentMetadata": null,
   "language": "python",
   "notebookMetadata": {
    "pythonIndentUnit": 4
   },
   "notebookName": "silver to gold - <20 avg. rating",
   "widgets": {}
  }
 },
 "nbformat": 4,
 "nbformat_minor": 0
}
