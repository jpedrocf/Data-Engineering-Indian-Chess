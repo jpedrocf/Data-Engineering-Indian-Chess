{
 "cells": [
  {
   "cell_type": "markdown",
   "metadata": {
    "application/vnd.databricks.v1+cell": {
     "cellMetadata": {},
     "inputWidgets": {},
     "nuid": "ec4d4f29-b4ec-45f2-90af-68c363b01c76",
     "showTitle": false,
     "title": ""
    }
   },
   "source": [
    "- Checking the 'F' filter at sex"
   ]
  },
  {
   "cell_type": "code",
   "execution_count": 0,
   "metadata": {
    "application/vnd.databricks.v1+cell": {
     "cellMetadata": {},
     "inputWidgets": {},
     "nuid": "2059c859-b6a0-4ba5-83e4-c4d754c660b9",
     "showTitle": false,
     "title": ""
    }
   },
   "outputs": [],
   "source": [
    "%sql\n",
    "select *\n",
    "from silver.players_current_month\n",
    "where sex = 'F'"
   ]
  },
  {
   "cell_type": "markdown",
   "metadata": {
    "application/vnd.databricks.v1+cell": {
     "cellMetadata": {},
     "inputWidgets": {},
     "nuid": "11256e9d-5061-493c-b15c-6a4b0906e9d6",
     "showTitle": false,
     "title": ""
    }
   },
   "source": [
    "- Creating a dataframe from the players_current_month table with the filter 'F' in sex to include only female players and then saving it as a new table in the silver layer"
   ]
  },
  {
   "cell_type": "code",
   "execution_count": 0,
   "metadata": {
    "application/vnd.databricks.v1+cell": {
     "cellMetadata": {},
     "inputWidgets": {},
     "nuid": "1770c101-3b6b-4ffe-bbdd-32f9abc0d861",
     "showTitle": false,
     "title": ""
    }
   },
   "outputs": [],
   "source": [
    "players_female_base = spark.table('silver.players_current_month').filter(\"sex = 'F'\")\n",
    "display(players_female_base)"
   ]
  },
  {
   "cell_type": "code",
   "execution_count": 0,
   "metadata": {
    "application/vnd.databricks.v1+cell": {
     "cellMetadata": {},
     "inputWidgets": {},
     "nuid": "fb4bb046-be7c-4b8c-a4f5-795fefcd8b8f",
     "showTitle": false,
     "title": ""
    }
   },
   "outputs": [],
   "source": [
    "display(players_female_base.groupBy('sex').count())"
   ]
  },
  {
   "cell_type": "code",
   "execution_count": 0,
   "metadata": {
    "application/vnd.databricks.v1+cell": {
     "cellMetadata": {},
     "inputWidgets": {},
     "nuid": "70f05fa6-fc3a-4f4c-949e-41e4017771ac",
     "showTitle": false,
     "title": ""
    }
   },
   "outputs": [],
   "source": [
    "players_female_base.write.mode('overwrite').saveAsTable('silver.players_female_base')"
   ]
  }
 ],
 "metadata": {
  "application/vnd.databricks.v1+notebook": {
   "dashboards": [],
   "environmentMetadata": null,
   "language": "python",
   "notebookMetadata": {
    "pythonIndentUnit": 4
   },
   "notebookName": "Female_filter_base",
   "widgets": {}
  }
 },
 "nbformat": 4,
 "nbformat_minor": 0
}
