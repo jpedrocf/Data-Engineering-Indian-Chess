{
 "cells": [
  {
   "cell_type": "markdown",
   "metadata": {
    "application/vnd.databricks.v1+cell": {
     "cellMetadata": {},
     "inputWidgets": {},
     "nuid": "d6c40183-432a-42c5-8cad-6d397df36dfb",
     "showTitle": false,
     "title": ""
    }
   },
   "source": [
    "- Dataframe creation of the table players_female_Base in the silver DB, using Spark"
   ]
  },
  {
   "cell_type": "code",
   "execution_count": 0,
   "metadata": {
    "application/vnd.databricks.v1+cell": {
     "cellMetadata": {
      "byteLimit": 2048000,
      "rowLimit": 10000
     },
     "inputWidgets": {},
     "nuid": "6ea01585-687b-4a29-8875-444fa036fde4",
     "showTitle": false,
     "title": ""
    }
   },
   "outputs": [],
   "source": [
    "gm_avg_rating_df = spark.table('silver.players_female_base')"
   ]
  },
  {
   "cell_type": "markdown",
   "metadata": {
    "application/vnd.databricks.v1+cell": {
     "cellMetadata": {},
     "inputWidgets": {},
     "nuid": "3894a47a-a8e2-4afe-9611-5f7951c8192d",
     "showTitle": false,
     "title": ""
    }
   },
   "source": [
    "- Filtering and counting active WGM players per country"
   ]
  },
  {
   "cell_type": "code",
   "execution_count": 0,
   "metadata": {
    "application/vnd.databricks.v1+cell": {
     "cellMetadata": {
      "byteLimit": 2048000,
      "rowLimit": 10000
     },
     "inputWidgets": {},
     "nuid": "22a3f391-1465-4faf-bad8-b71843e2c57c",
     "showTitle": false,
     "title": ""
    }
   },
   "outputs": [
    {
     "output_type": "display_data",
     "data": {
      "text/html": [
       "<style scoped>\n",
       "  .table-result-container {\n",
       "    max-height: 300px;\n",
       "    overflow: auto;\n",
       "  }\n",
       "  table, th, td {\n",
       "    border: 1px solid black;\n",
       "    border-collapse: collapse;\n",
       "  }\n",
       "  th, td {\n",
       "    padding: 5px;\n",
       "  }\n",
       "  th {\n",
       "    text-align: left;\n",
       "  }\n",
       "</style><div class='table-result-container'><table class='table-result'><thead style='background-color: white'><tr><th>country</th><th>average_rating</th><th>players</th></tr></thead><tbody><tr><td>RUS</td><td>2174.3</td><td>18</td></tr><tr><td>CHN</td><td>2279.5</td><td>13</td></tr><tr><td>GER</td><td>2260.6</td><td>10</td></tr><tr><td>IND</td><td>2233.0</td><td>10</td></tr><tr><td>SRB</td><td>2161.2</td><td>9</td></tr><tr><td>POL</td><td>2257.6</td><td>7</td></tr><tr><td>CUB</td><td>2158.4</td><td>7</td></tr><tr><td>FRA</td><td>2205.7</td><td>7</td></tr><tr><td>UKR</td><td>2229.5</td><td>6</td></tr><tr><td>AZE</td><td>2231.2</td><td>6</td></tr><tr><td>CZE</td><td>2174.2</td><td>6</td></tr><tr><td>VIE</td><td>2210.8</td><td>5</td></tr><tr><td>ENG</td><td>2165.6</td><td>5</td></tr><tr><td>USA</td><td>2238.6</td><td>5</td></tr><tr><td>GEO</td><td>2220.4</td><td>5</td></tr><tr><td>HUN</td><td>2190.3</td><td>4</td></tr><tr><td>ROU</td><td>2254.3</td><td>4</td></tr><tr><td>LAT</td><td>2166.3</td><td>4</td></tr><tr><td>MGL</td><td>2220.0</td><td>3</td></tr><tr><td>BUL</td><td>2216.3</td><td>3</td></tr><tr><td>EGY</td><td>2105.0</td><td>3</td></tr><tr><td>AUS</td><td>2205.0</td><td>2</td></tr><tr><td>NED</td><td>2246.5</td><td>2</td></tr><tr><td>LUX</td><td>2240.5</td><td>2</td></tr><tr><td>ISR</td><td>2225.0</td><td>2</td></tr><tr><td>LTU</td><td>2133.5</td><td>2</td></tr><tr><td>SUI</td><td>2210.5</td><td>2</td></tr><tr><td>ARG</td><td>2236.0</td><td>2</td></tr><tr><td>ESP</td><td>2232.5</td><td>2</td></tr><tr><td>KAZ</td><td>2051.0</td><td>2</td></tr><tr><td>GRE</td><td>2157.0</td><td>2</td></tr><tr><td>ARM</td><td>2225.0</td><td>1</td></tr><tr><td>BOT</td><td>1728.0</td><td>1</td></tr><tr><td>ITA</td><td>2081.0</td><td>1</td></tr><tr><td>PAR</td><td>2224.0</td><td>1</td></tr><tr><td>BLR</td><td>1833.0</td><td>1</td></tr><tr><td>SVK</td><td>2205.0</td><td>1</td></tr><tr><td>NOR</td><td>2172.0</td><td>1</td></tr><tr><td>TUR</td><td>2265.0</td><td>1</td></tr><tr><td>AUT</td><td>2302.0</td><td>1</td></tr><tr><td>MNC</td><td>2199.0</td><td>1</td></tr><tr><td>CAN</td><td>2302.0</td><td>1</td></tr><tr><td>COL</td><td>2041.0</td><td>1</td></tr><tr><td>PHI</td><td>2164.0</td><td>1</td></tr><tr><td>CRO</td><td>2101.0</td><td>1</td></tr><tr><td>ECU</td><td>2050.0</td><td>1</td></tr><tr><td>SGP</td><td>2250.0</td><td>1</td></tr><tr><td>IRI</td><td>2354.0</td><td>1</td></tr><tr><td>FID</td><td>2221.0</td><td>1</td></tr><tr><td>MDA</td><td>2078.0</td><td>1</td></tr><tr><td>UZB</td><td>2233.0</td><td>1</td></tr><tr><td>INA</td><td>2241.0</td><td>1</td></tr><tr><td>ISL</td><td>2114.0</td><td>1</td></tr></tbody></table></div>"
      ]
     },
     "metadata": {
      "application/vnd.databricks.v1+output": {
       "addedWidgets": {},
       "aggData": [],
       "aggError": "",
       "aggOverflow": false,
       "aggSchema": [],
       "aggSeriesLimitReached": false,
       "aggType": "",
       "arguments": {},
       "columnCustomDisplayInfos": {},
       "data": [
        [
         "RUS",
         2174.3,
         18
        ],
        [
         "CHN",
         2279.5,
         13
        ],
        [
         "GER",
         2260.6,
         10
        ],
        [
         "IND",
         2233.0,
         10
        ],
        [
         "SRB",
         2161.2,
         9
        ],
        [
         "POL",
         2257.6,
         7
        ],
        [
         "CUB",
         2158.4,
         7
        ],
        [
         "FRA",
         2205.7,
         7
        ],
        [
         "UKR",
         2229.5,
         6
        ],
        [
         "AZE",
         2231.2,
         6
        ],
        [
         "CZE",
         2174.2,
         6
        ],
        [
         "VIE",
         2210.8,
         5
        ],
        [
         "ENG",
         2165.6,
         5
        ],
        [
         "USA",
         2238.6,
         5
        ],
        [
         "GEO",
         2220.4,
         5
        ],
        [
         "HUN",
         2190.3,
         4
        ],
        [
         "ROU",
         2254.3,
         4
        ],
        [
         "LAT",
         2166.3,
         4
        ],
        [
         "MGL",
         2220.0,
         3
        ],
        [
         "BUL",
         2216.3,
         3
        ],
        [
         "EGY",
         2105.0,
         3
        ],
        [
         "AUS",
         2205.0,
         2
        ],
        [
         "NED",
         2246.5,
         2
        ],
        [
         "LUX",
         2240.5,
         2
        ],
        [
         "ISR",
         2225.0,
         2
        ],
        [
         "LTU",
         2133.5,
         2
        ],
        [
         "SUI",
         2210.5,
         2
        ],
        [
         "ARG",
         2236.0,
         2
        ],
        [
         "ESP",
         2232.5,
         2
        ],
        [
         "KAZ",
         2051.0,
         2
        ],
        [
         "GRE",
         2157.0,
         2
        ],
        [
         "ARM",
         2225.0,
         1
        ],
        [
         "BOT",
         1728.0,
         1
        ],
        [
         "ITA",
         2081.0,
         1
        ],
        [
         "PAR",
         2224.0,
         1
        ],
        [
         "BLR",
         1833.0,
         1
        ],
        [
         "SVK",
         2205.0,
         1
        ],
        [
         "NOR",
         2172.0,
         1
        ],
        [
         "TUR",
         2265.0,
         1
        ],
        [
         "AUT",
         2302.0,
         1
        ],
        [
         "MNC",
         2199.0,
         1
        ],
        [
         "CAN",
         2302.0,
         1
        ],
        [
         "COL",
         2041.0,
         1
        ],
        [
         "PHI",
         2164.0,
         1
        ],
        [
         "CRO",
         2101.0,
         1
        ],
        [
         "ECU",
         2050.0,
         1
        ],
        [
         "SGP",
         2250.0,
         1
        ],
        [
         "IRI",
         2354.0,
         1
        ],
        [
         "FID",
         2221.0,
         1
        ],
        [
         "MDA",
         2078.0,
         1
        ],
        [
         "UZB",
         2233.0,
         1
        ],
        [
         "INA",
         2241.0,
         1
        ],
        [
         "ISL",
         2114.0,
         1
        ]
       ],
       "datasetInfos": [],
       "dbfsResultPath": null,
       "isJsonSchema": true,
       "metadata": {},
       "overflow": false,
       "plotOptions": {
        "customPlotOptions": {},
        "displayType": "table",
        "pivotAggregation": null,
        "pivotColumns": null,
        "xColumns": null,
        "yColumns": null
       },
       "removedWidgets": [],
       "schema": [
        {
         "metadata": "{\"comment\":\"Nationality code of the player, country (3 characters)\"}",
         "name": "country",
         "type": "\"string\""
        },
        {
         "metadata": "{}",
         "name": "average_rating",
         "type": "\"double\""
        },
        {
         "metadata": "{}",
         "name": "players",
         "type": "\"long\""
        }
       ],
       "type": "table"
      }
     },
     "output_type": "display_data"
    }
   ],
   "source": [
    "from pyspark.sql import functions as F\n",
    "\n",
    "# Filter out rows where the rating is 0 or null, the player is a WGM, and flag is not 'wi'\n",
    "filtered_df = gm_avg_rating_df.filter(\n",
    "    (gm_avg_rating_df.rating != 0) & \n",
    "    (gm_avg_rating_df.rating.isNotNull()) & \n",
    "    (gm_avg_rating_df.title == 'WGM') & \n",
    "    (gm_avg_rating_df.flag != 'wi')\n",
    ")\n",
    "\n",
    "# Group by country and calculate the average rating\n",
    "average_rating_by_country = filtered_df.groupBy('country').agg(\n",
    "    F.avg('rating').alias('average_rating'),\n",
    "    F.count('*').alias('players')  # Add line_count column to count the number of lines per country\n",
    ")\n",
    "\n",
    "# Order by players count in descending order and round average_rating to 1 decimal place\n",
    "average_rating_by_country = average_rating_by_country.orderBy(F.desc('players')).withColumn('average_rating', F.round('average_rating', 1))\n",
    "\n",
    "# Display the result\n",
    "display(average_rating_by_country)"
   ]
  },
  {
   "cell_type": "code",
   "execution_count": 0,
   "metadata": {
    "application/vnd.databricks.v1+cell": {
     "cellMetadata": {},
     "inputWidgets": {},
     "nuid": "516e1ddb-73a8-48b3-97a4-427f6856af79",
     "showTitle": false,
     "title": ""
    }
   },
   "outputs": [],
   "source": [
    "average_rating_by_country.write.mode('overwrite').saveAsTable('gold.f_WGM_average_rating_by_country')"
   ]
  }
 ],
 "metadata": {
  "application/vnd.databricks.v1+notebook": {
   "dashboards": [],
   "environmentMetadata": null,
   "language": "python",
   "notebookMetadata": {
    "pythonIndentUnit": 4
   },
   "notebookName": "silver to gold - WGM count avg. rating",
   "widgets": {}
  }
 },
 "nbformat": 4,
 "nbformat_minor": 0
}
