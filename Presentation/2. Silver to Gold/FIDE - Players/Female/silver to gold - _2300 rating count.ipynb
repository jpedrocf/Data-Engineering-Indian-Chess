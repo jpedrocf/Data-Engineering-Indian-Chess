{
 "cells": [
  {
   "cell_type": "markdown",
   "metadata": {
    "application/vnd.databricks.v1+cell": {
     "cellMetadata": {},
     "inputWidgets": {},
     "nuid": "d7a0fd70-12e1-4fca-85e2-de22203136b7",
     "showTitle": false,
     "title": ""
    }
   },
   "source": [
    "- Dataframe creation of the table players_female_Base in the silver DB, using Spark"
   ]
  },
  {
   "cell_type": "code",
   "execution_count": 0,
   "metadata": {
    "application/vnd.databricks.v1+cell": {
     "cellMetadata": {
      "byteLimit": 2048000,
      "rowLimit": 10000
     },
     "inputWidgets": {},
     "nuid": "c5670883-058c-4d7c-b1cb-cb9161c98609",
     "showTitle": false,
     "title": ""
    }
   },
   "outputs": [],
   "source": [
    "awesome_rated_players = spark.table('silver.players_female_base')"
   ]
  },
  {
   "cell_type": "markdown",
   "metadata": {
    "application/vnd.databricks.v1+cell": {
     "cellMetadata": {},
     "inputWidgets": {},
     "nuid": "8e402989-d91f-4a85-acf8-298d285f7a8c",
     "showTitle": false,
     "title": ""
    }
   },
   "source": [
    "- Filtering active female players with more than 2300 of rating and counting them in descending order per country"
   ]
  },
  {
   "cell_type": "code",
   "execution_count": 0,
   "metadata": {
    "application/vnd.databricks.v1+cell": {
     "cellMetadata": {
      "byteLimit": 2048000,
      "rowLimit": 10000
     },
     "inputWidgets": {},
     "nuid": "8652f91f-33e7-4d94-8331-3c2001271632",
     "showTitle": false,
     "title": ""
    }
   },
   "outputs": [
    {
     "output_type": "display_data",
     "data": {
      "text/html": [
       "<style scoped>\n",
       "  .table-result-container {\n",
       "    max-height: 300px;\n",
       "    overflow: auto;\n",
       "  }\n",
       "  table, th, td {\n",
       "    border: 1px solid black;\n",
       "    border-collapse: collapse;\n",
       "  }\n",
       "  th, td {\n",
       "    padding: 5px;\n",
       "  }\n",
       "  th {\n",
       "    text-align: left;\n",
       "  }\n",
       "</style><div class='table-result-container'><table class='table-result'><thead style='background-color: white'><tr><th>country</th><th>player_count</th></tr></thead><tbody><tr><td>CHN</td><td>18</td></tr><tr><td>IND</td><td>14</td></tr><tr><td>POL</td><td>11</td></tr><tr><td>UKR</td><td>11</td></tr><tr><td>RUS</td><td>10</td></tr><tr><td>FRA</td><td>9</td></tr><tr><td>USA</td><td>8</td></tr><tr><td>GER</td><td>8</td></tr><tr><td>GEO</td><td>7</td></tr><tr><td>FID</td><td>6</td></tr><tr><td>AZE</td><td>5</td></tr><tr><td>ARM</td><td>4</td></tr><tr><td>HUN</td><td>4</td></tr><tr><td>ESP</td><td>4</td></tr><tr><td>BUL</td><td>4</td></tr><tr><td>KAZ</td><td>4</td></tr><tr><td>ENG</td><td>3</td></tr><tr><td>VIE</td><td>2</td></tr><tr><td>ITA</td><td>2</td></tr><tr><td>SVK</td><td>2</td></tr><tr><td>NED</td><td>2</td></tr><tr><td>ISR</td><td>2</td></tr><tr><td>ROU</td><td>2</td></tr><tr><td>MGL</td><td>2</td></tr><tr><td>SRB</td><td>2</td></tr><tr><td>INA</td><td>2</td></tr><tr><td>CUB</td><td>1</td></tr><tr><td>SLO</td><td>1</td></tr><tr><td>PER</td><td>1</td></tr><tr><td>TUR</td><td>1</td></tr><tr><td>AUT</td><td>1</td></tr><tr><td>CAN</td><td>1</td></tr><tr><td>SUI</td><td>1</td></tr><tr><td>ARG</td><td>1</td></tr><tr><td>EST</td><td>1</td></tr><tr><td>SWE</td><td>1</td></tr><tr><td>IRI</td><td>1</td></tr><tr><td>GRE</td><td>1</td></tr></tbody></table></div>"
      ]
     },
     "metadata": {
      "application/vnd.databricks.v1+output": {
       "addedWidgets": {},
       "aggData": [],
       "aggError": "",
       "aggOverflow": false,
       "aggSchema": [],
       "aggSeriesLimitReached": false,
       "aggType": "",
       "arguments": {},
       "columnCustomDisplayInfos": {},
       "data": [
        [
         "CHN",
         18
        ],
        [
         "IND",
         14
        ],
        [
         "POL",
         11
        ],
        [
         "UKR",
         11
        ],
        [
         "RUS",
         10
        ],
        [
         "FRA",
         9
        ],
        [
         "USA",
         8
        ],
        [
         "GER",
         8
        ],
        [
         "GEO",
         7
        ],
        [
         "FID",
         6
        ],
        [
         "AZE",
         5
        ],
        [
         "ARM",
         4
        ],
        [
         "HUN",
         4
        ],
        [
         "ESP",
         4
        ],
        [
         "BUL",
         4
        ],
        [
         "KAZ",
         4
        ],
        [
         "ENG",
         3
        ],
        [
         "VIE",
         2
        ],
        [
         "ITA",
         2
        ],
        [
         "SVK",
         2
        ],
        [
         "NED",
         2
        ],
        [
         "ISR",
         2
        ],
        [
         "ROU",
         2
        ],
        [
         "MGL",
         2
        ],
        [
         "SRB",
         2
        ],
        [
         "INA",
         2
        ],
        [
         "CUB",
         1
        ],
        [
         "SLO",
         1
        ],
        [
         "PER",
         1
        ],
        [
         "TUR",
         1
        ],
        [
         "AUT",
         1
        ],
        [
         "CAN",
         1
        ],
        [
         "SUI",
         1
        ],
        [
         "ARG",
         1
        ],
        [
         "EST",
         1
        ],
        [
         "SWE",
         1
        ],
        [
         "IRI",
         1
        ],
        [
         "GRE",
         1
        ]
       ],
       "datasetInfos": [],
       "dbfsResultPath": null,
       "isJsonSchema": true,
       "metadata": {},
       "overflow": false,
       "plotOptions": {
        "customPlotOptions": {},
        "displayType": "table",
        "pivotAggregation": null,
        "pivotColumns": null,
        "xColumns": null,
        "yColumns": null
       },
       "removedWidgets": [],
       "schema": [
        {
         "metadata": "{\"comment\":\"Nationality code of the player, country (3 characters)\"}",
         "name": "country",
         "type": "\"string\""
        },
        {
         "metadata": "{}",
         "name": "player_count",
         "type": "\"long\""
        }
       ],
       "type": "table"
      }
     },
     "output_type": "display_data"
    }
   ],
   "source": [
    "from pyspark.sql import functions as F\n",
    "\n",
    "filtered_df_rating = awesome_rated_players.filter(awesome_rated_players.rating > 2300)\n",
    "\n",
    "filtered_df_rating2 = filtered_df_rating.filter(filtered_df_rating.flag != 'wi')\n",
    "\n",
    "awesome_rated_players_by_country = filtered_df_rating2.groupBy('country').count()\n",
    "awesome_rated_players_by_country2 = awesome_rated_players_by_country.withColumnRenamed(\"count\", \"player_count\")\n",
    "\n",
    "awesome_rated_players_by_country2 = awesome_rated_players_by_country2.orderBy(F.desc(\"player_count\"))\n",
    "\n",
    "display(awesome_rated_players_by_country2)"
   ]
  },
  {
   "cell_type": "code",
   "execution_count": 0,
   "metadata": {
    "application/vnd.databricks.v1+cell": {
     "cellMetadata": {},
     "inputWidgets": {},
     "nuid": "408ca434-7289-4d71-8157-e73e7d930570",
     "showTitle": false,
     "title": ""
    }
   },
   "outputs": [],
   "source": [
    "awesome_rated_players_by_country2.write.mode('overwrite').saveAsTable('gold.F_2300_rated_players_per_country')"
   ]
  }
 ],
 "metadata": {
  "application/vnd.databricks.v1+notebook": {
   "dashboards": [],
   "environmentMetadata": null,
   "language": "python",
   "notebookMetadata": {},
   "notebookName": "silver to gold - >2300 rating count",
   "widgets": {}
  }
 },
 "nbformat": 4,
 "nbformat_minor": 0
}
