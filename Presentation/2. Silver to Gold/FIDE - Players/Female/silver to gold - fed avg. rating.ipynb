{
 "cells": [
  {
   "cell_type": "markdown",
   "metadata": {
    "application/vnd.databricks.v1+cell": {
     "cellMetadata": {},
     "inputWidgets": {},
     "nuid": "22b1a481-ac89-4819-a594-dafab2524bdd",
     "showTitle": false,
     "title": ""
    }
   },
   "source": [
    "- Dataframe creation of the table players_female_Base in the silver DB, using Spark"
   ]
  },
  {
   "cell_type": "code",
   "execution_count": 0,
   "metadata": {
    "application/vnd.databricks.v1+cell": {
     "cellMetadata": {
      "byteLimit": 2048000,
      "rowLimit": 10000
     },
     "inputWidgets": {},
     "nuid": "5b6fc3de-b06e-4e8c-af48-7c57114344dc",
     "showTitle": false,
     "title": ""
    }
   },
   "outputs": [],
   "source": [
    "avg_rating_df = spark.table('silver.players_female_base')"
   ]
  },
  {
   "cell_type": "markdown",
   "metadata": {
    "application/vnd.databricks.v1+cell": {
     "cellMetadata": {},
     "inputWidgets": {},
     "nuid": "4d34509b-66c2-4bab-91a9-de2b9f5c929a",
     "showTitle": false,
     "title": ""
    }
   },
   "source": [
    "- Filtering top 10 players per country, where flag is not inactive"
   ]
  },
  {
   "cell_type": "code",
   "execution_count": 0,
   "metadata": {
    "application/vnd.databricks.v1+cell": {
     "cellMetadata": {
      "byteLimit": 2048000,
      "rowLimit": 10000
     },
     "inputWidgets": {},
     "nuid": "a0b0b1f3-7d65-4b23-a371-fbd7ea9ea9e3",
     "showTitle": false,
     "title": ""
    }
   },
   "outputs": [
    {
     "output_type": "display_data",
     "data": {
      "text/html": [
       "<style scoped>\n",
       "  .table-result-container {\n",
       "    max-height: 300px;\n",
       "    overflow: auto;\n",
       "  }\n",
       "  table, th, td {\n",
       "    border: 1px solid black;\n",
       "    border-collapse: collapse;\n",
       "  }\n",
       "  th, td {\n",
       "    padding: 5px;\n",
       "  }\n",
       "  th {\n",
       "    text-align: left;\n",
       "  }\n",
       "</style><div class='table-result-container'><table class='table-result'><thead style='background-color: white'><tr><th>country</th><th>average_rating</th></tr></thead><tbody><tr><td>CHN</td><td>2483.8</td></tr><tr><td>IND</td><td>2420.5</td></tr><tr><td>UKR</td><td>2389.9</td></tr><tr><td>POL</td><td>2378.1</td></tr><tr><td>RUS</td><td>2377.4</td></tr><tr><td>GEO</td><td>2370.8</td></tr><tr><td>FID</td><td>2358.7</td></tr><tr><td>FRA</td><td>2348.4</td></tr><tr><td>GER</td><td>2345.7</td></tr><tr><td>USA</td><td>2345.5</td></tr><tr><td>AZE</td><td>2319.6</td></tr><tr><td>KAZ</td><td>2312.1</td></tr><tr><td>BUL</td><td>2292.6</td></tr><tr><td>ESP</td><td>2281.7</td></tr><tr><td>HUN</td><td>2280.7</td></tr><tr><td>ROU</td><td>2263.2</td></tr><tr><td>SRB</td><td>2253.8</td></tr><tr><td>NED</td><td>2249.0</td></tr><tr><td>ENG</td><td>2239.0</td></tr><tr><td>ISR</td><td>2234.5</td></tr><tr><td>MGL</td><td>2208.1</td></tr><tr><td>CUB</td><td>2205.7</td></tr><tr><td>ARM</td><td>2203.3</td></tr><tr><td>VIE</td><td>2200.6</td></tr><tr><td>ARG</td><td>2191.0</td></tr><tr><td>ITA</td><td>2190.3</td></tr><tr><td>SUI</td><td>2184.8</td></tr><tr><td>SVK</td><td>2179.4</td></tr><tr><td>CZE</td><td>2166.1</td></tr><tr><td>SLO</td><td>2164.8</td></tr><tr><td>AUT</td><td>2157.2</td></tr><tr><td>GRE</td><td>2150.3</td></tr><tr><td>LAT</td><td>2146.5</td></tr><tr><td>INA</td><td>2136.8</td></tr><tr><td>CAN</td><td>2136.5</td></tr><tr><td>SWE</td><td>2133.1</td></tr><tr><td>IRI</td><td>2131.9</td></tr><tr><td>TUR</td><td>2114.0</td></tr><tr><td>CRO</td><td>2102.9</td></tr><tr><td>COL</td><td>2102.0</td></tr><tr><td>NOR</td><td>2096.4</td></tr><tr><td>EST</td><td>2094.2</td></tr><tr><td>BEL</td><td>2086.3</td></tr><tr><td>LTU</td><td>2067.9</td></tr><tr><td>UZB</td><td>2059.2</td></tr><tr><td>DEN</td><td>2054.4</td></tr><tr><td>BRA</td><td>2046.4</td></tr><tr><td>PER</td><td>2043.3</td></tr><tr><td>ECU</td><td>2035.0</td></tr><tr><td>MEX</td><td>2017.3</td></tr><tr><td>AUS</td><td>2007.4</td></tr><tr><td>PHI</td><td>2001.5</td></tr><tr><td>ISL</td><td>1997.9</td></tr><tr><td>VEN</td><td>1991.8</td></tr><tr><td>MDA</td><td>1991.2</td></tr><tr><td>FIN</td><td>1983.6</td></tr><tr><td>BIH</td><td>1982.0</td></tr><tr><td>MNE</td><td>1980.1</td></tr><tr><td>LUX</td><td>1978.8</td></tr><tr><td>BAN</td><td>1964.8</td></tr><tr><td>TKM</td><td>1962.3</td></tr><tr><td>MKD</td><td>1961.4</td></tr><tr><td>POR</td><td>1955.8</td></tr><tr><td>SGP</td><td>1955.2</td></tr><tr><td>EGY</td><td>1954.5</td></tr><tr><td>CHI</td><td>1932.7</td></tr><tr><td>NGR</td><td>1927.1</td></tr><tr><td>MAS</td><td>1910.4</td></tr><tr><td>NZL</td><td>1893.7</td></tr><tr><td>IRL</td><td>1889.5</td></tr><tr><td>CRC</td><td>1888.1</td></tr><tr><td>ESA</td><td>1881.2</td></tr><tr><td>BOL</td><td>1877.4</td></tr><tr><td>SCO</td><td>1877.1</td></tr><tr><td>MNC</td><td>1872.3</td></tr><tr><td>SYR</td><td>1869.0</td></tr><tr><td>GCI</td><td>1856.7</td></tr><tr><td>PAR</td><td>1855.8</td></tr><tr><td>ALG</td><td>1848.6</td></tr><tr><td>SRI</td><td>1847.3</td></tr><tr><td>KGZ</td><td>1847.2</td></tr><tr><td>MYA</td><td>1844.0</td></tr><tr><td>RSA</td><td>1840.1</td></tr><tr><td>DOM</td><td>1839.7</td></tr><tr><td>NCA</td><td>1837.0</td></tr><tr><td>URU</td><td>1827.8</td></tr><tr><td>BLR</td><td>1825.4</td></tr><tr><td>BOT</td><td>1815.0</td></tr><tr><td>ALB</td><td>1807.4</td></tr><tr><td>JPN</td><td>1806.4</td></tr><tr><td>PAN</td><td>1804.1</td></tr><tr><td>UAE</td><td>1802.1</td></tr><tr><td>IRQ</td><td>1798.5</td></tr><tr><td>BER</td><td>1793.0</td></tr><tr><td>PLE</td><td>1780.7</td></tr><tr><td>UGA</td><td>1778.7</td></tr><tr><td>WLS</td><td>1778.4</td></tr><tr><td>MAR</td><td>1778.0</td></tr><tr><td>ANG</td><td>1775.2</td></tr><tr><td>KSA</td><td>1765.2</td></tr><tr><td>KOR</td><td>1764.0</td></tr><tr><td>ZIM</td><td>1763.1</td></tr><tr><td>ZAM</td><td>1758.9</td></tr><tr><td>GUA</td><td>1743.6</td></tr><tr><td>JAM</td><td>1735.6</td></tr><tr><td>TJK</td><td>1725.7</td></tr><tr><td>KEN</td><td>1724.8</td></tr><tr><td>HON</td><td>1717.8</td></tr><tr><td>THA</td><td>1714.1</td></tr><tr><td>PUR</td><td>1709.0</td></tr><tr><td>MAD</td><td>1708.6</td></tr><tr><td>JOR</td><td>1707.8</td></tr><tr><td>HKG</td><td>1706.6</td></tr><tr><td>NEP</td><td>1706.1</td></tr><tr><td>TUN</td><td>1702.8</td></tr><tr><td>BAH</td><td>1697.7</td></tr><tr><td>ETH</td><td>1694.8</td></tr><tr><td>AND</td><td>1692.6</td></tr><tr><td>TTO</td><td>1691.4</td></tr><tr><td>LIE</td><td>1685.0</td></tr><tr><td>AHO</td><td>1681.5</td></tr><tr><td>LBA</td><td>1680.3</td></tr><tr><td>KOS</td><td>1675.6</td></tr><tr><td>NRU</td><td>1673.0</td></tr><tr><td>JCI</td><td>1657.5</td></tr><tr><td>NAM</td><td>1656.6</td></tr><tr><td>CYP</td><td>1653.1</td></tr><tr><td>MOZ</td><td>1647.4</td></tr><tr><td>QAT</td><td>1634.2</td></tr><tr><td>LBN</td><td>1633.9</td></tr><tr><td>SEN</td><td>1631.7</td></tr><tr><td>BAR</td><td>1629.6</td></tr><tr><td>SUR</td><td>1629.4</td></tr><tr><td>MLT</td><td>1629.2</td></tr><tr><td>MRI</td><td>1629.0</td></tr><tr><td>GUM</td><td>1620.7</td></tr><tr><td>CAY</td><td>1620.0</td></tr><tr><td>PAK</td><td>1617.3</td></tr><tr><td>TPE</td><td>1616.1</td></tr><tr><td>FIJ</td><td>1600.0</td></tr><tr><td>PLW</td><td>1596.0</td></tr><tr><td>MAW</td><td>1592.0</td></tr><tr><td>LBR</td><td>1591.3</td></tr><tr><td>LCA</td><td>1590.7</td></tr><tr><td>BRU</td><td>1589.0</td></tr><tr><td>CIV</td><td>1585.2</td></tr><tr><td>CPV</td><td>1583.9</td></tr><tr><td>LES</td><td>1583.4</td></tr><tr><td>STP</td><td>1579.0</td></tr><tr><td>KUW</td><td>1575.8</td></tr><tr><td>ARU</td><td>1575.2</td></tr><tr><td>HAI</td><td>1572.9</td></tr><tr><td>GHA</td><td>1566.5</td></tr><tr><td>OMA</td><td>1563.0</td></tr><tr><td>MAC</td><td>1545.0</td></tr><tr><td>ERI</td><td>1541.0</td></tr><tr><td>ISV</td><td>1536.0</td></tr><tr><td>GUY</td><td>1534.1</td></tr><tr><td>SUD</td><td>1523.8</td></tr><tr><td>TAN</td><td>1521.3</td></tr><tr><td>SWZ</td><td>1516.9</td></tr><tr><td>FAI</td><td>1515.0</td></tr><tr><td>BRN</td><td>1514.7</td></tr><tr><td>MTN</td><td>1494.0</td></tr><tr><td>TOG</td><td>1479.8</td></tr><tr><td>MDV</td><td>1476.8</td></tr><tr><td>GAB</td><td>1469.0</td></tr><tr><td>BHU</td><td>1467.0</td></tr><tr><td>DMA</td><td>1450.0</td></tr><tr><td>MLI</td><td>1427.0</td></tr></tbody></table></div>"
      ]
     },
     "metadata": {
      "application/vnd.databricks.v1+output": {
       "addedWidgets": {},
       "aggData": [],
       "aggError": "",
       "aggOverflow": false,
       "aggSchema": [],
       "aggSeriesLimitReached": false,
       "aggType": "",
       "arguments": {},
       "columnCustomDisplayInfos": {},
       "data": [
        [
         "CHN",
         2483.8
        ],
        [
         "IND",
         2420.5
        ],
        [
         "UKR",
         2389.9
        ],
        [
         "POL",
         2378.1
        ],
        [
         "RUS",
         2377.4
        ],
        [
         "GEO",
         2370.8
        ],
        [
         "FID",
         2358.7
        ],
        [
         "FRA",
         2348.4
        ],
        [
         "GER",
         2345.7
        ],
        [
         "USA",
         2345.5
        ],
        [
         "AZE",
         2319.6
        ],
        [
         "KAZ",
         2312.1
        ],
        [
         "BUL",
         2292.6
        ],
        [
         "ESP",
         2281.7
        ],
        [
         "HUN",
         2280.7
        ],
        [
         "ROU",
         2263.2
        ],
        [
         "SRB",
         2253.8
        ],
        [
         "NED",
         2249.0
        ],
        [
         "ENG",
         2239.0
        ],
        [
         "ISR",
         2234.5
        ],
        [
         "MGL",
         2208.1
        ],
        [
         "CUB",
         2205.7
        ],
        [
         "ARM",
         2203.3
        ],
        [
         "VIE",
         2200.6
        ],
        [
         "ARG",
         2191.0
        ],
        [
         "ITA",
         2190.3
        ],
        [
         "SUI",
         2184.8
        ],
        [
         "SVK",
         2179.4
        ],
        [
         "CZE",
         2166.1
        ],
        [
         "SLO",
         2164.8
        ],
        [
         "AUT",
         2157.2
        ],
        [
         "GRE",
         2150.3
        ],
        [
         "LAT",
         2146.5
        ],
        [
         "INA",
         2136.8
        ],
        [
         "CAN",
         2136.5
        ],
        [
         "SWE",
         2133.1
        ],
        [
         "IRI",
         2131.9
        ],
        [
         "TUR",
         2114.0
        ],
        [
         "CRO",
         2102.9
        ],
        [
         "COL",
         2102.0
        ],
        [
         "NOR",
         2096.4
        ],
        [
         "EST",
         2094.2
        ],
        [
         "BEL",
         2086.3
        ],
        [
         "LTU",
         2067.9
        ],
        [
         "UZB",
         2059.2
        ],
        [
         "DEN",
         2054.4
        ],
        [
         "BRA",
         2046.4
        ],
        [
         "PER",
         2043.3
        ],
        [
         "ECU",
         2035.0
        ],
        [
         "MEX",
         2017.3
        ],
        [
         "AUS",
         2007.4
        ],
        [
         "PHI",
         2001.5
        ],
        [
         "ISL",
         1997.9
        ],
        [
         "VEN",
         1991.8
        ],
        [
         "MDA",
         1991.2
        ],
        [
         "FIN",
         1983.6
        ],
        [
         "BIH",
         1982.0
        ],
        [
         "MNE",
         1980.1
        ],
        [
         "LUX",
         1978.8
        ],
        [
         "BAN",
         1964.8
        ],
        [
         "TKM",
         1962.3
        ],
        [
         "MKD",
         1961.4
        ],
        [
         "POR",
         1955.8
        ],
        [
         "SGP",
         1955.2
        ],
        [
         "EGY",
         1954.5
        ],
        [
         "CHI",
         1932.7
        ],
        [
         "NGR",
         1927.1
        ],
        [
         "MAS",
         1910.4
        ],
        [
         "NZL",
         1893.7
        ],
        [
         "IRL",
         1889.5
        ],
        [
         "CRC",
         1888.1
        ],
        [
         "ESA",
         1881.2
        ],
        [
         "BOL",
         1877.4
        ],
        [
         "SCO",
         1877.1
        ],
        [
         "MNC",
         1872.3
        ],
        [
         "SYR",
         1869.0
        ],
        [
         "GCI",
         1856.7
        ],
        [
         "PAR",
         1855.8
        ],
        [
         "ALG",
         1848.6
        ],
        [
         "SRI",
         1847.3
        ],
        [
         "KGZ",
         1847.2
        ],
        [
         "MYA",
         1844.0
        ],
        [
         "RSA",
         1840.1
        ],
        [
         "DOM",
         1839.7
        ],
        [
         "NCA",
         1837.0
        ],
        [
         "URU",
         1827.8
        ],
        [
         "BLR",
         1825.4
        ],
        [
         "BOT",
         1815.0
        ],
        [
         "ALB",
         1807.4
        ],
        [
         "JPN",
         1806.4
        ],
        [
         "PAN",
         1804.1
        ],
        [
         "UAE",
         1802.1
        ],
        [
         "IRQ",
         1798.5
        ],
        [
         "BER",
         1793.0
        ],
        [
         "PLE",
         1780.7
        ],
        [
         "UGA",
         1778.7
        ],
        [
         "WLS",
         1778.4
        ],
        [
         "MAR",
         1778.0
        ],
        [
         "ANG",
         1775.2
        ],
        [
         "KSA",
         1765.2
        ],
        [
         "KOR",
         1764.0
        ],
        [
         "ZIM",
         1763.1
        ],
        [
         "ZAM",
         1758.9
        ],
        [
         "GUA",
         1743.6
        ],
        [
         "JAM",
         1735.6
        ],
        [
         "TJK",
         1725.7
        ],
        [
         "KEN",
         1724.8
        ],
        [
         "HON",
         1717.8
        ],
        [
         "THA",
         1714.1
        ],
        [
         "PUR",
         1709.0
        ],
        [
         "MAD",
         1708.6
        ],
        [
         "JOR",
         1707.8
        ],
        [
         "HKG",
         1706.6
        ],
        [
         "NEP",
         1706.1
        ],
        [
         "TUN",
         1702.8
        ],
        [
         "BAH",
         1697.7
        ],
        [
         "ETH",
         1694.8
        ],
        [
         "AND",
         1692.6
        ],
        [
         "TTO",
         1691.4
        ],
        [
         "LIE",
         1685.0
        ],
        [
         "AHO",
         1681.5
        ],
        [
         "LBA",
         1680.3
        ],
        [
         "KOS",
         1675.6
        ],
        [
         "NRU",
         1673.0
        ],
        [
         "JCI",
         1657.5
        ],
        [
         "NAM",
         1656.6
        ],
        [
         "CYP",
         1653.1
        ],
        [
         "MOZ",
         1647.4
        ],
        [
         "QAT",
         1634.2
        ],
        [
         "LBN",
         1633.9
        ],
        [
         "SEN",
         1631.7
        ],
        [
         "BAR",
         1629.6
        ],
        [
         "SUR",
         1629.4
        ],
        [
         "MLT",
         1629.2
        ],
        [
         "MRI",
         1629.0
        ],
        [
         "GUM",
         1620.7
        ],
        [
         "CAY",
         1620.0
        ],
        [
         "PAK",
         1617.3
        ],
        [
         "TPE",
         1616.1
        ],
        [
         "FIJ",
         1600.0
        ],
        [
         "PLW",
         1596.0
        ],
        [
         "MAW",
         1592.0
        ],
        [
         "LBR",
         1591.3
        ],
        [
         "LCA",
         1590.7
        ],
        [
         "BRU",
         1589.0
        ],
        [
         "CIV",
         1585.2
        ],
        [
         "CPV",
         1583.9
        ],
        [
         "LES",
         1583.4
        ],
        [
         "STP",
         1579.0
        ],
        [
         "KUW",
         1575.8
        ],
        [
         "ARU",
         1575.2
        ],
        [
         "HAI",
         1572.9
        ],
        [
         "GHA",
         1566.5
        ],
        [
         "OMA",
         1563.0
        ],
        [
         "MAC",
         1545.0
        ],
        [
         "ERI",
         1541.0
        ],
        [
         "ISV",
         1536.0
        ],
        [
         "GUY",
         1534.1
        ],
        [
         "SUD",
         1523.8
        ],
        [
         "TAN",
         1521.3
        ],
        [
         "SWZ",
         1516.9
        ],
        [
         "FAI",
         1515.0
        ],
        [
         "BRN",
         1514.7
        ],
        [
         "MTN",
         1494.0
        ],
        [
         "TOG",
         1479.8
        ],
        [
         "MDV",
         1476.8
        ],
        [
         "GAB",
         1469.0
        ],
        [
         "BHU",
         1467.0
        ],
        [
         "DMA",
         1450.0
        ],
        [
         "MLI",
         1427.0
        ]
       ],
       "datasetInfos": [],
       "dbfsResultPath": null,
       "isJsonSchema": true,
       "metadata": {},
       "overflow": false,
       "plotOptions": {
        "customPlotOptions": {},
        "displayType": "table",
        "pivotAggregation": null,
        "pivotColumns": null,
        "xColumns": null,
        "yColumns": null
       },
       "removedWidgets": [],
       "schema": [
        {
         "metadata": "{\"comment\":\"Nationality code of the player, country (3 characters)\"}",
         "name": "country",
         "type": "\"string\""
        },
        {
         "metadata": "{}",
         "name": "average_rating",
         "type": "\"double\""
        }
       ],
       "type": "table"
      }
     },
     "output_type": "display_data"
    }
   ],
   "source": [
    "from pyspark.sql import Window\n",
    "from pyspark.sql import functions as F\n",
    "\n",
    "# Filter out rows where the rating is 0 or null and the flag is not inactive\n",
    "filtered_df = avg_rating_df.filter((avg_rating_df.rating != 0) & (avg_rating_df.rating.isNotNull()) & (avg_rating_df.flag != 'wi'))\n",
    "\n",
    "# Define a window specification to partition by country and order by rating descending\n",
    "window_spec = Window.partitionBy('country').orderBy(F.desc('rating'))\n",
    "\n",
    "# Add a row number within each partition\n",
    "ranked_df = filtered_df.withColumn('rank', F.row_number().over(window_spec))\n",
    "\n",
    "# Filter to keep only the top 10 players per country\n",
    "top_10_df = ranked_df.filter(ranked_df.rank <= 10)\n",
    "\n",
    "# Group by country and calculate the average rating of the top 10 players\n",
    "average_rating_by_country = top_10_df.groupBy('country').agg(\n",
    "    F.avg('rating').alias('average_rating')\n",
    ")\n",
    "\n",
    "# Order by average_rating in descending order and round to 1 decimal place\n",
    "average_rating_by_country = average_rating_by_country.orderBy(F.desc('average_rating')).withColumn('average_rating', F.round('average_rating', 1))\n",
    "\n",
    "# Display the result\n",
    "display(average_rating_by_country)"
   ]
  },
  {
   "cell_type": "code",
   "execution_count": 0,
   "metadata": {
    "application/vnd.databricks.v1+cell": {
     "cellMetadata": {},
     "inputWidgets": {},
     "nuid": "e33f064f-3782-44a3-b488-495f4ee5ea7f",
     "showTitle": false,
     "title": ""
    }
   },
   "outputs": [],
   "source": [
    "average_rating_by_country.write.mode('overwrite').saveAsTable('gold.f_top10_average_rating_by_country')"
   ]
  }
 ],
 "metadata": {
  "application/vnd.databricks.v1+notebook": {
   "dashboards": [],
   "environmentMetadata": null,
   "language": "python",
   "notebookMetadata": {
    "pythonIndentUnit": 4
   },
   "notebookName": "silver to gold - fed avg. rating",
   "widgets": {}
  }
 },
 "nbformat": 4,
 "nbformat_minor": 0
}
