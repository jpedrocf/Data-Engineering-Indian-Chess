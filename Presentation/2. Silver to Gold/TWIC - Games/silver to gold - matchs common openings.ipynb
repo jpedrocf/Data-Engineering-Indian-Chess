{
 "cells": [
  {
   "cell_type": "markdown",
   "metadata": {
    "application/vnd.databricks.v1+cell": {
     "cellMetadata": {},
     "inputWidgets": {},
     "nuid": "4dbd8402-c87e-4f3d-ba5a-d09104baa83e",
     "showTitle": false,
     "title": ""
    }
   },
   "source": [
    "- Dataframe creation of the table event_games and the table players_current_month in the silver DB, using Spark"
   ]
  },
  {
   "cell_type": "code",
   "execution_count": 0,
   "metadata": {
    "application/vnd.databricks.v1+cell": {
     "cellMetadata": {
      "byteLimit": 2048000,
      "rowLimit": 10000
     },
     "inputWidgets": {},
     "nuid": "83c9f435-9fa5-42ad-bbcf-d2b803f3785f",
     "showTitle": false,
     "title": ""
    }
   },
   "outputs": [],
   "source": [
    "players_df = spark.table('silver.players_current_month')\n",
    "games_df = spark.table('silver.event_games')"
   ]
  },
  {
   "cell_type": "markdown",
   "metadata": {
    "application/vnd.databricks.v1+cell": {
     "cellMetadata": {},
     "inputWidgets": {},
     "nuid": "56529852-ecbc-4625-ab67-a1bc834072d7",
     "showTitle": false,
     "title": ""
    }
   },
   "source": [
    "- Making a join of the games and players tables, using the fide id as the connector, and adding the country column for black and white players at the games table"
   ]
  },
  {
   "cell_type": "code",
   "execution_count": 0,
   "metadata": {
    "application/vnd.databricks.v1+cell": {
     "cellMetadata": {
      "byteLimit": 2048000,
      "rowLimit": 10000
     },
     "inputWidgets": {},
     "nuid": "df3fdea1-2a7c-4499-b8f2-f8467c7aa85d",
     "showTitle": false,
     "title": ""
    }
   },
   "outputs": [],
   "source": [
    "from pyspark.sql import functions as F\n",
    "\n",
    "# Alias the DataFrames for clarity\n",
    "games_df_aliased = games_df.alias(\"games\")\n",
    "players_df_white = players_df.alias(\"players_white\")\n",
    "players_df_black = players_df.alias(\"players_black\")\n",
    "\n",
    "# Join partidas_df with players_df (aliased as players_white) on white_fide_id to get white_country\n",
    "joined_df = games_df_aliased.join(\n",
    "    players_df_white,\n",
    "    F.col(\"games.white_fide_id\") == F.col(\"players_white.fideid\"),\n",
    "    \"left_outer\"\n",
    ").select(\n",
    "    F.col(\"games.*\"),\n",
    "    F.col(\"players_white.country\").alias(\"white_country\")\n",
    ")\n",
    "\n",
    "# Join the result with players_df (aliased as players_black) on black_fide_id to get black_country\n",
    "joined_df = joined_df.join(\n",
    "    players_df_black,\n",
    "    F.col(\"games.black_fide_id\") == F.col(\"players_black.fideid\"),\n",
    "    \"left_outer\"\n",
    ").select(\n",
    "    F.col(\"games.*\"),\n",
    "    F.col(\"white_country\"),\n",
    "    F.col(\"players_black.country\").alias(\"black_country\")\n",
    ")"
   ]
  },
  {
   "cell_type": "markdown",
   "metadata": {
    "application/vnd.databricks.v1+cell": {
     "cellMetadata": {},
     "inputWidgets": {},
     "nuid": "49b4797d-6752-4b44-bf53-256946731598",
     "showTitle": false,
     "title": ""
    }
   },
   "source": [
    "- Ordering the columns"
   ]
  },
  {
   "cell_type": "code",
   "execution_count": 0,
   "metadata": {
    "application/vnd.databricks.v1+cell": {
     "cellMetadata": {
      "byteLimit": 2048000,
      "rowLimit": 10000
     },
     "inputWidgets": {},
     "nuid": "3046a5af-fa4d-4fe1-8bd7-397163e7d7d9",
     "showTitle": false,
     "title": ""
    }
   },
   "outputs": [],
   "source": [
    "# Adjusting the order of columns in joined_df, placing white_country right after white and black_country right after black\n",
    "ordered_columns = [\n",
    "    col for col in joined_df.columns if col not in [\"white_country\", \"black_country\"]\n",
    "]\n",
    "\n",
    "# Assuming the columns to place after are named \"white\" and \"black\" respectively\n",
    "white_index = ordered_columns.index(\"white\") + 1\n",
    "black_index = ordered_columns.index(\"black\") + 1\n",
    "\n",
    "# Inserting the country columns in the desired positions\n",
    "ordered_columns.insert(white_index, \"white_country\")\n",
    "ordered_columns.insert(black_index + 1, \"black_country\")  # +1 to account for the insertion of white_country\n",
    "\n",
    "# Selecting columns in the new order\n",
    "joined_df = joined_df.select(*ordered_columns)"
   ]
  },
  {
   "cell_type": "code",
   "execution_count": 0,
   "metadata": {
    "application/vnd.databricks.v1+cell": {
     "cellMetadata": {
      "byteLimit": 2048000,
      "rowLimit": 10000
     },
     "inputWidgets": {},
     "nuid": "eab7a8d9-c82b-45a2-9f65-3e12a339dace",
     "showTitle": false,
     "title": ""
    }
   },
   "outputs": [],
   "source": [
    "joined_df.write.mode('overwrite').saveAsTable('silver.games_with_country')"
   ]
  },
  {
   "cell_type": "code",
   "execution_count": 0,
   "metadata": {
    "application/vnd.databricks.v1+cell": {
     "cellMetadata": {
      "byteLimit": 2048000,
      "rowLimit": 10000
     },
     "inputWidgets": {},
     "nuid": "6061921a-c240-43a1-bd1d-68fddcf03aca",
     "showTitle": false,
     "title": ""
    }
   },
   "outputs": [],
   "source": [
    "ind_df = joined_df.filter(\n",
    "    F.col(\"white_country\") == \"IND\"\n",
    ")\n",
    "\n",
    "display(ind_df)"
   ]
  },
  {
   "cell_type": "code",
   "execution_count": 0,
   "metadata": {
    "application/vnd.databricks.v1+cell": {
     "cellMetadata": {
      "byteLimit": 2048000,
      "rowLimit": 10000
     },
     "inputWidgets": {},
     "nuid": "35c45dfa-daf0-4600-8bac-a7089b180a39",
     "showTitle": false,
     "title": ""
    }
   },
   "outputs": [],
   "source": [
    "ind_df.write.mode('overwrite').saveAsTable('silver.games_IND')"
   ]
  },
  {
   "cell_type": "markdown",
   "metadata": {
    "application/vnd.databricks.v1+cell": {
     "cellMetadata": {},
     "inputWidgets": {},
     "nuid": "992225ad-573e-4345-a4e6-f44092de417a",
     "showTitle": false,
     "title": ""
    }
   },
   "source": [
    "Filtering for white_country 'IND' and counting each opening, then ordering by count descending"
   ]
  },
  {
   "cell_type": "code",
   "execution_count": 0,
   "metadata": {
    "application/vnd.databricks.v1+cell": {
     "cellMetadata": {
      "byteLimit": 2048000,
      "rowLimit": 10000
     },
     "inputWidgets": {},
     "nuid": "cfe88185-2987-417e-a997-a9dcd576e5ca",
     "showTitle": false,
     "title": ""
    }
   },
   "outputs": [
    {
     "output_type": "display_data",
     "data": {
      "text/html": [
       "<style scoped>\n",
       "  .table-result-container {\n",
       "    max-height: 300px;\n",
       "    overflow: auto;\n",
       "  }\n",
       "  table, th, td {\n",
       "    border: 1px solid black;\n",
       "    border-collapse: collapse;\n",
       "  }\n",
       "  th, td {\n",
       "    padding: 5px;\n",
       "  }\n",
       "  th {\n",
       "    text-align: left;\n",
       "  }\n",
       "</style><div class='table-result-container'><table class='table-result'><thead style='background-color: white'><tr><th>opening</th><th>openings_count</th></tr></thead><tbody><tr><td>Sicilian</td><td>1142</td></tr><tr><td>French</td><td>340</td></tr><tr><td>Caro-Kann</td><td>321</td></tr><tr><td>Ruy Lopez</td><td>320</td></tr><tr><td>Queen's pawn game</td><td>314</td></tr><tr><td>Reti opening</td><td>303</td></tr><tr><td>King's Indian</td><td>265</td></tr><tr><td>Reti</td><td>263</td></tr><tr><td>QGD</td><td>241</td></tr><tr><td>English opening</td><td>231</td></tr><tr><td>English</td><td>199</td></tr><tr><td>Sicilian defence</td><td>158</td></tr><tr><td>Queen's pawn</td><td>147</td></tr><tr><td>Nimzovich-Larsen attack</td><td>146</td></tr><tr><td>Nimzo-Indian</td><td>100</td></tr><tr><td>Giuoco Piano</td><td>89</td></tr><tr><td>Catalan</td><td>84</td></tr><tr><td>Anderssen's opening</td><td>83</td></tr><tr><td>Queen's bishop game</td><td>83</td></tr><tr><td>QGD Slav</td><td>79</td></tr><tr><td>Giuoco Pianissimo</td><td>71</td></tr><tr><td>QGD semi-Slav</td><td>65</td></tr><tr><td>King's pawn opening</td><td>57</td></tr><tr><td>Queen's Indian</td><td>55</td></tr><tr><td>Petrov</td><td>55</td></tr><tr><td>Pirc</td><td>53</td></tr><tr><td>Four knights</td><td>51</td></tr><tr><td>null</td><td>49</td></tr><tr><td>Robatsch (modern) defence</td><td>45</td></tr><tr><td>QGD Slav defence</td><td>42</td></tr><tr><td>Queen's gambit declined</td><td>42</td></tr><tr><td>Two knights defence (Modern bishop's opening)</td><td>40</td></tr><tr><td>Philidor</td><td>39</td></tr><tr><td>Scandinavian (centre counter) defence</td><td>38</td></tr><tr><td>KP</td><td>37</td></tr><tr><td>Bird's opening</td><td>36</td></tr><tr><td>Gruenfeld</td><td>35</td></tr><tr><td>Caro-Kann defence</td><td>34</td></tr><tr><td>Alekhine's defence</td><td>34</td></tr><tr><td>Robatsch defence</td><td>34</td></tr><tr><td>Sicilian, Chekhover variation</td><td>33</td></tr><tr><td>Queen's pawn, Mason variation</td><td>33</td></tr><tr><td>QGA</td><td>32</td></tr><tr><td>Benko's opening</td><td>31</td></tr><tr><td>Torre attack (Tartakower variation)</td><td>26</td></tr><tr><td>Pirc defence</td><td>25</td></tr><tr><td>Trompovsky attack (Ruth, Opovcensky opening)</td><td>25</td></tr><tr><td>Dutch</td><td>24</td></tr><tr><td>Modern defence</td><td>24</td></tr><tr><td>Vienna game</td><td>23</td></tr><tr><td>Benoni</td><td>21</td></tr><tr><td>Catalan opening</td><td>18</td></tr><tr><td>French defence</td><td>17</td></tr><tr><td>Old Indian defence</td><td>16</td></tr><tr><td>Scotch</td><td>16</td></tr><tr><td>King's Indian, 3.Nf3</td><td>15</td></tr><tr><td>Old Benoni defence</td><td>15</td></tr><tr><td>Scandinavian</td><td>14</td></tr><tr><td>Scotch gambit</td><td>14</td></tr><tr><td>Queen's pawn, Mason variation, Steinitz counter-gambit</td><td>14</td></tr><tr><td>Clemenz (Mead's, Basman's or de Klerk's) opening</td><td>14</td></tr><tr><td>King's pawn game</td><td>14</td></tr><tr><td>Benoni defence</td><td>12</td></tr><tr><td>English, 1...Nf6 (Anglo-Indian defense)</td><td>12</td></tr><tr><td>Bogo-Indian defence, Nimzovich variation</td><td>11</td></tr><tr><td>Queen's Indian defence</td><td>11</td></tr><tr><td>Scandinavian defence</td><td>11</td></tr><tr><td>QP counter-gambit (elephant gambit)</td><td>11</td></tr><tr><td>Benko gambit half accepted</td><td>10</td></tr><tr><td>Benko gambit</td><td>10</td></tr><tr><td>Owen defence</td><td>10</td></tr><tr><td>Van't Kruijs opening</td><td>10</td></tr><tr><td>Queen's gambit accepted</td><td>9</td></tr><tr><td>Old Indian</td><td>9</td></tr><tr><td>Queen's Pawn</td><td>9</td></tr><tr><td>Reti v Dutch</td><td>9</td></tr><tr><td>English, Kramnik-Shirov counterattack</td><td>8</td></tr><tr><td>Neo-Gruenfeld, 6.O-O c6</td><td>8</td></tr><tr><td>Petrov's defence</td><td>8</td></tr><tr><td>Scotch game</td><td>8</td></tr><tr><td>Dutch defence, Rubinstein variation</td><td>8</td></tr><tr><td>Two knights defence</td><td>8</td></tr><tr><td>two knights defence</td><td>8</td></tr><tr><td>Benko gambit accepted</td><td>8</td></tr><tr><td>Bogo-Indian defence</td><td>7</td></tr><tr><td>St. George (Baker) defence</td><td>7</td></tr><tr><td>Vienna</td><td>7</td></tr><tr><td>Neo-Gruenfeld, 6.O-O</td><td>7</td></tr><tr><td>Saragossa opening</td><td>7</td></tr><tr><td>Mieses opening</td><td>7</td></tr><tr><td>Bogo-Indian defence, Gruenfeld variation</td><td>7</td></tr><tr><td>Two knights defence, Perreux variation</td><td>7</td></tr><tr><td>Bird</td><td>6</td></tr><tr><td>Queen's Indian accelerated</td><td>6</td></tr><tr><td>St. George defence</td><td>6</td></tr><tr><td>Ware (Meadow Hay) opening</td><td>6</td></tr><tr><td>Four knights game</td><td>6</td></tr><tr><td>Dutch defence</td><td>6</td></tr><tr><td>Queen's pawn game, Krause variation</td><td>6</td></tr><tr><td>Neo-Gruenfeld, 6.O-O, main line</td><td>5</td></tr><tr><td>Kevitz-Trajkovich defence</td><td>5</td></tr><tr><td>King's Indian defence, 3.Nc3</td><td>5</td></tr><tr><td>Anti-Borg (Desprez) opening</td><td>5</td></tr><tr><td>Sicilian, Szen (`anti-Taimanov') variation</td><td>4</td></tr><tr><td>Neo-Gruenfeld, 5.Nf3</td><td>4</td></tr><tr><td>Hungarian defence</td><td>4</td></tr><tr><td>Queen's pawn game, Chigorin variation</td><td>4</td></tr><tr><td>Dunst (Sleipner, Heinrichsen) opening</td><td>4</td></tr><tr><td>Budapest</td><td>4</td></tr><tr><td>Dutch, 2.Bg5 variation</td><td>4</td></tr><tr><td>Philidor's defence</td><td>4</td></tr><tr><td>Old Benoni</td><td>3</td></tr><tr><td>Bishop's opening</td><td>3</td></tr><tr><td>Polish defence</td><td>3</td></tr><tr><td>Colle system</td><td>3</td></tr><tr><td>Dutch with c4 & Nc3</td><td>3</td></tr><tr><td>Grob</td><td>3</td></tr><tr><td>Neo-Gruenfeld (Kemeri) defence</td><td>2</td></tr><tr><td>Beefeater defence</td><td>2</td></tr><tr><td>Giuoco piano</td><td>2</td></tr><tr><td>Reversed Grob (Borg/Basman defence/macho Grob)</td><td>2</td></tr><tr><td>King's Indian defence</td><td>2</td></tr><tr><td>Levitsky attack (Queen's bishop attack)</td><td>2</td></tr><tr><td>Three knights game</td><td>2</td></tr><tr><td>Ponziani</td><td>2</td></tr><tr><td>Neo-Gruenfeld, 6.cd Nxd5, 7.O-O Nb6</td><td>2</td></tr><tr><td>QGA, Bogolyubov variation</td><td>2</td></tr><tr><td>Grob's attack</td><td>2</td></tr><tr><td>Centre game</td><td>2</td></tr><tr><td>Czech Benoni defence</td><td>2</td></tr><tr><td>Inverted Hanham</td><td>2</td></tr><tr><td>Queen's pawn game, Rubinstein (Colle-Zukertort) variation</td><td>1</td></tr><tr><td>Dzindzikhashvili defence</td><td>1</td></tr><tr><td>Polish (Sokolsky) opening</td><td>1</td></tr><tr><td>Scandinavian defence, Gruenfeld variation</td><td>1</td></tr><tr><td>Gedult's opening</td><td>1</td></tr><tr><td>Gruenfeld with Bf4    e3</td><td>1</td></tr><tr><td>Budapest defence declined</td><td>1</td></tr><tr><td>Latvian counter-gambit</td><td>1</td></tr><tr><td>Semi-Benoni (`blockade variation')</td><td>1</td></tr><tr><td>Durkin's attack</td><td>1</td></tr><tr><td>English, Nimzovich variation</td><td>1</td></tr><tr><td>Gruenfeld defence</td><td>1</td></tr><tr><td>Neo-Gruenfeld, 5.cd</td><td>1</td></tr><tr><td>Richter-Veresov attack</td><td>1</td></tr><tr><td>QGA, 4.Nc3</td><td>1</td></tr><tr><td>English, Nimzovich, Flohr variation</td><td>1</td></tr><tr><td>Vienna gambit</td><td>1</td></tr><tr><td>Barnes defence</td><td>1</td></tr><tr><td>Benoni defence, Hromodka system</td><td>1</td></tr><tr><td>Evans gambit</td><td>1</td></tr><tr><td>KGD</td><td>1</td></tr><tr><td>Reti accepted</td><td>1</td></tr><tr><td>Gruenfeld with e3    Bd3</td><td>1</td></tr><tr><td>Danish gambit</td><td>1</td></tr><tr><td>two knights</td><td>1</td></tr><tr><td>Nimzo-Indian defence</td><td>1</td></tr></tbody></table></div>"
      ]
     },
     "metadata": {
      "application/vnd.databricks.v1+output": {
       "addedWidgets": {},
       "aggData": [],
       "aggError": "",
       "aggOverflow": false,
       "aggSchema": [],
       "aggSeriesLimitReached": false,
       "aggType": "",
       "arguments": {},
       "columnCustomDisplayInfos": {},
       "data": [
        [
         "Sicilian",
         1142
        ],
        [
         "French",
         340
        ],
        [
         "Caro-Kann",
         321
        ],
        [
         "Ruy Lopez",
         320
        ],
        [
         "Queen's pawn game",
         314
        ],
        [
         "Reti opening",
         303
        ],
        [
         "King's Indian",
         265
        ],
        [
         "Reti",
         263
        ],
        [
         "QGD",
         241
        ],
        [
         "English opening",
         231
        ],
        [
         "English",
         199
        ],
        [
         "Sicilian defence",
         158
        ],
        [
         "Queen's pawn",
         147
        ],
        [
         "Nimzovich-Larsen attack",
         146
        ],
        [
         "Nimzo-Indian",
         100
        ],
        [
         "Giuoco Piano",
         89
        ],
        [
         "Catalan",
         84
        ],
        [
         "Anderssen's opening",
         83
        ],
        [
         "Queen's bishop game",
         83
        ],
        [
         "QGD Slav",
         79
        ],
        [
         "Giuoco Pianissimo",
         71
        ],
        [
         "QGD semi-Slav",
         65
        ],
        [
         "King's pawn opening",
         57
        ],
        [
         "Queen's Indian",
         55
        ],
        [
         "Petrov",
         55
        ],
        [
         "Pirc",
         53
        ],
        [
         "Four knights",
         51
        ],
        [
         null,
         49
        ],
        [
         "Robatsch (modern) defence",
         45
        ],
        [
         "QGD Slav defence",
         42
        ],
        [
         "Queen's gambit declined",
         42
        ],
        [
         "Two knights defence (Modern bishop's opening)",
         40
        ],
        [
         "Philidor",
         39
        ],
        [
         "Scandinavian (centre counter) defence",
         38
        ],
        [
         "KP",
         37
        ],
        [
         "Bird's opening",
         36
        ],
        [
         "Gruenfeld",
         35
        ],
        [
         "Caro-Kann defence",
         34
        ],
        [
         "Alekhine's defence",
         34
        ],
        [
         "Robatsch defence",
         34
        ],
        [
         "Sicilian, Chekhover variation",
         33
        ],
        [
         "Queen's pawn, Mason variation",
         33
        ],
        [
         "QGA",
         32
        ],
        [
         "Benko's opening",
         31
        ],
        [
         "Torre attack (Tartakower variation)",
         26
        ],
        [
         "Pirc defence",
         25
        ],
        [
         "Trompovsky attack (Ruth, Opovcensky opening)",
         25
        ],
        [
         "Dutch",
         24
        ],
        [
         "Modern defence",
         24
        ],
        [
         "Vienna game",
         23
        ],
        [
         "Benoni",
         21
        ],
        [
         "Catalan opening",
         18
        ],
        [
         "French defence",
         17
        ],
        [
         "Old Indian defence",
         16
        ],
        [
         "Scotch",
         16
        ],
        [
         "King's Indian, 3.Nf3",
         15
        ],
        [
         "Old Benoni defence",
         15
        ],
        [
         "Scandinavian",
         14
        ],
        [
         "Scotch gambit",
         14
        ],
        [
         "Queen's pawn, Mason variation, Steinitz counter-gambit",
         14
        ],
        [
         "Clemenz (Mead's, Basman's or de Klerk's) opening",
         14
        ],
        [
         "King's pawn game",
         14
        ],
        [
         "Benoni defence",
         12
        ],
        [
         "English, 1...Nf6 (Anglo-Indian defense)",
         12
        ],
        [
         "Bogo-Indian defence, Nimzovich variation",
         11
        ],
        [
         "Queen's Indian defence",
         11
        ],
        [
         "Scandinavian defence",
         11
        ],
        [
         "QP counter-gambit (elephant gambit)",
         11
        ],
        [
         "Benko gambit half accepted",
         10
        ],
        [
         "Benko gambit",
         10
        ],
        [
         "Owen defence",
         10
        ],
        [
         "Van't Kruijs opening",
         10
        ],
        [
         "Queen's gambit accepted",
         9
        ],
        [
         "Old Indian",
         9
        ],
        [
         "Queen's Pawn",
         9
        ],
        [
         "Reti v Dutch",
         9
        ],
        [
         "English, Kramnik-Shirov counterattack",
         8
        ],
        [
         "Neo-Gruenfeld, 6.O-O c6",
         8
        ],
        [
         "Petrov's defence",
         8
        ],
        [
         "Scotch game",
         8
        ],
        [
         "Dutch defence, Rubinstein variation",
         8
        ],
        [
         "Two knights defence",
         8
        ],
        [
         "two knights defence",
         8
        ],
        [
         "Benko gambit accepted",
         8
        ],
        [
         "Bogo-Indian defence",
         7
        ],
        [
         "St. George (Baker) defence",
         7
        ],
        [
         "Vienna",
         7
        ],
        [
         "Neo-Gruenfeld, 6.O-O",
         7
        ],
        [
         "Saragossa opening",
         7
        ],
        [
         "Mieses opening",
         7
        ],
        [
         "Bogo-Indian defence, Gruenfeld variation",
         7
        ],
        [
         "Two knights defence, Perreux variation",
         7
        ],
        [
         "Bird",
         6
        ],
        [
         "Queen's Indian accelerated",
         6
        ],
        [
         "St. George defence",
         6
        ],
        [
         "Ware (Meadow Hay) opening",
         6
        ],
        [
         "Four knights game",
         6
        ],
        [
         "Dutch defence",
         6
        ],
        [
         "Queen's pawn game, Krause variation",
         6
        ],
        [
         "Neo-Gruenfeld, 6.O-O, main line",
         5
        ],
        [
         "Kevitz-Trajkovich defence",
         5
        ],
        [
         "King's Indian defence, 3.Nc3",
         5
        ],
        [
         "Anti-Borg (Desprez) opening",
         5
        ],
        [
         "Sicilian, Szen (`anti-Taimanov') variation",
         4
        ],
        [
         "Neo-Gruenfeld, 5.Nf3",
         4
        ],
        [
         "Hungarian defence",
         4
        ],
        [
         "Queen's pawn game, Chigorin variation",
         4
        ],
        [
         "Dunst (Sleipner, Heinrichsen) opening",
         4
        ],
        [
         "Budapest",
         4
        ],
        [
         "Dutch, 2.Bg5 variation",
         4
        ],
        [
         "Philidor's defence",
         4
        ],
        [
         "Old Benoni",
         3
        ],
        [
         "Bishop's opening",
         3
        ],
        [
         "Polish defence",
         3
        ],
        [
         "Colle system",
         3
        ],
        [
         "Dutch with c4 & Nc3",
         3
        ],
        [
         "Grob",
         3
        ],
        [
         "Neo-Gruenfeld (Kemeri) defence",
         2
        ],
        [
         "Beefeater defence",
         2
        ],
        [
         "Giuoco piano",
         2
        ],
        [
         "Reversed Grob (Borg/Basman defence/macho Grob)",
         2
        ],
        [
         "King's Indian defence",
         2
        ],
        [
         "Levitsky attack (Queen's bishop attack)",
         2
        ],
        [
         "Three knights game",
         2
        ],
        [
         "Ponziani",
         2
        ],
        [
         "Neo-Gruenfeld, 6.cd Nxd5, 7.O-O Nb6",
         2
        ],
        [
         "QGA, Bogolyubov variation",
         2
        ],
        [
         "Grob's attack",
         2
        ],
        [
         "Centre game",
         2
        ],
        [
         "Czech Benoni defence",
         2
        ],
        [
         "Inverted Hanham",
         2
        ],
        [
         "Queen's pawn game, Rubinstein (Colle-Zukertort) variation",
         1
        ],
        [
         "Dzindzikhashvili defence",
         1
        ],
        [
         "Polish (Sokolsky) opening",
         1
        ],
        [
         "Scandinavian defence, Gruenfeld variation",
         1
        ],
        [
         "Gedult's opening",
         1
        ],
        [
         "Gruenfeld with Bf4    e3",
         1
        ],
        [
         "Budapest defence declined",
         1
        ],
        [
         "Latvian counter-gambit",
         1
        ],
        [
         "Semi-Benoni (`blockade variation')",
         1
        ],
        [
         "Durkin's attack",
         1
        ],
        [
         "English, Nimzovich variation",
         1
        ],
        [
         "Gruenfeld defence",
         1
        ],
        [
         "Neo-Gruenfeld, 5.cd",
         1
        ],
        [
         "Richter-Veresov attack",
         1
        ],
        [
         "QGA, 4.Nc3",
         1
        ],
        [
         "English, Nimzovich, Flohr variation",
         1
        ],
        [
         "Vienna gambit",
         1
        ],
        [
         "Barnes defence",
         1
        ],
        [
         "Benoni defence, Hromodka system",
         1
        ],
        [
         "Evans gambit",
         1
        ],
        [
         "KGD",
         1
        ],
        [
         "Reti accepted",
         1
        ],
        [
         "Gruenfeld with e3    Bd3",
         1
        ],
        [
         "Danish gambit",
         1
        ],
        [
         "two knights",
         1
        ],
        [
         "Nimzo-Indian defence",
         1
        ]
       ],
       "datasetInfos": [],
       "dbfsResultPath": null,
       "isJsonSchema": true,
       "metadata": {},
       "overflow": false,
       "plotOptions": {
        "customPlotOptions": {},
        "displayType": "table",
        "pivotAggregation": null,
        "pivotColumns": null,
        "xColumns": null,
        "yColumns": null
       },
       "removedWidgets": [],
       "schema": [
        {
         "metadata": "{}",
         "name": "opening",
         "type": "\"string\""
        },
        {
         "metadata": "{}",
         "name": "openings_count",
         "type": "\"long\""
        }
       ],
       "type": "table"
      }
     },
     "output_type": "display_data"
    }
   ],
   "source": [
    "openings_count_df = joined_df.filter(\n",
    "    F.col(\"white_country\") == \"IND\"\n",
    ").groupBy(\"opening\").agg(\n",
    "    F.count(\"*\").alias(\"openings_count\")\n",
    ").orderBy(\n",
    "    F.col(\"openings_count\").desc()\n",
    ")\n",
    "\n",
    "# Display the result\n",
    "display(openings_count_df)"
   ]
  },
  {
   "cell_type": "markdown",
   "metadata": {
    "application/vnd.databricks.v1+cell": {
     "cellMetadata": {},
     "inputWidgets": {},
     "nuid": "96826eeb-38d5-4877-a77c-5a94af64664f",
     "showTitle": false,
     "title": ""
    }
   },
   "source": [
    "- Filtering for white_country 'IND' and result_of_match 'White wins', counting each opening, and displaying each unique result_of_match"
   ]
  },
  {
   "cell_type": "code",
   "execution_count": 0,
   "metadata": {
    "application/vnd.databricks.v1+cell": {
     "cellMetadata": {
      "byteLimit": 2048000,
      "rowLimit": 10000
     },
     "inputWidgets": {},
     "nuid": "38d705c1-61a5-4076-bee5-1504feaad0d1",
     "showTitle": false,
     "title": ""
    }
   },
   "outputs": [
    {
     "output_type": "display_data",
     "data": {
      "text/html": [
       "<style scoped>\n",
       "  .table-result-container {\n",
       "    max-height: 300px;\n",
       "    overflow: auto;\n",
       "  }\n",
       "  table, th, td {\n",
       "    border: 1px solid black;\n",
       "    border-collapse: collapse;\n",
       "  }\n",
       "  th, td {\n",
       "    padding: 5px;\n",
       "  }\n",
       "  th {\n",
       "    text-align: left;\n",
       "  }\n",
       "</style><div class='table-result-container'><table class='table-result'><thead style='background-color: white'><tr><th>opening</th><th>result_of_match</th><th>openings_count</th></tr></thead><tbody><tr><td>Sicilian</td><td>White wins</td><td>497</td></tr><tr><td>Reti opening</td><td>White wins</td><td>176</td></tr><tr><td>French</td><td>White wins</td><td>151</td></tr><tr><td>Ruy Lopez</td><td>White wins</td><td>142</td></tr><tr><td>King's Indian</td><td>White wins</td><td>141</td></tr><tr><td>Caro-Kann</td><td>White wins</td><td>134</td></tr><tr><td>Reti</td><td>White wins</td><td>132</td></tr><tr><td>Queen's pawn game</td><td>White wins</td><td>127</td></tr><tr><td>QGD</td><td>White wins</td><td>120</td></tr><tr><td>English opening</td><td>White wins</td><td>114</td></tr><tr><td>English</td><td>White wins</td><td>107</td></tr><tr><td>Nimzovich-Larsen attack</td><td>White wins</td><td>88</td></tr><tr><td>Queen's pawn</td><td>White wins</td><td>73</td></tr><tr><td>Sicilian defence</td><td>White wins</td><td>71</td></tr><tr><td>Anderssen's opening</td><td>White wins</td><td>57</td></tr><tr><td>King's pawn opening</td><td>White wins</td><td>49</td></tr><tr><td>Giuoco Piano</td><td>White wins</td><td>46</td></tr><tr><td>Nimzo-Indian</td><td>White wins</td><td>39</td></tr><tr><td>Queen's bishop game</td><td>White wins</td><td>38</td></tr><tr><td>Catalan</td><td>White wins</td><td>36</td></tr><tr><td>QGD Slav</td><td>White wins</td><td>34</td></tr><tr><td>QGD semi-Slav</td><td>White wins</td><td>34</td></tr><tr><td>Giuoco Pianissimo</td><td>White wins</td><td>28</td></tr><tr><td>Petrov</td><td>White wins</td><td>25</td></tr><tr><td>Pirc</td><td>White wins</td><td>25</td></tr><tr><td>QGD Slav defence</td><td>White wins</td><td>23</td></tr><tr><td>Robatsch (modern) defence</td><td>White wins</td><td>23</td></tr><tr><td>Philidor</td><td>White wins</td><td>22</td></tr><tr><td>Benko's opening</td><td>White wins</td><td>21</td></tr><tr><td>Bird's opening</td><td>White wins</td><td>21</td></tr><tr><td>Queen's Indian</td><td>White wins</td><td>21</td></tr><tr><td>Four knights</td><td>White wins</td><td>18</td></tr><tr><td>Two knights defence (Modern bishop's opening)</td><td>White wins</td><td>18</td></tr><tr><td>Alekhine's defence</td><td>White wins</td><td>17</td></tr><tr><td>QGA</td><td>White wins</td><td>17</td></tr><tr><td>Gruenfeld</td><td>White wins</td><td>16</td></tr><tr><td>Queen's pawn, Mason variation</td><td>White wins</td><td>15</td></tr><tr><td>Scandinavian (centre counter) defence</td><td>White wins</td><td>15</td></tr><tr><td>Sicilian, Chekhover variation</td><td>White wins</td><td>15</td></tr><tr><td>Queen's gambit declined</td><td>White wins</td><td>14</td></tr><tr><td>Trompovsky attack (Ruth, Opovcensky opening)</td><td>White wins</td><td>14</td></tr><tr><td>KP</td><td>White wins</td><td>12</td></tr><tr><td>Robatsch defence</td><td>White wins</td><td>12</td></tr><tr><td>French defence</td><td>White wins</td><td>11</td></tr><tr><td>Pirc defence</td><td>White wins</td><td>11</td></tr><tr><td>Vienna game</td><td>White wins</td><td>11</td></tr><tr><td>Dutch</td><td>White wins</td><td>10</td></tr><tr><td>Scandinavian</td><td>White wins</td><td>10</td></tr><tr><td>Benko gambit half accepted</td><td>White wins</td><td>9</td></tr><tr><td>Torre attack (Tartakower variation)</td><td>White wins</td><td>9</td></tr><tr><td>Queen's pawn, Mason variation, Steinitz counter-gambit</td><td>White wins</td><td>8</td></tr><tr><td>Benoni</td><td>White wins</td><td>7</td></tr><tr><td>Caro-Kann defence</td><td>White wins</td><td>7</td></tr><tr><td>Clemenz (Mead's, Basman's or de Klerk's) opening</td><td>White wins</td><td>7</td></tr><tr><td>King's pawn game</td><td>White wins</td><td>7</td></tr><tr><td>null</td><td>White wins</td><td>6</td></tr><tr><td>Catalan opening</td><td>White wins</td><td>6</td></tr><tr><td>Modern defence</td><td>White wins</td><td>6</td></tr><tr><td>Old Benoni defence</td><td>White wins</td><td>6</td></tr><tr><td>Old Indian defence</td><td>White wins</td><td>6</td></tr><tr><td>Queen's Indian defence</td><td>White wins</td><td>6</td></tr><tr><td>Queen's Pawn</td><td>White wins</td><td>6</td></tr><tr><td>Scandinavian defence</td><td>White wins</td><td>6</td></tr><tr><td>Scotch</td><td>White wins</td><td>6</td></tr><tr><td>Scotch gambit</td><td>White wins</td><td>6</td></tr><tr><td>two knights defence</td><td>White wins</td><td>6</td></tr><tr><td>Benko gambit</td><td>White wins</td><td>5</td></tr><tr><td>Benko gambit accepted</td><td>White wins</td><td>5</td></tr><tr><td>Bogo-Indian defence, Nimzovich variation</td><td>White wins</td><td>5</td></tr><tr><td>English, 1...Nf6 (Anglo-Indian defense)</td><td>White wins</td><td>5</td></tr><tr><td>Mieses opening</td><td>White wins</td><td>5</td></tr><tr><td>Neo-Gruenfeld, 6.O-O</td><td>White wins</td><td>5</td></tr><tr><td>Two knights defence, Perreux variation</td><td>White wins</td><td>5</td></tr><tr><td>Benoni defence</td><td>White wins</td><td>4</td></tr><tr><td>Bogo-Indian defence, Gruenfeld variation</td><td>White wins</td><td>4</td></tr><tr><td>Four knights game</td><td>White wins</td><td>4</td></tr><tr><td>Kevitz-Trajkovich defence</td><td>White wins</td><td>4</td></tr><tr><td>King's Indian, 3.Nf3</td><td>White wins</td><td>4</td></tr><tr><td>Neo-Gruenfeld, 6.O-O c6</td><td>White wins</td><td>4</td></tr><tr><td>Philidor's defence</td><td>White wins</td><td>4</td></tr><tr><td>QP counter-gambit (elephant gambit)</td><td>White wins</td><td>4</td></tr><tr><td>Queen's gambit accepted</td><td>White wins</td><td>4</td></tr><tr><td>Queen's pawn game, Chigorin variation</td><td>White wins</td><td>4</td></tr><tr><td>Two knights defence</td><td>White wins</td><td>4</td></tr><tr><td>Van't Kruijs opening</td><td>White wins</td><td>4</td></tr><tr><td>Vienna</td><td>White wins</td><td>4</td></tr><tr><td>Bird</td><td>White wins</td><td>3</td></tr><tr><td>Bogo-Indian defence</td><td>White wins</td><td>3</td></tr><tr><td>Dunst (Sleipner, Heinrichsen) opening</td><td>White wins</td><td>3</td></tr><tr><td>Dutch defence, Rubinstein variation</td><td>White wins</td><td>3</td></tr><tr><td>Hungarian defence</td><td>White wins</td><td>3</td></tr><tr><td>Old Indian</td><td>White wins</td><td>3</td></tr><tr><td>Queen's Indian accelerated</td><td>White wins</td><td>3</td></tr><tr><td>Reti v Dutch</td><td>White wins</td><td>3</td></tr><tr><td>Saragossa opening</td><td>White wins</td><td>3</td></tr><tr><td>St. George defence</td><td>White wins</td><td>3</td></tr><tr><td>Ware (Meadow Hay) opening</td><td>White wins</td><td>3</td></tr><tr><td>Anti-Borg (Desprez) opening</td><td>White wins</td><td>2</td></tr><tr><td>Budapest</td><td>White wins</td><td>2</td></tr><tr><td>Centre game</td><td>White wins</td><td>2</td></tr><tr><td>Dutch defence</td><td>White wins</td><td>2</td></tr><tr><td>Dutch with c4 & Nc3</td><td>White wins</td><td>2</td></tr><tr><td>English, Kramnik-Shirov counterattack</td><td>White wins</td><td>2</td></tr><tr><td>Grob</td><td>White wins</td><td>2</td></tr><tr><td>Inverted Hanham</td><td>White wins</td><td>2</td></tr><tr><td>King's Indian defence</td><td>White wins</td><td>2</td></tr><tr><td>Neo-Gruenfeld (Kemeri) defence</td><td>White wins</td><td>2</td></tr><tr><td>Neo-Gruenfeld, 5.Nf3</td><td>White wins</td><td>2</td></tr><tr><td>Owen defence</td><td>White wins</td><td>2</td></tr><tr><td>Petrov's defence</td><td>White wins</td><td>2</td></tr><tr><td>Polish defence</td><td>White wins</td><td>2</td></tr><tr><td>Scotch game</td><td>White wins</td><td>2</td></tr><tr><td>Sicilian, Szen (`anti-Taimanov') variation</td><td>White wins</td><td>2</td></tr><tr><td>St. George (Baker) defence</td><td>White wins</td><td>2</td></tr><tr><td>Bishop's opening</td><td>White wins</td><td>1</td></tr><tr><td>Czech Benoni defence</td><td>White wins</td><td>1</td></tr><tr><td>Danish gambit</td><td>White wins</td><td>1</td></tr><tr><td>Dzindzikhashvili defence</td><td>White wins</td><td>1</td></tr><tr><td>English, Nimzovich, Flohr variation</td><td>White wins</td><td>1</td></tr><tr><td>Evans gambit</td><td>White wins</td><td>1</td></tr><tr><td>Gedult's opening</td><td>White wins</td><td>1</td></tr><tr><td>Giuoco piano</td><td>White wins</td><td>1</td></tr><tr><td>Grob's attack</td><td>White wins</td><td>1</td></tr><tr><td>Latvian counter-gambit</td><td>White wins</td><td>1</td></tr><tr><td>Levitsky attack (Queen's bishop attack)</td><td>White wins</td><td>1</td></tr><tr><td>Neo-Gruenfeld, 5.cd</td><td>White wins</td><td>1</td></tr><tr><td>Neo-Gruenfeld, 6.cd Nxd5, 7.O-O Nb6</td><td>White wins</td><td>1</td></tr><tr><td>Polish (Sokolsky) opening</td><td>White wins</td><td>1</td></tr><tr><td>Ponziani</td><td>White wins</td><td>1</td></tr><tr><td>QGA, 4.Nc3</td><td>White wins</td><td>1</td></tr><tr><td>Queen's pawn game, Krause variation</td><td>White wins</td><td>1</td></tr><tr><td>Richter-Veresov attack</td><td>White wins</td><td>1</td></tr><tr><td>Semi-Benoni (`blockade variation')</td><td>White wins</td><td>1</td></tr><tr><td>two knights</td><td>White wins</td><td>1</td></tr></tbody></table></div>"
      ]
     },
     "metadata": {
      "application/vnd.databricks.v1+output": {
       "addedWidgets": {},
       "aggData": [],
       "aggError": "",
       "aggOverflow": false,
       "aggSchema": [],
       "aggSeriesLimitReached": false,
       "aggType": "",
       "arguments": {},
       "columnCustomDisplayInfos": {},
       "data": [
        [
         "Sicilian",
         "White wins",
         497
        ],
        [
         "Reti opening",
         "White wins",
         176
        ],
        [
         "French",
         "White wins",
         151
        ],
        [
         "Ruy Lopez",
         "White wins",
         142
        ],
        [
         "King's Indian",
         "White wins",
         141
        ],
        [
         "Caro-Kann",
         "White wins",
         134
        ],
        [
         "Reti",
         "White wins",
         132
        ],
        [
         "Queen's pawn game",
         "White wins",
         127
        ],
        [
         "QGD",
         "White wins",
         120
        ],
        [
         "English opening",
         "White wins",
         114
        ],
        [
         "English",
         "White wins",
         107
        ],
        [
         "Nimzovich-Larsen attack",
         "White wins",
         88
        ],
        [
         "Queen's pawn",
         "White wins",
         73
        ],
        [
         "Sicilian defence",
         "White wins",
         71
        ],
        [
         "Anderssen's opening",
         "White wins",
         57
        ],
        [
         "King's pawn opening",
         "White wins",
         49
        ],
        [
         "Giuoco Piano",
         "White wins",
         46
        ],
        [
         "Nimzo-Indian",
         "White wins",
         39
        ],
        [
         "Queen's bishop game",
         "White wins",
         38
        ],
        [
         "Catalan",
         "White wins",
         36
        ],
        [
         "QGD Slav",
         "White wins",
         34
        ],
        [
         "QGD semi-Slav",
         "White wins",
         34
        ],
        [
         "Giuoco Pianissimo",
         "White wins",
         28
        ],
        [
         "Petrov",
         "White wins",
         25
        ],
        [
         "Pirc",
         "White wins",
         25
        ],
        [
         "QGD Slav defence",
         "White wins",
         23
        ],
        [
         "Robatsch (modern) defence",
         "White wins",
         23
        ],
        [
         "Philidor",
         "White wins",
         22
        ],
        [
         "Benko's opening",
         "White wins",
         21
        ],
        [
         "Bird's opening",
         "White wins",
         21
        ],
        [
         "Queen's Indian",
         "White wins",
         21
        ],
        [
         "Four knights",
         "White wins",
         18
        ],
        [
         "Two knights defence (Modern bishop's opening)",
         "White wins",
         18
        ],
        [
         "Alekhine's defence",
         "White wins",
         17
        ],
        [
         "QGA",
         "White wins",
         17
        ],
        [
         "Gruenfeld",
         "White wins",
         16
        ],
        [
         "Queen's pawn, Mason variation",
         "White wins",
         15
        ],
        [
         "Scandinavian (centre counter) defence",
         "White wins",
         15
        ],
        [
         "Sicilian, Chekhover variation",
         "White wins",
         15
        ],
        [
         "Queen's gambit declined",
         "White wins",
         14
        ],
        [
         "Trompovsky attack (Ruth, Opovcensky opening)",
         "White wins",
         14
        ],
        [
         "KP",
         "White wins",
         12
        ],
        [
         "Robatsch defence",
         "White wins",
         12
        ],
        [
         "French defence",
         "White wins",
         11
        ],
        [
         "Pirc defence",
         "White wins",
         11
        ],
        [
         "Vienna game",
         "White wins",
         11
        ],
        [
         "Dutch",
         "White wins",
         10
        ],
        [
         "Scandinavian",
         "White wins",
         10
        ],
        [
         "Benko gambit half accepted",
         "White wins",
         9
        ],
        [
         "Torre attack (Tartakower variation)",
         "White wins",
         9
        ],
        [
         "Queen's pawn, Mason variation, Steinitz counter-gambit",
         "White wins",
         8
        ],
        [
         "Benoni",
         "White wins",
         7
        ],
        [
         "Caro-Kann defence",
         "White wins",
         7
        ],
        [
         "Clemenz (Mead's, Basman's or de Klerk's) opening",
         "White wins",
         7
        ],
        [
         "King's pawn game",
         "White wins",
         7
        ],
        [
         null,
         "White wins",
         6
        ],
        [
         "Catalan opening",
         "White wins",
         6
        ],
        [
         "Modern defence",
         "White wins",
         6
        ],
        [
         "Old Benoni defence",
         "White wins",
         6
        ],
        [
         "Old Indian defence",
         "White wins",
         6
        ],
        [
         "Queen's Indian defence",
         "White wins",
         6
        ],
        [
         "Queen's Pawn",
         "White wins",
         6
        ],
        [
         "Scandinavian defence",
         "White wins",
         6
        ],
        [
         "Scotch",
         "White wins",
         6
        ],
        [
         "Scotch gambit",
         "White wins",
         6
        ],
        [
         "two knights defence",
         "White wins",
         6
        ],
        [
         "Benko gambit",
         "White wins",
         5
        ],
        [
         "Benko gambit accepted",
         "White wins",
         5
        ],
        [
         "Bogo-Indian defence, Nimzovich variation",
         "White wins",
         5
        ],
        [
         "English, 1...Nf6 (Anglo-Indian defense)",
         "White wins",
         5
        ],
        [
         "Mieses opening",
         "White wins",
         5
        ],
        [
         "Neo-Gruenfeld, 6.O-O",
         "White wins",
         5
        ],
        [
         "Two knights defence, Perreux variation",
         "White wins",
         5
        ],
        [
         "Benoni defence",
         "White wins",
         4
        ],
        [
         "Bogo-Indian defence, Gruenfeld variation",
         "White wins",
         4
        ],
        [
         "Four knights game",
         "White wins",
         4
        ],
        [
         "Kevitz-Trajkovich defence",
         "White wins",
         4
        ],
        [
         "King's Indian, 3.Nf3",
         "White wins",
         4
        ],
        [
         "Neo-Gruenfeld, 6.O-O c6",
         "White wins",
         4
        ],
        [
         "Philidor's defence",
         "White wins",
         4
        ],
        [
         "QP counter-gambit (elephant gambit)",
         "White wins",
         4
        ],
        [
         "Queen's gambit accepted",
         "White wins",
         4
        ],
        [
         "Queen's pawn game, Chigorin variation",
         "White wins",
         4
        ],
        [
         "Two knights defence",
         "White wins",
         4
        ],
        [
         "Van't Kruijs opening",
         "White wins",
         4
        ],
        [
         "Vienna",
         "White wins",
         4
        ],
        [
         "Bird",
         "White wins",
         3
        ],
        [
         "Bogo-Indian defence",
         "White wins",
         3
        ],
        [
         "Dunst (Sleipner, Heinrichsen) opening",
         "White wins",
         3
        ],
        [
         "Dutch defence, Rubinstein variation",
         "White wins",
         3
        ],
        [
         "Hungarian defence",
         "White wins",
         3
        ],
        [
         "Old Indian",
         "White wins",
         3
        ],
        [
         "Queen's Indian accelerated",
         "White wins",
         3
        ],
        [
         "Reti v Dutch",
         "White wins",
         3
        ],
        [
         "Saragossa opening",
         "White wins",
         3
        ],
        [
         "St. George defence",
         "White wins",
         3
        ],
        [
         "Ware (Meadow Hay) opening",
         "White wins",
         3
        ],
        [
         "Anti-Borg (Desprez) opening",
         "White wins",
         2
        ],
        [
         "Budapest",
         "White wins",
         2
        ],
        [
         "Centre game",
         "White wins",
         2
        ],
        [
         "Dutch defence",
         "White wins",
         2
        ],
        [
         "Dutch with c4 & Nc3",
         "White wins",
         2
        ],
        [
         "English, Kramnik-Shirov counterattack",
         "White wins",
         2
        ],
        [
         "Grob",
         "White wins",
         2
        ],
        [
         "Inverted Hanham",
         "White wins",
         2
        ],
        [
         "King's Indian defence",
         "White wins",
         2
        ],
        [
         "Neo-Gruenfeld (Kemeri) defence",
         "White wins",
         2
        ],
        [
         "Neo-Gruenfeld, 5.Nf3",
         "White wins",
         2
        ],
        [
         "Owen defence",
         "White wins",
         2
        ],
        [
         "Petrov's defence",
         "White wins",
         2
        ],
        [
         "Polish defence",
         "White wins",
         2
        ],
        [
         "Scotch game",
         "White wins",
         2
        ],
        [
         "Sicilian, Szen (`anti-Taimanov') variation",
         "White wins",
         2
        ],
        [
         "St. George (Baker) defence",
         "White wins",
         2
        ],
        [
         "Bishop's opening",
         "White wins",
         1
        ],
        [
         "Czech Benoni defence",
         "White wins",
         1
        ],
        [
         "Danish gambit",
         "White wins",
         1
        ],
        [
         "Dzindzikhashvili defence",
         "White wins",
         1
        ],
        [
         "English, Nimzovich, Flohr variation",
         "White wins",
         1
        ],
        [
         "Evans gambit",
         "White wins",
         1
        ],
        [
         "Gedult's opening",
         "White wins",
         1
        ],
        [
         "Giuoco piano",
         "White wins",
         1
        ],
        [
         "Grob's attack",
         "White wins",
         1
        ],
        [
         "Latvian counter-gambit",
         "White wins",
         1
        ],
        [
         "Levitsky attack (Queen's bishop attack)",
         "White wins",
         1
        ],
        [
         "Neo-Gruenfeld, 5.cd",
         "White wins",
         1
        ],
        [
         "Neo-Gruenfeld, 6.cd Nxd5, 7.O-O Nb6",
         "White wins",
         1
        ],
        [
         "Polish (Sokolsky) opening",
         "White wins",
         1
        ],
        [
         "Ponziani",
         "White wins",
         1
        ],
        [
         "QGA, 4.Nc3",
         "White wins",
         1
        ],
        [
         "Queen's pawn game, Krause variation",
         "White wins",
         1
        ],
        [
         "Richter-Veresov attack",
         "White wins",
         1
        ],
        [
         "Semi-Benoni (`blockade variation')",
         "White wins",
         1
        ],
        [
         "two knights",
         "White wins",
         1
        ]
       ],
       "datasetInfos": [],
       "dbfsResultPath": null,
       "isJsonSchema": true,
       "metadata": {},
       "overflow": false,
       "plotOptions": {
        "customPlotOptions": {},
        "displayType": "table",
        "pivotAggregation": null,
        "pivotColumns": null,
        "xColumns": null,
        "yColumns": null
       },
       "removedWidgets": [],
       "schema": [
        {
         "metadata": "{}",
         "name": "opening",
         "type": "\"string\""
        },
        {
         "metadata": "{}",
         "name": "result_of_match",
         "type": "\"string\""
        },
        {
         "metadata": "{}",
         "name": "openings_count",
         "type": "\"long\""
        }
       ],
       "type": "table"
      }
     },
     "output_type": "display_data"
    }
   ],
   "source": [
    "from pyspark.sql import functions as F\n",
    "\n",
    "openings_results_df = joined_df.filter(\n",
    "    (F.col(\"white_country\") == \"IND\") & \n",
    "    (F.col(\"result_of_match\") == \"White wins\")\n",
    ").groupBy(\"opening\", \"result_of_match\").agg(\n",
    "    F.count(\"*\").alias(\"openings_count\")\n",
    ").orderBy(\n",
    "    F.col(\"openings_count\").desc(), F.col(\"opening\")\n",
    ")\n",
    "\n",
    "# Display the result\n",
    "display(openings_results_df)"
   ]
  },
  {
   "cell_type": "markdown",
   "metadata": {
    "application/vnd.databricks.v1+cell": {
     "cellMetadata": {},
     "inputWidgets": {},
     "nuid": "f1fceaa0-c7c4-448f-9f54-e5906206f870",
     "showTitle": false,
     "title": ""
    }
   },
   "source": [
    "- Calculating the win percentage for each opening of the indian players, where the white_wins_count is over 100, for a more accurate statistic "
   ]
  },
  {
   "cell_type": "code",
   "execution_count": 0,
   "metadata": {
    "application/vnd.databricks.v1+cell": {
     "cellMetadata": {
      "byteLimit": 2048000,
      "rowLimit": 10000
     },
     "inputWidgets": {},
     "nuid": "34dcde65-0fcd-4dba-aad4-d6ba343503f7",
     "showTitle": false,
     "title": ""
    }
   },
   "outputs": [
    {
     "output_type": "display_data",
     "data": {
      "text/html": [
       "<style scoped>\n",
       "  .table-result-container {\n",
       "    max-height: 300px;\n",
       "    overflow: auto;\n",
       "  }\n",
       "  table, th, td {\n",
       "    border: 1px solid black;\n",
       "    border-collapse: collapse;\n",
       "  }\n",
       "  th, td {\n",
       "    padding: 5px;\n",
       "  }\n",
       "  th {\n",
       "    text-align: left;\n",
       "  }\n",
       "</style><div class='table-result-container'><table class='table-result'><thead style='background-color: white'><tr><th>opening</th><th>victory_count_ind</th><th>percentage_ind</th></tr></thead><tbody><tr><td>Reti opening</td><td>176</td><td>58.1</td></tr><tr><td>English</td><td>107</td><td>53.8</td></tr><tr><td>King's Indian</td><td>141</td><td>53.2</td></tr><tr><td>Reti</td><td>132</td><td>50.2</td></tr><tr><td>QGD</td><td>120</td><td>49.8</td></tr><tr><td>English opening</td><td>114</td><td>49.4</td></tr><tr><td>Ruy Lopez</td><td>142</td><td>44.4</td></tr><tr><td>French</td><td>151</td><td>44.4</td></tr><tr><td>Sicilian</td><td>497</td><td>43.5</td></tr><tr><td>Caro-Kann</td><td>134</td><td>41.7</td></tr><tr><td>Queen's pawn game</td><td>127</td><td>40.4</td></tr></tbody></table></div>"
      ]
     },
     "metadata": {
      "application/vnd.databricks.v1+output": {
       "addedWidgets": {},
       "aggData": [],
       "aggError": "",
       "aggOverflow": false,
       "aggSchema": [],
       "aggSeriesLimitReached": false,
       "aggType": "",
       "arguments": {},
       "columnCustomDisplayInfos": {},
       "data": [
        [
         "Reti opening",
         176,
         58.1
        ],
        [
         "English",
         107,
         53.8
        ],
        [
         "King's Indian",
         141,
         53.2
        ],
        [
         "Reti",
         132,
         50.2
        ],
        [
         "QGD",
         120,
         49.8
        ],
        [
         "English opening",
         114,
         49.4
        ],
        [
         "Ruy Lopez",
         142,
         44.4
        ],
        [
         "French",
         151,
         44.4
        ],
        [
         "Sicilian",
         497,
         43.5
        ],
        [
         "Caro-Kann",
         134,
         41.7
        ],
        [
         "Queen's pawn game",
         127,
         40.4
        ]
       ],
       "datasetInfos": [],
       "dbfsResultPath": null,
       "isJsonSchema": true,
       "metadata": {},
       "overflow": false,
       "plotOptions": {
        "customPlotOptions": {},
        "displayType": "table",
        "pivotAggregation": null,
        "pivotColumns": null,
        "xColumns": null,
        "yColumns": null
       },
       "removedWidgets": [],
       "schema": [
        {
         "metadata": "{}",
         "name": "opening",
         "type": "\"string\""
        },
        {
         "metadata": "{}",
         "name": "victory_count_ind",
         "type": "\"long\""
        },
        {
         "metadata": "{}",
         "name": "percentage_ind",
         "type": "\"double\""
        }
       ],
       "type": "table"
      }
     },
     "output_type": "display_data"
    }
   ],
   "source": [
    "# Calculate total openings count for normalization\n",
    "total_openings_df = joined_df.filter(\n",
    "    F.col(\"white_country\") == \"IND\"\n",
    ").groupBy(\"opening\").agg(\n",
    "    F.count(\"*\").alias(\"total_openings_count\")\n",
    ")\n",
    "\n",
    "# Calculate white wins count and percentage\n",
    "white_wins_percentage_df_ind = joined_df.filter(\n",
    "    (F.col(\"white_country\") == \"IND\") & \n",
    "    (F.col(\"result_of_match\") == \"White wins\")\n",
    ").groupBy(\"opening\").agg(\n",
    "    F.count(\"*\").alias(\"victory_count_ind\")\n",
    ").join(\n",
    "    total_openings_df, [\"opening\"], \"inner\"\n",
    ").withColumn(\n",
    "    \"percentage_ind\", \n",
    "    F.round((F.col(\"victory_count_ind\") / F.col(\"total_openings_count\") * 100), 1)\n",
    ").filter(\n",
    "    F.col(\"victory_count_ind\") > 100\n",
    ").select(\n",
    "    \"opening\", \"victory_count_ind\", \"percentage_ind\"\n",
    ").orderBy(\n",
    "    F.col(\"percentage_ind\").desc()\n",
    ")\n",
    "\n",
    "# Display the result\n",
    "display(white_wins_percentage_df_ind)"
   ]
  },
  {
   "cell_type": "code",
   "execution_count": 0,
   "metadata": {
    "application/vnd.databricks.v1+cell": {
     "cellMetadata": {
      "byteLimit": 2048000,
      "rowLimit": 10000
     },
     "inputWidgets": {},
     "nuid": "9cb69958-bcf4-4b80-bff0-1cff5189a00a",
     "showTitle": false,
     "title": ""
    }
   },
   "outputs": [],
   "source": [
    "white_wins_percentage_df_ind.write.mode('overwrite').saveAsTable('gold.IND_most_ef_openings')"
   ]
  },
  {
   "cell_type": "markdown",
   "metadata": {
    "application/vnd.databricks.v1+cell": {
     "cellMetadata": {},
     "inputWidgets": {},
     "nuid": "a44ecc51-7d85-45de-af8c-95d36f360560",
     "showTitle": false,
     "title": ""
    }
   },
   "source": [
    "- Calculating the win percentage for each opening of the world players, where the white_wins_count is over 100, for a more accurate statistic"
   ]
  },
  {
   "cell_type": "code",
   "execution_count": 0,
   "metadata": {
    "application/vnd.databricks.v1+cell": {
     "cellMetadata": {
      "byteLimit": 2048000,
      "rowLimit": 10000
     },
     "inputWidgets": {},
     "nuid": "6017e376-7121-43c0-8b91-bcd7892c0770",
     "showTitle": false,
     "title": ""
    }
   },
   "outputs": [
    {
     "output_type": "display_data",
     "data": {
      "text/html": [
       "<style scoped>\n",
       "  .table-result-container {\n",
       "    max-height: 300px;\n",
       "    overflow: auto;\n",
       "  }\n",
       "  table, th, td {\n",
       "    border: 1px solid black;\n",
       "    border-collapse: collapse;\n",
       "  }\n",
       "  th, td {\n",
       "    padding: 5px;\n",
       "  }\n",
       "  th {\n",
       "    text-align: left;\n",
       "  }\n",
       "</style><div class='table-result-container'><table class='table-result'><thead style='background-color: white'><tr><th>opening</th><th>white_wins_count</th><th>percentage</th></tr></thead><tbody><tr><td>Anti-Borg (Desprez) opening</td><td>109</td><td>68.6</td></tr><tr><td>King's pawn opening</td><td>478</td><td>63.2</td></tr><tr><td>Anderssen's opening</td><td>220</td><td>59.3</td></tr><tr><td>Neo-Gruenfeld, 6.O-O c6</td><td>119</td><td>54.1</td></tr><tr><td>Dunst (Sleipner, Heinrichsen) opening</td><td>141</td><td>53.8</td></tr><tr><td>Queen's pawn, Mason variation</td><td>409</td><td>53.4</td></tr><tr><td>Four knights game</td><td>150</td><td>52.6</td></tr><tr><td>Vienna</td><td>132</td><td>52.4</td></tr><tr><td>Polish (Sokolsky) opening</td><td>135</td><td>51.7</td></tr><tr><td>Benko gambit half accepted</td><td>128</td><td>51.0</td></tr><tr><td>Benko's opening</td><td>370</td><td>51.0</td></tr><tr><td>Scandinavian</td><td>190</td><td>50.8</td></tr><tr><td>Vienna game</td><td>143</td><td>50.5</td></tr><tr><td>Nimzovich-Larsen attack</td><td>729</td><td>49.9</td></tr><tr><td>French defence</td><td>165</td><td>48.8</td></tr><tr><td>Bird's opening</td><td>229</td><td>48.5</td></tr><tr><td>Sicilian, Chekhover variation</td><td>251</td><td>48.0</td></tr><tr><td>QGA</td><td>345</td><td>48.0</td></tr><tr><td>Scandinavian (centre counter) defence</td><td>502</td><td>47.9</td></tr><tr><td>QGD Slav</td><td>927</td><td>47.8</td></tr><tr><td>Queen's pawn</td><td>1275</td><td>47.8</td></tr><tr><td>QGD semi-Slav</td><td>645</td><td>47.6</td></tr><tr><td>Scandinavian defence</td><td>170</td><td>47.4</td></tr><tr><td>Reti opening</td><td>2038</td><td>47.3</td></tr><tr><td>King's Indian</td><td>2679</td><td>47.0</td></tr><tr><td>Benko gambit accepted</td><td>108</td><td>47.0</td></tr><tr><td>Owen defence</td><td>155</td><td>46.8</td></tr><tr><td>Philidor</td><td>365</td><td>46.6</td></tr><tr><td>Levitsky attack (Queen's bishop attack)</td><td>110</td><td>46.2</td></tr><tr><td>Trompovsky attack (Ruth, Opovcensky opening)</td><td>562</td><td>46.1</td></tr><tr><td>Old Indian</td><td>130</td><td>45.8</td></tr><tr><td>Caro-Kann defence</td><td>496</td><td>45.7</td></tr><tr><td>Bishop's opening</td><td>123</td><td>45.7</td></tr><tr><td>Reti</td><td>1658</td><td>45.7</td></tr><tr><td>English</td><td>2124</td><td>45.6</td></tr><tr><td>Queen's gambit declined</td><td>416</td><td>45.5</td></tr><tr><td>Pirc defence</td><td>285</td><td>45.3</td></tr><tr><td>Benoni</td><td>287</td><td>45.3</td></tr><tr><td>Benko gambit</td><td>121</td><td>45.3</td></tr><tr><td>QGD</td><td>3126</td><td>45.3</td></tr><tr><td>Two knights defence (Modern bishop's opening)</td><td>312</td><td>45.2</td></tr><tr><td>Pirc</td><td>463</td><td>45.2</td></tr><tr><td>English opening</td><td>1707</td><td>45.2</td></tr><tr><td>Petrov</td><td>422</td><td>45.1</td></tr><tr><td>Bogo-Indian defence, Gruenfeld variation</td><td>124</td><td>44.6</td></tr><tr><td>French</td><td>3423</td><td>44.5</td></tr><tr><td>Alekhine's defence</td><td>504</td><td>44.4</td></tr><tr><td>Sicilian defence</td><td>1773</td><td>44.3</td></tr><tr><td>Caro-Kann</td><td>2936</td><td>44.2</td></tr><tr><td>Gruenfeld</td><td>482</td><td>44.1</td></tr><tr><td>Benoni defence</td><td>161</td><td>43.8</td></tr><tr><td>Scotch</td><td>270</td><td>43.8</td></tr><tr><td>Sicilian</td><td>10063</td><td>43.7</td></tr><tr><td>QGD Slav defence</td><td>348</td><td>43.6</td></tr><tr><td>Giuoco Piano</td><td>452</td><td>43.6</td></tr><tr><td>Queen's pawn game</td><td>3117</td><td>43.5</td></tr><tr><td>Giuoco Pianissimo</td><td>456</td><td>43.4</td></tr><tr><td>Dutch</td><td>287</td><td>43.2</td></tr><tr><td>Dutch defence</td><td>119</td><td>43.1</td></tr><tr><td>Queen's bishop game</td><td>475</td><td>42.9</td></tr><tr><td>Robatsch (modern) defence</td><td>529</td><td>42.8</td></tr><tr><td>English, 1...Nf6 (Anglo-Indian defense)</td><td>142</td><td>42.8</td></tr><tr><td>Catalan</td><td>793</td><td>42.5</td></tr><tr><td>Queen's Pawn</td><td>205</td><td>42.5</td></tr><tr><td>Old Benoni defence</td><td>204</td><td>42.3</td></tr><tr><td>Scotch gambit</td><td>128</td><td>42.0</td></tr><tr><td>King's Indian, 3.Nf3</td><td>142</td><td>41.9</td></tr><tr><td>Robatsch defence</td><td>401</td><td>41.2</td></tr><tr><td>Modern defence</td><td>356</td><td>40.9</td></tr><tr><td>Nimzo-Indian</td><td>1062</td><td>40.4</td></tr><tr><td>Queen's Indian</td><td>484</td><td>40.2</td></tr><tr><td>Ruy Lopez</td><td>1946</td><td>40.2</td></tr><tr><td>Four knights</td><td>399</td><td>39.6</td></tr><tr><td>KP</td><td>222</td><td>38.3</td></tr><tr><td>Two knights defence</td><td>131</td><td>38.2</td></tr><tr><td>Old Indian defence</td><td>129</td><td>37.2</td></tr><tr><td>Catalan opening</td><td>135</td><td>36.4</td></tr></tbody></table></div>"
      ]
     },
     "metadata": {
      "application/vnd.databricks.v1+output": {
       "addedWidgets": {},
       "aggData": [],
       "aggError": "",
       "aggOverflow": false,
       "aggSchema": [],
       "aggSeriesLimitReached": false,
       "aggType": "",
       "arguments": {},
       "columnCustomDisplayInfos": {},
       "data": [
        [
         "Anti-Borg (Desprez) opening",
         109,
         68.6
        ],
        [
         "King's pawn opening",
         478,
         63.2
        ],
        [
         "Anderssen's opening",
         220,
         59.3
        ],
        [
         "Neo-Gruenfeld, 6.O-O c6",
         119,
         54.1
        ],
        [
         "Dunst (Sleipner, Heinrichsen) opening",
         141,
         53.8
        ],
        [
         "Queen's pawn, Mason variation",
         409,
         53.4
        ],
        [
         "Four knights game",
         150,
         52.6
        ],
        [
         "Vienna",
         132,
         52.4
        ],
        [
         "Polish (Sokolsky) opening",
         135,
         51.7
        ],
        [
         "Benko gambit half accepted",
         128,
         51.0
        ],
        [
         "Benko's opening",
         370,
         51.0
        ],
        [
         "Scandinavian",
         190,
         50.8
        ],
        [
         "Vienna game",
         143,
         50.5
        ],
        [
         "Nimzovich-Larsen attack",
         729,
         49.9
        ],
        [
         "French defence",
         165,
         48.8
        ],
        [
         "Bird's opening",
         229,
         48.5
        ],
        [
         "Sicilian, Chekhover variation",
         251,
         48.0
        ],
        [
         "QGA",
         345,
         48.0
        ],
        [
         "Scandinavian (centre counter) defence",
         502,
         47.9
        ],
        [
         "QGD Slav",
         927,
         47.8
        ],
        [
         "Queen's pawn",
         1275,
         47.8
        ],
        [
         "QGD semi-Slav",
         645,
         47.6
        ],
        [
         "Scandinavian defence",
         170,
         47.4
        ],
        [
         "Reti opening",
         2038,
         47.3
        ],
        [
         "King's Indian",
         2679,
         47.0
        ],
        [
         "Benko gambit accepted",
         108,
         47.0
        ],
        [
         "Owen defence",
         155,
         46.8
        ],
        [
         "Philidor",
         365,
         46.6
        ],
        [
         "Levitsky attack (Queen's bishop attack)",
         110,
         46.2
        ],
        [
         "Trompovsky attack (Ruth, Opovcensky opening)",
         562,
         46.1
        ],
        [
         "Old Indian",
         130,
         45.8
        ],
        [
         "Caro-Kann defence",
         496,
         45.7
        ],
        [
         "Bishop's opening",
         123,
         45.7
        ],
        [
         "Reti",
         1658,
         45.7
        ],
        [
         "English",
         2124,
         45.6
        ],
        [
         "Queen's gambit declined",
         416,
         45.5
        ],
        [
         "Pirc defence",
         285,
         45.3
        ],
        [
         "Benoni",
         287,
         45.3
        ],
        [
         "Benko gambit",
         121,
         45.3
        ],
        [
         "QGD",
         3126,
         45.3
        ],
        [
         "Two knights defence (Modern bishop's opening)",
         312,
         45.2
        ],
        [
         "Pirc",
         463,
         45.2
        ],
        [
         "English opening",
         1707,
         45.2
        ],
        [
         "Petrov",
         422,
         45.1
        ],
        [
         "Bogo-Indian defence, Gruenfeld variation",
         124,
         44.6
        ],
        [
         "French",
         3423,
         44.5
        ],
        [
         "Alekhine's defence",
         504,
         44.4
        ],
        [
         "Sicilian defence",
         1773,
         44.3
        ],
        [
         "Caro-Kann",
         2936,
         44.2
        ],
        [
         "Gruenfeld",
         482,
         44.1
        ],
        [
         "Benoni defence",
         161,
         43.8
        ],
        [
         "Scotch",
         270,
         43.8
        ],
        [
         "Sicilian",
         10063,
         43.7
        ],
        [
         "QGD Slav defence",
         348,
         43.6
        ],
        [
         "Giuoco Piano",
         452,
         43.6
        ],
        [
         "Queen's pawn game",
         3117,
         43.5
        ],
        [
         "Giuoco Pianissimo",
         456,
         43.4
        ],
        [
         "Dutch",
         287,
         43.2
        ],
        [
         "Dutch defence",
         119,
         43.1
        ],
        [
         "Queen's bishop game",
         475,
         42.9
        ],
        [
         "Robatsch (modern) defence",
         529,
         42.8
        ],
        [
         "English, 1...Nf6 (Anglo-Indian defense)",
         142,
         42.8
        ],
        [
         "Catalan",
         793,
         42.5
        ],
        [
         "Queen's Pawn",
         205,
         42.5
        ],
        [
         "Old Benoni defence",
         204,
         42.3
        ],
        [
         "Scotch gambit",
         128,
         42.0
        ],
        [
         "King's Indian, 3.Nf3",
         142,
         41.9
        ],
        [
         "Robatsch defence",
         401,
         41.2
        ],
        [
         "Modern defence",
         356,
         40.9
        ],
        [
         "Nimzo-Indian",
         1062,
         40.4
        ],
        [
         "Queen's Indian",
         484,
         40.2
        ],
        [
         "Ruy Lopez",
         1946,
         40.2
        ],
        [
         "Four knights",
         399,
         39.6
        ],
        [
         "KP",
         222,
         38.3
        ],
        [
         "Two knights defence",
         131,
         38.2
        ],
        [
         "Old Indian defence",
         129,
         37.2
        ],
        [
         "Catalan opening",
         135,
         36.4
        ]
       ],
       "datasetInfos": [],
       "dbfsResultPath": null,
       "isJsonSchema": true,
       "metadata": {},
       "overflow": false,
       "plotOptions": {
        "customPlotOptions": {},
        "displayType": "table",
        "pivotAggregation": null,
        "pivotColumns": null,
        "xColumns": null,
        "yColumns": null
       },
       "removedWidgets": [],
       "schema": [
        {
         "metadata": "{}",
         "name": "opening",
         "type": "\"string\""
        },
        {
         "metadata": "{}",
         "name": "white_wins_count",
         "type": "\"long\""
        },
        {
         "metadata": "{}",
         "name": "percentage",
         "type": "\"double\""
        }
       ],
       "type": "table"
      }
     },
     "output_type": "display_data"
    }
   ],
   "source": [
    "# Calculate total openings count for normalization\n",
    "total_openings_df = joined_df.groupBy(\"opening\").agg(\n",
    "    F.count(\"*\").alias(\"total_openings_count\")\n",
    ")\n",
    "\n",
    "# Calculate white wins count and percentage\n",
    "white_wins_percentage_df_world = joined_df.filter(\n",
    "    F.col(\"result_of_match\") == \"White wins\"\n",
    ").groupBy(\"opening\").agg(\n",
    "    F.count(\"*\").alias(\"white_wins_count\")\n",
    ").join(\n",
    "    total_openings_df, [\"opening\"], \"inner\"\n",
    ").withColumn(\n",
    "    \"percentage\", \n",
    "    F.round((F.col(\"white_wins_count\") / F.col(\"total_openings_count\") * 100), 1)\n",
    ").filter(\n",
    "    F.col(\"white_wins_count\") > 100\n",
    ").select(\n",
    "    \"opening\", \"white_wins_count\", \"percentage\"\n",
    ").orderBy(\n",
    "    F.col(\"percentage\").desc()\n",
    ")\n",
    "\n",
    "# Display the result\n",
    "display(white_wins_percentage_df_world)"
   ]
  },
  {
   "cell_type": "code",
   "execution_count": 0,
   "metadata": {
    "application/vnd.databricks.v1+cell": {
     "cellMetadata": {
      "byteLimit": 2048000,
      "rowLimit": 10000
     },
     "inputWidgets": {},
     "nuid": "a4d04827-8040-498b-9774-0aced70433d0",
     "showTitle": false,
     "title": ""
    }
   },
   "outputs": [
    {
     "output_type": "display_data",
     "data": {
      "text/html": [
       "<style scoped>\n",
       "  .table-result-container {\n",
       "    max-height: 300px;\n",
       "    overflow: auto;\n",
       "  }\n",
       "  table, th, td {\n",
       "    border: 1px solid black;\n",
       "    border-collapse: collapse;\n",
       "  }\n",
       "  th, td {\n",
       "    padding: 5px;\n",
       "  }\n",
       "  th {\n",
       "    text-align: left;\n",
       "  }\n",
       "</style><div class='table-result-container'><table class='table-result'><thead style='background-color: white'><tr><th>opening</th><th>victory_count_world</th><th>percentage_world</th></tr></thead><tbody><tr><td>Anti-Borg (Desprez) opening</td><td>109</td><td>68.6</td></tr><tr><td>King's pawn opening</td><td>478</td><td>63.2</td></tr><tr><td>Anderssen's opening</td><td>220</td><td>59.3</td></tr><tr><td>Neo-Gruenfeld, 6.O-O c6</td><td>119</td><td>54.1</td></tr><tr><td>Dunst (Sleipner, Heinrichsen) opening</td><td>141</td><td>53.8</td></tr><tr><td>Queen's pawn, Mason variation</td><td>409</td><td>53.4</td></tr><tr><td>Four knights game</td><td>150</td><td>52.6</td></tr><tr><td>Vienna</td><td>132</td><td>52.4</td></tr><tr><td>Polish (Sokolsky) opening</td><td>135</td><td>51.7</td></tr><tr><td>Benko gambit half accepted</td><td>128</td><td>51.0</td></tr><tr><td>Benko's opening</td><td>370</td><td>51.0</td></tr><tr><td>Scandinavian</td><td>190</td><td>50.8</td></tr><tr><td>Vienna game</td><td>143</td><td>50.5</td></tr><tr><td>Nimzovich-Larsen attack</td><td>729</td><td>49.9</td></tr><tr><td>French defence</td><td>165</td><td>48.8</td></tr><tr><td>Bird's opening</td><td>229</td><td>48.5</td></tr><tr><td>Sicilian, Chekhover variation</td><td>251</td><td>48.0</td></tr><tr><td>QGA</td><td>345</td><td>48.0</td></tr><tr><td>Scandinavian (centre counter) defence</td><td>502</td><td>47.9</td></tr><tr><td>QGD Slav</td><td>927</td><td>47.8</td></tr><tr><td>Queen's pawn</td><td>1275</td><td>47.8</td></tr><tr><td>QGD semi-Slav</td><td>645</td><td>47.6</td></tr><tr><td>Scandinavian defence</td><td>170</td><td>47.4</td></tr><tr><td>Reti opening</td><td>2038</td><td>47.3</td></tr><tr><td>King's Indian</td><td>2679</td><td>47.0</td></tr><tr><td>Benko gambit accepted</td><td>108</td><td>47.0</td></tr><tr><td>Owen defence</td><td>155</td><td>46.8</td></tr><tr><td>Philidor</td><td>365</td><td>46.6</td></tr><tr><td>Levitsky attack (Queen's bishop attack)</td><td>110</td><td>46.2</td></tr><tr><td>Trompovsky attack (Ruth, Opovcensky opening)</td><td>562</td><td>46.1</td></tr><tr><td>Old Indian</td><td>130</td><td>45.8</td></tr><tr><td>Caro-Kann defence</td><td>496</td><td>45.7</td></tr><tr><td>Bishop's opening</td><td>123</td><td>45.7</td></tr><tr><td>Reti</td><td>1658</td><td>45.7</td></tr><tr><td>English</td><td>2124</td><td>45.6</td></tr><tr><td>Queen's gambit declined</td><td>416</td><td>45.5</td></tr><tr><td>Pirc defence</td><td>285</td><td>45.3</td></tr><tr><td>Benoni</td><td>287</td><td>45.3</td></tr><tr><td>Benko gambit</td><td>121</td><td>45.3</td></tr><tr><td>QGD</td><td>3126</td><td>45.3</td></tr><tr><td>Two knights defence (Modern bishop's opening)</td><td>312</td><td>45.2</td></tr><tr><td>Pirc</td><td>463</td><td>45.2</td></tr><tr><td>English opening</td><td>1707</td><td>45.2</td></tr><tr><td>Petrov</td><td>422</td><td>45.1</td></tr><tr><td>Bogo-Indian defence, Gruenfeld variation</td><td>124</td><td>44.6</td></tr><tr><td>French</td><td>3423</td><td>44.5</td></tr><tr><td>Alekhine's defence</td><td>504</td><td>44.4</td></tr><tr><td>Sicilian defence</td><td>1773</td><td>44.3</td></tr><tr><td>Caro-Kann</td><td>2936</td><td>44.2</td></tr><tr><td>Gruenfeld</td><td>482</td><td>44.1</td></tr><tr><td>Benoni defence</td><td>161</td><td>43.8</td></tr><tr><td>Scotch</td><td>270</td><td>43.8</td></tr><tr><td>Sicilian</td><td>10063</td><td>43.7</td></tr><tr><td>QGD Slav defence</td><td>348</td><td>43.6</td></tr><tr><td>Giuoco Piano</td><td>452</td><td>43.6</td></tr><tr><td>Queen's pawn game</td><td>3117</td><td>43.5</td></tr><tr><td>Giuoco Pianissimo</td><td>456</td><td>43.4</td></tr><tr><td>Dutch</td><td>287</td><td>43.2</td></tr><tr><td>Dutch defence</td><td>119</td><td>43.1</td></tr><tr><td>Queen's bishop game</td><td>475</td><td>42.9</td></tr><tr><td>Robatsch (modern) defence</td><td>529</td><td>42.8</td></tr><tr><td>English, 1...Nf6 (Anglo-Indian defense)</td><td>142</td><td>42.8</td></tr><tr><td>Catalan</td><td>793</td><td>42.5</td></tr><tr><td>Queen's Pawn</td><td>205</td><td>42.5</td></tr><tr><td>Old Benoni defence</td><td>204</td><td>42.3</td></tr><tr><td>Scotch gambit</td><td>128</td><td>42.0</td></tr><tr><td>King's Indian, 3.Nf3</td><td>142</td><td>41.9</td></tr><tr><td>Robatsch defence</td><td>401</td><td>41.2</td></tr><tr><td>Modern defence</td><td>356</td><td>40.9</td></tr><tr><td>Nimzo-Indian</td><td>1062</td><td>40.4</td></tr><tr><td>Queen's Indian</td><td>484</td><td>40.2</td></tr><tr><td>Ruy Lopez</td><td>1946</td><td>40.2</td></tr><tr><td>Four knights</td><td>399</td><td>39.6</td></tr><tr><td>KP</td><td>222</td><td>38.3</td></tr><tr><td>Two knights defence</td><td>131</td><td>38.2</td></tr><tr><td>Old Indian defence</td><td>129</td><td>37.2</td></tr><tr><td>Catalan opening</td><td>135</td><td>36.4</td></tr></tbody></table></div>"
      ]
     },
     "metadata": {
      "application/vnd.databricks.v1+output": {
       "addedWidgets": {},
       "aggData": [],
       "aggError": "",
       "aggOverflow": false,
       "aggSchema": [],
       "aggSeriesLimitReached": false,
       "aggType": "",
       "arguments": {},
       "columnCustomDisplayInfos": {},
       "data": [
        [
         "Anti-Borg (Desprez) opening",
         109,
         68.6
        ],
        [
         "King's pawn opening",
         478,
         63.2
        ],
        [
         "Anderssen's opening",
         220,
         59.3
        ],
        [
         "Neo-Gruenfeld, 6.O-O c6",
         119,
         54.1
        ],
        [
         "Dunst (Sleipner, Heinrichsen) opening",
         141,
         53.8
        ],
        [
         "Queen's pawn, Mason variation",
         409,
         53.4
        ],
        [
         "Four knights game",
         150,
         52.6
        ],
        [
         "Vienna",
         132,
         52.4
        ],
        [
         "Polish (Sokolsky) opening",
         135,
         51.7
        ],
        [
         "Benko gambit half accepted",
         128,
         51.0
        ],
        [
         "Benko's opening",
         370,
         51.0
        ],
        [
         "Scandinavian",
         190,
         50.8
        ],
        [
         "Vienna game",
         143,
         50.5
        ],
        [
         "Nimzovich-Larsen attack",
         729,
         49.9
        ],
        [
         "French defence",
         165,
         48.8
        ],
        [
         "Bird's opening",
         229,
         48.5
        ],
        [
         "Sicilian, Chekhover variation",
         251,
         48.0
        ],
        [
         "QGA",
         345,
         48.0
        ],
        [
         "Scandinavian (centre counter) defence",
         502,
         47.9
        ],
        [
         "QGD Slav",
         927,
         47.8
        ],
        [
         "Queen's pawn",
         1275,
         47.8
        ],
        [
         "QGD semi-Slav",
         645,
         47.6
        ],
        [
         "Scandinavian defence",
         170,
         47.4
        ],
        [
         "Reti opening",
         2038,
         47.3
        ],
        [
         "King's Indian",
         2679,
         47.0
        ],
        [
         "Benko gambit accepted",
         108,
         47.0
        ],
        [
         "Owen defence",
         155,
         46.8
        ],
        [
         "Philidor",
         365,
         46.6
        ],
        [
         "Levitsky attack (Queen's bishop attack)",
         110,
         46.2
        ],
        [
         "Trompovsky attack (Ruth, Opovcensky opening)",
         562,
         46.1
        ],
        [
         "Old Indian",
         130,
         45.8
        ],
        [
         "Caro-Kann defence",
         496,
         45.7
        ],
        [
         "Bishop's opening",
         123,
         45.7
        ],
        [
         "Reti",
         1658,
         45.7
        ],
        [
         "English",
         2124,
         45.6
        ],
        [
         "Queen's gambit declined",
         416,
         45.5
        ],
        [
         "Pirc defence",
         285,
         45.3
        ],
        [
         "Benoni",
         287,
         45.3
        ],
        [
         "Benko gambit",
         121,
         45.3
        ],
        [
         "QGD",
         3126,
         45.3
        ],
        [
         "Two knights defence (Modern bishop's opening)",
         312,
         45.2
        ],
        [
         "Pirc",
         463,
         45.2
        ],
        [
         "English opening",
         1707,
         45.2
        ],
        [
         "Petrov",
         422,
         45.1
        ],
        [
         "Bogo-Indian defence, Gruenfeld variation",
         124,
         44.6
        ],
        [
         "French",
         3423,
         44.5
        ],
        [
         "Alekhine's defence",
         504,
         44.4
        ],
        [
         "Sicilian defence",
         1773,
         44.3
        ],
        [
         "Caro-Kann",
         2936,
         44.2
        ],
        [
         "Gruenfeld",
         482,
         44.1
        ],
        [
         "Benoni defence",
         161,
         43.8
        ],
        [
         "Scotch",
         270,
         43.8
        ],
        [
         "Sicilian",
         10063,
         43.7
        ],
        [
         "QGD Slav defence",
         348,
         43.6
        ],
        [
         "Giuoco Piano",
         452,
         43.6
        ],
        [
         "Queen's pawn game",
         3117,
         43.5
        ],
        [
         "Giuoco Pianissimo",
         456,
         43.4
        ],
        [
         "Dutch",
         287,
         43.2
        ],
        [
         "Dutch defence",
         119,
         43.1
        ],
        [
         "Queen's bishop game",
         475,
         42.9
        ],
        [
         "Robatsch (modern) defence",
         529,
         42.8
        ],
        [
         "English, 1...Nf6 (Anglo-Indian defense)",
         142,
         42.8
        ],
        [
         "Catalan",
         793,
         42.5
        ],
        [
         "Queen's Pawn",
         205,
         42.5
        ],
        [
         "Old Benoni defence",
         204,
         42.3
        ],
        [
         "Scotch gambit",
         128,
         42.0
        ],
        [
         "King's Indian, 3.Nf3",
         142,
         41.9
        ],
        [
         "Robatsch defence",
         401,
         41.2
        ],
        [
         "Modern defence",
         356,
         40.9
        ],
        [
         "Nimzo-Indian",
         1062,
         40.4
        ],
        [
         "Queen's Indian",
         484,
         40.2
        ],
        [
         "Ruy Lopez",
         1946,
         40.2
        ],
        [
         "Four knights",
         399,
         39.6
        ],
        [
         "KP",
         222,
         38.3
        ],
        [
         "Two knights defence",
         131,
         38.2
        ],
        [
         "Old Indian defence",
         129,
         37.2
        ],
        [
         "Catalan opening",
         135,
         36.4
        ]
       ],
       "datasetInfos": [],
       "dbfsResultPath": null,
       "isJsonSchema": true,
       "metadata": {},
       "overflow": false,
       "plotOptions": {
        "customPlotOptions": {},
        "displayType": "table",
        "pivotAggregation": null,
        "pivotColumns": null,
        "xColumns": null,
        "yColumns": null
       },
       "removedWidgets": [],
       "schema": [
        {
         "metadata": "{}",
         "name": "opening",
         "type": "\"string\""
        },
        {
         "metadata": "{}",
         "name": "victory_count_world",
         "type": "\"long\""
        },
        {
         "metadata": "{}",
         "name": "percentage_world",
         "type": "\"double\""
        }
       ],
       "type": "table"
      }
     },
     "output_type": "display_data"
    }
   ],
   "source": [
    "# Rename columns in white_wins_percentage_df_world\n",
    "white_wins_percentage_df_world = white_wins_percentage_df_world.withColumnRenamed(\n",
    "    \"white_wins_count\", \"victory_count_world\"\n",
    ").withColumnRenamed(\n",
    "    \"percentage\", \"percentage_world\"\n",
    ")\n",
    "\n",
    "# Display the result\n",
    "display(white_wins_percentage_df_world)"
   ]
  },
  {
   "cell_type": "markdown",
   "metadata": {
    "application/vnd.databricks.v1+cell": {
     "cellMetadata": {},
     "inputWidgets": {},
     "nuid": "fd4cfa1e-41f7-4128-b309-fd345d52f353",
     "showTitle": false,
     "title": ""
    }
   },
   "source": [
    "- Joining dataframes for openings compare"
   ]
  },
  {
   "cell_type": "code",
   "execution_count": 0,
   "metadata": {
    "application/vnd.databricks.v1+cell": {
     "cellMetadata": {
      "byteLimit": 2048000,
      "rowLimit": 10000
     },
     "inputWidgets": {},
     "nuid": "636c5df8-795d-49bd-9a5a-732c2996ec12",
     "showTitle": false,
     "title": ""
    }
   },
   "outputs": [
    {
     "output_type": "display_data",
     "data": {
      "text/html": [
       "<style scoped>\n",
       "  .table-result-container {\n",
       "    max-height: 300px;\n",
       "    overflow: auto;\n",
       "  }\n",
       "  table, th, td {\n",
       "    border: 1px solid black;\n",
       "    border-collapse: collapse;\n",
       "  }\n",
       "  th, td {\n",
       "    padding: 5px;\n",
       "  }\n",
       "  th {\n",
       "    text-align: left;\n",
       "  }\n",
       "</style><div class='table-result-container'><table class='table-result'><thead style='background-color: white'><tr><th>opening</th><th>victory_count_world</th><th>victory_count_ind</th><th>percentage_world</th><th>percentage_ind</th></tr></thead><tbody><tr><td>Reti opening</td><td>2038</td><td>176</td><td>47.3</td><td>58.1</td></tr><tr><td>English</td><td>2124</td><td>107</td><td>45.6</td><td>53.8</td></tr><tr><td>King's Indian</td><td>2679</td><td>141</td><td>47.0</td><td>53.2</td></tr><tr><td>Reti</td><td>1658</td><td>132</td><td>45.7</td><td>50.2</td></tr><tr><td>QGD</td><td>3126</td><td>120</td><td>45.3</td><td>49.8</td></tr><tr><td>English opening</td><td>1707</td><td>114</td><td>45.2</td><td>49.4</td></tr><tr><td>Ruy Lopez</td><td>1946</td><td>142</td><td>40.2</td><td>44.4</td></tr><tr><td>French</td><td>3423</td><td>151</td><td>44.5</td><td>44.4</td></tr><tr><td>Sicilian</td><td>10063</td><td>497</td><td>43.7</td><td>43.5</td></tr><tr><td>Caro-Kann</td><td>2936</td><td>134</td><td>44.2</td><td>41.7</td></tr><tr><td>Queen's pawn game</td><td>3117</td><td>127</td><td>43.5</td><td>40.4</td></tr></tbody></table></div>"
      ]
     },
     "metadata": {
      "application/vnd.databricks.v1+output": {
       "addedWidgets": {},
       "aggData": [],
       "aggError": "",
       "aggOverflow": false,
       "aggSchema": [],
       "aggSeriesLimitReached": false,
       "aggType": "",
       "arguments": {},
       "columnCustomDisplayInfos": {},
       "data": [
        [
         "Reti opening",
         2038,
         176,
         47.3,
         58.1
        ],
        [
         "English",
         2124,
         107,
         45.6,
         53.8
        ],
        [
         "King's Indian",
         2679,
         141,
         47.0,
         53.2
        ],
        [
         "Reti",
         1658,
         132,
         45.7,
         50.2
        ],
        [
         "QGD",
         3126,
         120,
         45.3,
         49.8
        ],
        [
         "English opening",
         1707,
         114,
         45.2,
         49.4
        ],
        [
         "Ruy Lopez",
         1946,
         142,
         40.2,
         44.4
        ],
        [
         "French",
         3423,
         151,
         44.5,
         44.4
        ],
        [
         "Sicilian",
         10063,
         497,
         43.7,
         43.5
        ],
        [
         "Caro-Kann",
         2936,
         134,
         44.2,
         41.7
        ],
        [
         "Queen's pawn game",
         3117,
         127,
         43.5,
         40.4
        ]
       ],
       "datasetInfos": [],
       "dbfsResultPath": null,
       "isJsonSchema": true,
       "metadata": {},
       "overflow": false,
       "plotOptions": {
        "customPlotOptions": {},
        "displayType": "table",
        "pivotAggregation": null,
        "pivotColumns": null,
        "xColumns": null,
        "yColumns": null
       },
       "removedWidgets": [],
       "schema": [
        {
         "metadata": "{}",
         "name": "opening",
         "type": "\"string\""
        },
        {
         "metadata": "{}",
         "name": "victory_count_world",
         "type": "\"long\""
        },
        {
         "metadata": "{}",
         "name": "victory_count_ind",
         "type": "\"long\""
        },
        {
         "metadata": "{}",
         "name": "percentage_world",
         "type": "\"double\""
        },
        {
         "metadata": "{}",
         "name": "percentage_ind",
         "type": "\"double\""
        }
       ],
       "type": "table"
      }
     },
     "output_type": "display_data"
    }
   ],
   "source": [
    "# Join the dataframes on the 'opening' column\n",
    "openings_comp_ind_world = white_wins_percentage_df_world.join(\n",
    "    white_wins_percentage_df_ind, \n",
    "    on=\"opening\", \n",
    "    how=\"inner\"\n",
    ").select(\n",
    "    \"opening\", \n",
    "    \"victory_count_world\", \n",
    "    \"victory_count_ind\", \n",
    "    \"percentage_world\", \n",
    "    \"percentage_ind\"\n",
    ").orderBy(\n",
    "    F.col(\"percentage_ind\").desc()\n",
    ")\n",
    "\n",
    "# Display the result\n",
    "display(openings_comp_ind_world)"
   ]
  },
  {
   "cell_type": "code",
   "execution_count": 0,
   "metadata": {
    "application/vnd.databricks.v1+cell": {
     "cellMetadata": {
      "byteLimit": 2048000,
      "rowLimit": 10000
     },
     "inputWidgets": {},
     "nuid": "3b6482ae-7f2b-42e0-bbe5-f91913a24ece",
     "showTitle": false,
     "title": ""
    }
   },
   "outputs": [],
   "source": [
    "openings_comp_ind_world.write.mode('overwrite').saveAsTable('gold.IND_world_comp_openings')"
   ]
  }
 ],
 "metadata": {
  "application/vnd.databricks.v1+notebook": {
   "dashboards": [],
   "environmentMetadata": null,
   "language": "python",
   "notebookMetadata": {
    "pythonIndentUnit": 4
   },
   "notebookName": "silver to gold - matchs common openings",
   "widgets": {}
  }
 },
 "nbformat": 4,
 "nbformat_minor": 0
}
