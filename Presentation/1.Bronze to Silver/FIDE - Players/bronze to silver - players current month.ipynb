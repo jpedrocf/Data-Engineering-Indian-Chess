{
 "cells": [
  {
   "cell_type": "markdown",
   "metadata": {
    "application/vnd.databricks.v1+cell": {
     "cellMetadata": {},
     "inputWidgets": {},
     "nuid": "fb14d550-9b5d-4b9f-b631-1bd8a34b5c90",
     "showTitle": false,
     "title": ""
    }
   },
   "source": [
    "# **Current Month Players Table**\n"
   ]
  },
  {
   "cell_type": "markdown",
   "metadata": {
    "application/vnd.databricks.v1+cell": {
     "cellMetadata": {},
     "inputWidgets": {},
     "nuid": "0fa88547-e2c3-49c8-ade6-627c525369be",
     "showTitle": false,
     "title": ""
    }
   },
   "source": [
    "- Dataframe creation of the table players in the silver DB, using Spark"
   ]
  },
  {
   "cell_type": "code",
   "execution_count": 0,
   "metadata": {
    "application/vnd.databricks.v1+cell": {
     "cellMetadata": {},
     "inputWidgets": {},
     "nuid": "7450502d-386b-4fcd-b528-7ac9edaa779a",
     "showTitle": false,
     "title": ""
    }
   },
   "outputs": [],
   "source": [
    "updated_players_df = spark.table('silver.players')"
   ]
  },
  {
   "cell_type": "code",
   "execution_count": 0,
   "metadata": {
    "application/vnd.databricks.v1+cell": {
     "cellMetadata": {},
     "inputWidgets": {},
     "nuid": "bcd45e85-ada9-42ee-9f38-ed0426e9269b",
     "showTitle": false,
     "title": ""
    }
   },
   "outputs": [],
   "source": [
    "display(updated_players_df)"
   ]
  },
  {
   "cell_type": "markdown",
   "metadata": {
    "application/vnd.databricks.v1+cell": {
     "cellMetadata": {},
     "inputWidgets": {},
     "nuid": "c1242363-2b29-4e34-96ae-774430293499",
     "showTitle": false,
     "title": ""
    }
   },
   "source": [
    "- Creating a Dataframe with a new column of the filtered current date, with the 'yyyy-MM-01' format"
   ]
  },
  {
   "cell_type": "code",
   "execution_count": 0,
   "metadata": {
    "application/vnd.databricks.v1+cell": {
     "cellMetadata": {},
     "inputWidgets": {},
     "nuid": "dbcd2cc2-91da-4331-844c-5bc613455109",
     "showTitle": false,
     "title": ""
    }
   },
   "outputs": [],
   "source": [
    "from pyspark.sql.functions import col, to_date, current_date, date_format\n",
    "\n",
    "filtered_players_df = updated_players_df.filter(to_date(col('rating_date'), 'MMM/yyyy') == date_format(current_date(), 'yyyy-MM-01'))\n",
    "display(filtered_players_df)"
   ]
  },
  {
   "cell_type": "markdown",
   "metadata": {
    "application/vnd.databricks.v1+cell": {
     "cellMetadata": {},
     "inputWidgets": {},
     "nuid": "40aec203-1c22-4117-8698-a2fef1699337",
     "showTitle": false,
     "title": ""
    }
   },
   "source": [
    "- Checking if the current date filter are working"
   ]
  },
  {
   "cell_type": "code",
   "execution_count": 0,
   "metadata": {
    "application/vnd.databricks.v1+cell": {
     "cellMetadata": {},
     "inputWidgets": {},
     "nuid": "3311da3c-ec4a-4861-b923-db127ba348f0",
     "showTitle": false,
     "title": ""
    }
   },
   "outputs": [],
   "source": [
    "display(filtered_players_df.groupBy('rating_date').count())"
   ]
  },
  {
   "cell_type": "code",
   "execution_count": 0,
   "metadata": {
    "application/vnd.databricks.v1+cell": {
     "cellMetadata": {},
     "inputWidgets": {},
     "nuid": "f04c0b11-fbd5-409b-b5f8-6f71d409ab14",
     "showTitle": false,
     "title": ""
    }
   },
   "outputs": [],
   "source": [
    "filtered_players_df.printSchema()"
   ]
  },
  {
   "cell_type": "markdown",
   "metadata": {
    "application/vnd.databricks.v1+cell": {
     "cellMetadata": {},
     "inputWidgets": {},
     "nuid": "9cc44727-25ff-4eff-bedc-f593d46cc036",
     "showTitle": false,
     "title": ""
    }
   },
   "source": [
    "- Saving the Dataframe as a table in the Silver DB"
   ]
  },
  {
   "cell_type": "code",
   "execution_count": 0,
   "metadata": {
    "application/vnd.databricks.v1+cell": {
     "cellMetadata": {},
     "inputWidgets": {},
     "nuid": "e0e01e33-a172-4642-bd72-fbec377d2b05",
     "showTitle": false,
     "title": ""
    }
   },
   "outputs": [],
   "source": [
    "filtered_players_df.write.mode('overwrite').saveAsTable('silver.players_current_month')"
   ]
  }
 ],
 "metadata": {
  "application/vnd.databricks.v1+notebook": {
   "dashboards": [],
   "environmentMetadata": null,
   "language": "python",
   "notebookMetadata": {
    "pythonIndentUnit": 4
   },
   "notebookName": "bronze to silver - players current month",
   "widgets": {}
  }
 },
 "nbformat": 4,
 "nbformat_minor": 0
}
