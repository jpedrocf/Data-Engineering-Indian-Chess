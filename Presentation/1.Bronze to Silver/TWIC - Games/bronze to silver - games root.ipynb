{
 "cells": [
  {
   "cell_type": "markdown",
   "metadata": {
    "application/vnd.databricks.v1+cell": {
     "cellMetadata": {},
     "inputWidgets": {},
     "nuid": "12980522-99a2-4e19-818f-6a94c0f03927",
     "showTitle": false,
     "title": ""
    }
   },
   "source": [
    "# **Matches Table Root**"
   ]
  },
  {
   "cell_type": "markdown",
   "metadata": {
    "application/vnd.databricks.v1+cell": {
     "cellMetadata": {},
     "inputWidgets": {},
     "nuid": "1ef3aa5f-ca50-453b-ac89-9fc629b46a59",
     "showTitle": false,
     "title": ""
    }
   },
   "source": [
    "- Dataframe creation of the table partidas_campeonato in the bronze DB, using Spark"
   ]
  },
  {
   "cell_type": "code",
   "execution_count": 0,
   "metadata": {
    "application/vnd.databricks.v1+cell": {
     "cellMetadata": {},
     "inputWidgets": {},
     "nuid": "f2fbaab3-b5b9-4419-b2c5-98f57dfd079a",
     "showTitle": false,
     "title": ""
    }
   },
   "outputs": [],
   "source": [
    "games_df = spark.table('bronze.event_games')"
   ]
  },
  {
   "cell_type": "code",
   "execution_count": 0,
   "metadata": {
    "application/vnd.databricks.v1+cell": {
     "cellMetadata": {},
     "inputWidgets": {},
     "nuid": "07220e6b-3f6c-44d3-aa40-a23fbc2dbf42",
     "showTitle": false,
     "title": ""
    }
   },
   "outputs": [],
   "source": [
    "from pyspark.sql.types import *\n",
    "from pyspark.sql.functions import *\n",
    "import datetime"
   ]
  },
  {
   "cell_type": "markdown",
   "metadata": {
    "application/vnd.databricks.v1+cell": {
     "cellMetadata": {},
     "inputWidgets": {},
     "nuid": "f77e41eb-7b36-4455-8b84-6febac90974f",
     "showTitle": false,
     "title": ""
    }
   },
   "source": [
    "- Checking the schema for type adjustments"
   ]
  },
  {
   "cell_type": "code",
   "execution_count": 0,
   "metadata": {
    "application/vnd.databricks.v1+cell": {
     "cellMetadata": {},
     "inputWidgets": {},
     "nuid": "254ec3e3-1479-4f8e-b688-529b40472066",
     "showTitle": false,
     "title": ""
    }
   },
   "outputs": [],
   "source": [
    "games_df.printSchema()"
   ]
  },
  {
   "cell_type": "markdown",
   "metadata": {
    "application/vnd.databricks.v1+cell": {
     "cellMetadata": {},
     "inputWidgets": {},
     "nuid": "3e507cea-35b9-45cb-87ac-c26671020782",
     "showTitle": false,
     "title": ""
    }
   },
   "source": [
    "- Adjusting the types"
   ]
  },
  {
   "cell_type": "code",
   "execution_count": 0,
   "metadata": {
    "application/vnd.databricks.v1+cell": {
     "cellMetadata": {},
     "inputWidgets": {},
     "nuid": "5861754f-82db-462d-8f31-c743f8ac8f52",
     "showTitle": false,
     "title": ""
    }
   },
   "outputs": [],
   "source": [
    "schema = StructType([\n",
    "    StructField(\"id\", LongType(), False),\n",
    "    StructField(\"event\", StringType(), True),\n",
    "    StructField(\"site\", StringType(), True),\n",
    "    StructField(\"date\", DateType(), True),\n",
    "    StructField(\"round\", DoubleType(), True),\n",
    "    StructField(\"white\", StringType(),True),\n",
    "    StructField(\"black\", StringType(), True),\n",
    "    StructField(\"result\", StringType(), True),\n",
    "    StructField(\"white_title\", StringType(), True),\n",
    "    StructField(\"black_title\", StringType(), True),\n",
    "    StructField(\"white_elo\", LongType(), True),\n",
    "    StructField(\"black_elo\", LongType(), True),\n",
    "    StructField(\"eco\", StringType(), True),\n",
    "    StructField(\"opening\", StringType(), True),\n",
    "    StructField(\"variation\", StringType(), True),\n",
    "    StructField(\"white_fide_id\", IntegerType(), True),\n",
    "    StructField(\"black_fide_id\", IntegerType(), True),\n",
    "    StructField(\"event_date\", DateType(), True),\n",
    "    StructField(\"moves\", StringType(), True)\n",
    "])\n",
    "\n",
    "df_updated = spark.createDataFrame(games_df.rdd, schema)\n",
    "\n",
    "df_updated.printSchema()"
   ]
  },
  {
   "cell_type": "markdown",
   "metadata": {
    "application/vnd.databricks.v1+cell": {
     "cellMetadata": {},
     "inputWidgets": {},
     "nuid": "b01c6b31-22f2-4313-9c1b-cde0615517c7",
     "showTitle": false,
     "title": ""
    }
   },
   "source": [
    "- Creating a new column of the result of the match, based on the result column and reordering the table"
   ]
  },
  {
   "cell_type": "code",
   "execution_count": 0,
   "metadata": {
    "application/vnd.databricks.v1+cell": {
     "cellMetadata": {},
     "inputWidgets": {},
     "nuid": "2273f0f1-edb9-4d08-9f41-62d6b6f3c850",
     "showTitle": false,
     "title": ""
    }
   },
   "outputs": [],
   "source": [
    "df_updated_with_new_col = df_updated.withColumn(\n",
    "    \"result_of_match\",\n",
    "    when(col(\"result\") == \"1/2-1/2\", \"Draw\")\n",
    "    .when(col(\"result\") == \"1-0\", \"White wins\")\n",
    "    .when(col(\"result\") == \"0-1\", \"Black wins\")\n",
    "    .otherwise(\"Unknown\")\n",
    ")\n",
    "\n",
    "cols = df_updated_with_new_col.columns\n",
    "new_cols_order = cols[:7] + ['result', 'result_of_match'] + cols[8:-1]\n",
    "df_updated_with_new_col2 = df_updated_with_new_col.select(new_cols_order)\n",
    "\n",
    "df_updated_with_new_col2.printSchema()"
   ]
  },
  {
   "cell_type": "markdown",
   "metadata": {
    "application/vnd.databricks.v1+cell": {
     "cellMetadata": {},
     "inputWidgets": {},
     "nuid": "393a0820-e7e4-41a9-9e06-4d0dc05cb911",
     "showTitle": false,
     "title": ""
    }
   },
   "source": [
    "- Overwriting the table partidas_campeonato at the silver DB"
   ]
  },
  {
   "cell_type": "code",
   "execution_count": 0,
   "metadata": {
    "application/vnd.databricks.v1+cell": {
     "cellMetadata": {},
     "inputWidgets": {},
     "nuid": "73dd0a64-5a31-4428-9dee-99dc1ee6ce1d",
     "showTitle": false,
     "title": ""
    }
   },
   "outputs": [],
   "source": [
    "df_updated_with_new_col2.write.mode('overwrite').saveAsTable('silver.event_games')"
   ]
  }
 ],
 "metadata": {
  "application/vnd.databricks.v1+notebook": {
   "dashboards": [],
   "environmentMetadata": null,
   "language": "python",
   "notebookMetadata": {},
   "notebookName": "bronze to silver - games root",
   "widgets": {}
  }
 },
 "nbformat": 4,
 "nbformat_minor": 0
}
