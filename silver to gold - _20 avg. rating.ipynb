{
 "cells": [
  {
   "cell_type": "markdown",
   "metadata": {
    "application/vnd.databricks.v1+cell": {
     "cellMetadata": {},
     "inputWidgets": {},
     "nuid": "e30641e2-e547-4008-b0d0-c6cc6fec447d",
     "showTitle": false,
     "title": ""
    }
   },
   "source": [
    "- Dataframe creation of the table players_female_Base in the silver DB, using Spark"
   ]
  },
  {
   "cell_type": "code",
   "execution_count": 0,
   "metadata": {
    "application/vnd.databricks.v1+cell": {
     "cellMetadata": {
      "byteLimit": 2048000,
      "rowLimit": 10000
     },
     "inputWidgets": {},
     "nuid": "c78dc367-4d93-46f0-a682-06b22d779938",
     "showTitle": false,
     "title": ""
    }
   },
   "outputs": [],
   "source": [
    "avg_rating_df = spark.table('silver.players_female_base')"
   ]
  },
  {
   "cell_type": "markdown",
   "metadata": {
    "application/vnd.databricks.v1+cell": {
     "cellMetadata": {},
     "inputWidgets": {},
     "nuid": "32f528b0-c3f3-46aa-87b0-638ea922fa1f",
     "showTitle": false,
     "title": ""
    }
   },
   "source": [
    "- Filtering top 10 under 20 y/o players per country, where flag is not inactive"
   ]
  },
  {
   "cell_type": "code",
   "execution_count": 0,
   "metadata": {
    "application/vnd.databricks.v1+cell": {
     "cellMetadata": {
      "byteLimit": 2048000,
      "rowLimit": 10000
     },
     "inputWidgets": {},
     "nuid": "6134d6bf-6022-439e-b70f-fc8308329beb",
     "showTitle": false,
     "title": ""
    }
   },
   "outputs": [
    {
     "output_type": "display_data",
     "data": {
      "text/html": [
       "<style scoped>\n",
       "  .table-result-container {\n",
       "    max-height: 300px;\n",
       "    overflow: auto;\n",
       "  }\n",
       "  table, th, td {\n",
       "    border: 1px solid black;\n",
       "    border-collapse: collapse;\n",
       "  }\n",
       "  th, td {\n",
       "    padding: 5px;\n",
       "  }\n",
       "  th {\n",
       "    text-align: left;\n",
       "  }\n",
       "</style><div class='table-result-container'><table class='table-result'><thead style='background-color: white'><tr><th>country</th><th>average_rating</th></tr></thead><tbody><tr><td>IND</td><td>2243.6</td></tr><tr><td>KAZ</td><td>2235.7</td></tr><tr><td>CHN</td><td>2223.0</td></tr><tr><td>USA</td><td>2217.8</td></tr><tr><td>FID</td><td>2185.8</td></tr><tr><td>POL</td><td>2125.6</td></tr><tr><td>ESP</td><td>2099.7</td></tr><tr><td>GER</td><td>2095.8</td></tr><tr><td>UKR</td><td>2092.6</td></tr><tr><td>CUB</td><td>2088.8</td></tr><tr><td>IRI</td><td>2078.9</td></tr><tr><td>HUN</td><td>2072.9</td></tr><tr><td>RUS</td><td>2060.1</td></tr><tr><td>FRA</td><td>2052.0</td></tr><tr><td>MGL</td><td>2041.4</td></tr><tr><td>SRB</td><td>2039.6</td></tr><tr><td>NED</td><td>2037.5</td></tr><tr><td>ENG</td><td>2029.5</td></tr><tr><td>SVK</td><td>2024.6</td></tr><tr><td>AZE</td><td>2019.8</td></tr><tr><td>ROU</td><td>2016.0</td></tr><tr><td>TUR</td><td>2013.7</td></tr><tr><td>ARG</td><td>1999.1</td></tr><tr><td>CZE</td><td>1992.5</td></tr><tr><td>ISR</td><td>1988.8</td></tr><tr><td>ITA</td><td>1987.8</td></tr><tr><td>BUL</td><td>1982.6</td></tr><tr><td>UZB</td><td>1970.1</td></tr><tr><td>GEO</td><td>1964.3</td></tr><tr><td>ARM</td><td>1949.7</td></tr><tr><td>VIE</td><td>1947.1</td></tr><tr><td>BAN</td><td>1940.5</td></tr><tr><td>COL</td><td>1927.9</td></tr><tr><td>CAN</td><td>1922.5</td></tr><tr><td>GRE</td><td>1919.6</td></tr><tr><td>PER</td><td>1906.8</td></tr><tr><td>MEX</td><td>1893.8</td></tr><tr><td>INA</td><td>1887.6</td></tr><tr><td>CRO</td><td>1882.6</td></tr><tr><td>SLO</td><td>1877.9</td></tr><tr><td>BRA</td><td>1873.9</td></tr><tr><td>TKM</td><td>1873.9</td></tr><tr><td>AUT</td><td>1870.0</td></tr><tr><td>SUI</td><td>1868.8</td></tr><tr><td>PHI</td><td>1858.1</td></tr><tr><td>POR</td><td>1850.1</td></tr><tr><td>BEL</td><td>1848.5</td></tr><tr><td>NZL</td><td>1848.5</td></tr><tr><td>SWE</td><td>1846.5</td></tr><tr><td>MDA</td><td>1844.1</td></tr><tr><td>LAT</td><td>1842.6</td></tr><tr><td>DEN</td><td>1832.8</td></tr><tr><td>EGY</td><td>1820.9</td></tr><tr><td>AUS</td><td>1819.0</td></tr><tr><td>NGR</td><td>1814.5</td></tr><tr><td>SGP</td><td>1814.3</td></tr><tr><td>KGZ</td><td>1814.1</td></tr><tr><td>SRI</td><td>1810.8</td></tr><tr><td>NOR</td><td>1800.9</td></tr><tr><td>MAS</td><td>1795.2</td></tr><tr><td>VEN</td><td>1793.0</td></tr><tr><td>ECU</td><td>1792.2</td></tr><tr><td>KSA</td><td>1792.0</td></tr><tr><td>BIH</td><td>1786.0</td></tr><tr><td>CHI</td><td>1777.0</td></tr><tr><td>PLE</td><td>1773.7</td></tr><tr><td>BOL</td><td>1772.4</td></tr><tr><td>BOT</td><td>1764.8</td></tr><tr><td>ALG</td><td>1761.0</td></tr><tr><td>EST</td><td>1760.7</td></tr><tr><td>UAE</td><td>1749.1</td></tr><tr><td>ALB</td><td>1737.0</td></tr><tr><td>PAR</td><td>1736.1</td></tr><tr><td>SYR</td><td>1728.3</td></tr><tr><td>RSA</td><td>1727.2</td></tr><tr><td>CRC</td><td>1727.1</td></tr><tr><td>LTU</td><td>1725.8</td></tr><tr><td>KOR</td><td>1716.6</td></tr><tr><td>PAN</td><td>1701.3</td></tr><tr><td>HKG</td><td>1700.5</td></tr><tr><td>IRL</td><td>1699.4</td></tr><tr><td>THA</td><td>1697.9</td></tr><tr><td>BLR</td><td>1693.7</td></tr><tr><td>MAR</td><td>1693.3</td></tr><tr><td>UGA</td><td>1693.3</td></tr><tr><td>NCA</td><td>1688.6</td></tr><tr><td>TUN</td><td>1687.0</td></tr><tr><td>LIE</td><td>1685.0</td></tr><tr><td>MKD</td><td>1684.6</td></tr><tr><td>GUA</td><td>1681.5</td></tr><tr><td>URU</td><td>1681.3</td></tr><tr><td>MNE</td><td>1678.9</td></tr><tr><td>MYA</td><td>1671.0</td></tr><tr><td>LUX</td><td>1660.4</td></tr><tr><td>SCO</td><td>1654.0</td></tr><tr><td>JPN</td><td>1653.0</td></tr><tr><td>TJK</td><td>1647.4</td></tr><tr><td>KOS</td><td>1647.3</td></tr><tr><td>ESA</td><td>1645.6</td></tr><tr><td>DOM</td><td>1638.2</td></tr><tr><td>AND</td><td>1636.0</td></tr><tr><td>FIN</td><td>1632.4</td></tr><tr><td>IRQ</td><td>1624.3</td></tr><tr><td>GUM</td><td>1623.0</td></tr><tr><td>CAY</td><td>1620.0</td></tr><tr><td>KEN</td><td>1614.4</td></tr><tr><td>ETH</td><td>1614.3</td></tr><tr><td>AHO</td><td>1613.3</td></tr><tr><td>LBN</td><td>1610.9</td></tr><tr><td>HON</td><td>1608.2</td></tr><tr><td>ISL</td><td>1607.2</td></tr><tr><td>ANG</td><td>1604.6</td></tr><tr><td>LES</td><td>1599.7</td></tr><tr><td>BRU</td><td>1596.0</td></tr><tr><td>LBA</td><td>1596.0</td></tr><tr><td>MAD</td><td>1591.8</td></tr><tr><td>LBR</td><td>1591.3</td></tr><tr><td>MRI</td><td>1587.0</td></tr><tr><td>CIV</td><td>1585.2</td></tr><tr><td>JAM</td><td>1581.0</td></tr><tr><td>STP</td><td>1579.0</td></tr><tr><td>HAI</td><td>1572.9</td></tr><tr><td>BAR</td><td>1572.8</td></tr><tr><td>SUR</td><td>1568.3</td></tr><tr><td>MNC</td><td>1567.8</td></tr><tr><td>JOR</td><td>1567.3</td></tr><tr><td>TTO</td><td>1567.2</td></tr><tr><td>CYP</td><td>1566.7</td></tr><tr><td>ZIM</td><td>1561.7</td></tr><tr><td>TPE</td><td>1559.8</td></tr><tr><td>LCA</td><td>1559.5</td></tr><tr><td>WLS</td><td>1557.8</td></tr><tr><td>NAM</td><td>1555.9</td></tr><tr><td>NEP</td><td>1552.1</td></tr><tr><td>KUW</td><td>1548.0</td></tr><tr><td>CPV</td><td>1547.0</td></tr><tr><td>MAC</td><td>1545.0</td></tr><tr><td>TAN</td><td>1544.5</td></tr><tr><td>MAW</td><td>1542.8</td></tr><tr><td>FIJ</td><td>1542.5</td></tr><tr><td>MOZ</td><td>1541.0</td></tr><tr><td>MLT</td><td>1532.8</td></tr><tr><td>ARU</td><td>1524.8</td></tr><tr><td>OMA</td><td>1517.1</td></tr><tr><td>FAI</td><td>1515.0</td></tr><tr><td>BHU</td><td>1514.0</td></tr><tr><td>ZAM</td><td>1511.8</td></tr><tr><td>GUY</td><td>1505.5</td></tr><tr><td>BAH</td><td>1505.0</td></tr><tr><td>MTN</td><td>1494.0</td></tr><tr><td>BRN</td><td>1471.7</td></tr><tr><td>GAB</td><td>1469.0</td></tr><tr><td>MDV</td><td>1465.0</td></tr><tr><td>GHA</td><td>1460.0</td></tr><tr><td>SUD</td><td>1452.0</td></tr><tr><td>QAT</td><td>1438.0</td></tr><tr><td>PAK</td><td>1432.3</td></tr><tr><td>MLI</td><td>1427.0</td></tr><tr><td>PUR</td><td>1415.0</td></tr></tbody></table></div>"
      ]
     },
     "metadata": {
      "application/vnd.databricks.v1+output": {
       "addedWidgets": {},
       "aggData": [],
       "aggError": "",
       "aggOverflow": false,
       "aggSchema": [],
       "aggSeriesLimitReached": false,
       "aggType": "",
       "arguments": {},
       "columnCustomDisplayInfos": {},
       "data": [
        [
         "IND",
         2243.6
        ],
        [
         "KAZ",
         2235.7
        ],
        [
         "CHN",
         2223.0
        ],
        [
         "USA",
         2217.8
        ],
        [
         "FID",
         2185.8
        ],
        [
         "POL",
         2125.6
        ],
        [
         "ESP",
         2099.7
        ],
        [
         "GER",
         2095.8
        ],
        [
         "UKR",
         2092.6
        ],
        [
         "CUB",
         2088.8
        ],
        [
         "IRI",
         2078.9
        ],
        [
         "HUN",
         2072.9
        ],
        [
         "RUS",
         2060.1
        ],
        [
         "FRA",
         2052.0
        ],
        [
         "MGL",
         2041.4
        ],
        [
         "SRB",
         2039.6
        ],
        [
         "NED",
         2037.5
        ],
        [
         "ENG",
         2029.5
        ],
        [
         "SVK",
         2024.6
        ],
        [
         "AZE",
         2019.8
        ],
        [
         "ROU",
         2016.0
        ],
        [
         "TUR",
         2013.7
        ],
        [
         "ARG",
         1999.1
        ],
        [
         "CZE",
         1992.5
        ],
        [
         "ISR",
         1988.8
        ],
        [
         "ITA",
         1987.8
        ],
        [
         "BUL",
         1982.6
        ],
        [
         "UZB",
         1970.1
        ],
        [
         "GEO",
         1964.3
        ],
        [
         "ARM",
         1949.7
        ],
        [
         "VIE",
         1947.1
        ],
        [
         "BAN",
         1940.5
        ],
        [
         "COL",
         1927.9
        ],
        [
         "CAN",
         1922.5
        ],
        [
         "GRE",
         1919.6
        ],
        [
         "PER",
         1906.8
        ],
        [
         "MEX",
         1893.8
        ],
        [
         "INA",
         1887.6
        ],
        [
         "CRO",
         1882.6
        ],
        [
         "SLO",
         1877.9
        ],
        [
         "BRA",
         1873.9
        ],
        [
         "TKM",
         1873.9
        ],
        [
         "AUT",
         1870.0
        ],
        [
         "SUI",
         1868.8
        ],
        [
         "PHI",
         1858.1
        ],
        [
         "POR",
         1850.1
        ],
        [
         "BEL",
         1848.5
        ],
        [
         "NZL",
         1848.5
        ],
        [
         "SWE",
         1846.5
        ],
        [
         "MDA",
         1844.1
        ],
        [
         "LAT",
         1842.6
        ],
        [
         "DEN",
         1832.8
        ],
        [
         "EGY",
         1820.9
        ],
        [
         "AUS",
         1819.0
        ],
        [
         "NGR",
         1814.5
        ],
        [
         "SGP",
         1814.3
        ],
        [
         "KGZ",
         1814.1
        ],
        [
         "SRI",
         1810.8
        ],
        [
         "NOR",
         1800.9
        ],
        [
         "MAS",
         1795.2
        ],
        [
         "VEN",
         1793.0
        ],
        [
         "ECU",
         1792.2
        ],
        [
         "KSA",
         1792.0
        ],
        [
         "BIH",
         1786.0
        ],
        [
         "CHI",
         1777.0
        ],
        [
         "PLE",
         1773.7
        ],
        [
         "BOL",
         1772.4
        ],
        [
         "BOT",
         1764.8
        ],
        [
         "ALG",
         1761.0
        ],
        [
         "EST",
         1760.7
        ],
        [
         "UAE",
         1749.1
        ],
        [
         "ALB",
         1737.0
        ],
        [
         "PAR",
         1736.1
        ],
        [
         "SYR",
         1728.3
        ],
        [
         "RSA",
         1727.2
        ],
        [
         "CRC",
         1727.1
        ],
        [
         "LTU",
         1725.8
        ],
        [
         "KOR",
         1716.6
        ],
        [
         "PAN",
         1701.3
        ],
        [
         "HKG",
         1700.5
        ],
        [
         "IRL",
         1699.4
        ],
        [
         "THA",
         1697.9
        ],
        [
         "BLR",
         1693.7
        ],
        [
         "MAR",
         1693.3
        ],
        [
         "UGA",
         1693.3
        ],
        [
         "NCA",
         1688.6
        ],
        [
         "TUN",
         1687.0
        ],
        [
         "LIE",
         1685.0
        ],
        [
         "MKD",
         1684.6
        ],
        [
         "GUA",
         1681.5
        ],
        [
         "URU",
         1681.3
        ],
        [
         "MNE",
         1678.9
        ],
        [
         "MYA",
         1671.0
        ],
        [
         "LUX",
         1660.4
        ],
        [
         "SCO",
         1654.0
        ],
        [
         "JPN",
         1653.0
        ],
        [
         "TJK",
         1647.4
        ],
        [
         "KOS",
         1647.3
        ],
        [
         "ESA",
         1645.6
        ],
        [
         "DOM",
         1638.2
        ],
        [
         "AND",
         1636.0
        ],
        [
         "FIN",
         1632.4
        ],
        [
         "IRQ",
         1624.3
        ],
        [
         "GUM",
         1623.0
        ],
        [
         "CAY",
         1620.0
        ],
        [
         "KEN",
         1614.4
        ],
        [
         "ETH",
         1614.3
        ],
        [
         "AHO",
         1613.3
        ],
        [
         "LBN",
         1610.9
        ],
        [
         "HON",
         1608.2
        ],
        [
         "ISL",
         1607.2
        ],
        [
         "ANG",
         1604.6
        ],
        [
         "LES",
         1599.7
        ],
        [
         "BRU",
         1596.0
        ],
        [
         "LBA",
         1596.0
        ],
        [
         "MAD",
         1591.8
        ],
        [
         "LBR",
         1591.3
        ],
        [
         "MRI",
         1587.0
        ],
        [
         "CIV",
         1585.2
        ],
        [
         "JAM",
         1581.0
        ],
        [
         "STP",
         1579.0
        ],
        [
         "HAI",
         1572.9
        ],
        [
         "BAR",
         1572.8
        ],
        [
         "SUR",
         1568.3
        ],
        [
         "MNC",
         1567.8
        ],
        [
         "JOR",
         1567.3
        ],
        [
         "TTO",
         1567.2
        ],
        [
         "CYP",
         1566.7
        ],
        [
         "ZIM",
         1561.7
        ],
        [
         "TPE",
         1559.8
        ],
        [
         "LCA",
         1559.5
        ],
        [
         "WLS",
         1557.8
        ],
        [
         "NAM",
         1555.9
        ],
        [
         "NEP",
         1552.1
        ],
        [
         "KUW",
         1548.0
        ],
        [
         "CPV",
         1547.0
        ],
        [
         "MAC",
         1545.0
        ],
        [
         "TAN",
         1544.5
        ],
        [
         "MAW",
         1542.8
        ],
        [
         "FIJ",
         1542.5
        ],
        [
         "MOZ",
         1541.0
        ],
        [
         "MLT",
         1532.8
        ],
        [
         "ARU",
         1524.8
        ],
        [
         "OMA",
         1517.1
        ],
        [
         "FAI",
         1515.0
        ],
        [
         "BHU",
         1514.0
        ],
        [
         "ZAM",
         1511.8
        ],
        [
         "GUY",
         1505.5
        ],
        [
         "BAH",
         1505.0
        ],
        [
         "MTN",
         1494.0
        ],
        [
         "BRN",
         1471.7
        ],
        [
         "GAB",
         1469.0
        ],
        [
         "MDV",
         1465.0
        ],
        [
         "GHA",
         1460.0
        ],
        [
         "SUD",
         1452.0
        ],
        [
         "QAT",
         1438.0
        ],
        [
         "PAK",
         1432.3
        ],
        [
         "MLI",
         1427.0
        ],
        [
         "PUR",
         1415.0
        ]
       ],
       "datasetInfos": [],
       "dbfsResultPath": null,
       "isJsonSchema": true,
       "metadata": {},
       "overflow": false,
       "plotOptions": {
        "customPlotOptions": {},
        "displayType": "table",
        "pivotAggregation": null,
        "pivotColumns": null,
        "xColumns": null,
        "yColumns": null
       },
       "removedWidgets": [],
       "schema": [
        {
         "metadata": "{\"comment\":\"Nationality code of the player, country (3 characters)\"}",
         "name": "country",
         "type": "\"string\""
        },
        {
         "metadata": "{}",
         "name": "average_rating",
         "type": "\"double\""
        }
       ],
       "type": "table"
      }
     },
     "output_type": "display_data"
    }
   ],
   "source": [
    "from pyspark.sql import Window\n",
    "from pyspark.sql import functions as F\n",
    "\n",
    "# Filter out rows where the rating is 0 or null, birthday is greater than or equal to 2004 and flag is not inactive\n",
    "filtered_df = avg_rating_df.filter((avg_rating_df.rating != 0) & (avg_rating_df.rating.isNotNull()) & (avg_rating_df.birthday >= 2004) & (avg_rating_df.flag != 'wi'))\n",
    "\n",
    "# Define a window specification to partition by country and order by rating descending\n",
    "window_spec = Window.partitionBy('country').orderBy(F.desc('rating'))\n",
    "\n",
    "# Add a row number within each partition\n",
    "ranked_df = filtered_df.withColumn('rank', F.row_number().over(window_spec))\n",
    "\n",
    "# Filter to keep only the top 10 players per country\n",
    "top_10_df = ranked_df.filter(ranked_df.rank <= 10)\n",
    "\n",
    "# Group by country and calculate the average rating\n",
    "average_rating_by_country = top_10_df.groupBy('country').agg(\n",
    "    F.avg('rating').alias('average_rating')\n",
    ")\n",
    "\n",
    "# Order by average_rating in descending order and round to 1 decimal place\n",
    "average_rating_by_country = average_rating_by_country.orderBy(F.desc('average_rating')).withColumn('average_rating', F.round('average_rating', 1))\n",
    "\n",
    "# Display the result\n",
    "display(average_rating_by_country)"
   ]
  },
  {
   "cell_type": "code",
   "execution_count": 0,
   "metadata": {
    "application/vnd.databricks.v1+cell": {
     "cellMetadata": {},
     "inputWidgets": {},
     "nuid": "7d31c129-8d76-4df6-b6d4-c13bebf59a8a",
     "showTitle": false,
     "title": ""
    }
   },
   "outputs": [],
   "source": [
    "average_rating_by_country.write.mode('overwrite').saveAsTable('gold.F_20_average_rating_by_country')"
   ]
  }
 ],
 "metadata": {
  "application/vnd.databricks.v1+notebook": {
   "dashboards": [],
   "environmentMetadata": null,
   "language": "python",
   "notebookMetadata": {
    "pythonIndentUnit": 4
   },
   "notebookName": "silver to gold - <20 avg. rating",
   "widgets": {}
  }
 },
 "nbformat": 4,
 "nbformat_minor": 0
}
