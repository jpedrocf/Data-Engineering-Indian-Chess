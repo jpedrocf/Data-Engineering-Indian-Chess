{
 "cells": [
  {
   "cell_type": "markdown",
   "metadata": {
    "application/vnd.databricks.v1+cell": {
     "cellMetadata": {},
     "inputWidgets": {},
     "nuid": "4dbd8402-c87e-4f3d-ba5a-d09104baa83e",
     "showTitle": false,
     "title": ""
    }
   },
   "source": [
    "- Dataframe creation of the table event_games and the table players_current_month in the silver DB, using Spark"
   ]
  },
  {
   "cell_type": "code",
   "execution_count": 0,
   "metadata": {
    "application/vnd.databricks.v1+cell": {
     "cellMetadata": {
      "byteLimit": 2048000,
      "rowLimit": 10000
     },
     "inputWidgets": {},
     "nuid": "83c9f435-9fa5-42ad-bbcf-d2b803f3785f",
     "showTitle": false,
     "title": ""
    }
   },
   "outputs": [],
   "source": [
    "players_df = spark.table('silver.players_current_month')\n",
    "games_df = spark.table('silver.event_games')"
   ]
  },
  {
   "cell_type": "markdown",
   "metadata": {
    "application/vnd.databricks.v1+cell": {
     "cellMetadata": {},
     "inputWidgets": {},
     "nuid": "56529852-ecbc-4625-ab67-a1bc834072d7",
     "showTitle": false,
     "title": ""
    }
   },
   "source": [
    "- Making a join of the games and players tables, using the fide id as the connector, and adding the country column for black and white players at the games table"
   ]
  },
  {
   "cell_type": "code",
   "execution_count": 0,
   "metadata": {
    "application/vnd.databricks.v1+cell": {
     "cellMetadata": {
      "byteLimit": 2048000,
      "rowLimit": 10000
     },
     "inputWidgets": {},
     "nuid": "df3fdea1-2a7c-4499-b8f2-f8467c7aa85d",
     "showTitle": false,
     "title": ""
    }
   },
   "outputs": [],
   "source": [
    "from pyspark.sql import functions as F\n",
    "\n",
    "# Alias the DataFrames for clarity\n",
    "games_df_aliased = games_df.alias(\"games\")\n",
    "players_df_white = players_df.alias(\"players_white\")\n",
    "players_df_black = players_df.alias(\"players_black\")\n",
    "\n",
    "# Join partidas_df with players_df (aliased as players_white) on white_fide_id to get white_country\n",
    "joined_df = games_df_aliased.join(\n",
    "    players_df_white,\n",
    "    F.col(\"games.white_fide_id\") == F.col(\"players_white.fideid\"),\n",
    "    \"left_outer\"\n",
    ").select(\n",
    "    F.col(\"games.*\"),\n",
    "    F.col(\"players_white.country\").alias(\"white_country\")\n",
    ")\n",
    "\n",
    "# Join the result with players_df (aliased as players_black) on black_fide_id to get black_country\n",
    "joined_df = joined_df.join(\n",
    "    players_df_black,\n",
    "    F.col(\"games.black_fide_id\") == F.col(\"players_black.fideid\"),\n",
    "    \"left_outer\"\n",
    ").select(\n",
    "    F.col(\"games.*\"),\n",
    "    F.col(\"white_country\"),\n",
    "    F.col(\"players_black.country\").alias(\"black_country\")\n",
    ")\n",
    "\n",
    "# Display the final DataFrame\n",
    "display(joined_df)"
   ]
  },
  {
   "cell_type": "markdown",
   "metadata": {
    "application/vnd.databricks.v1+cell": {
     "cellMetadata": {},
     "inputWidgets": {},
     "nuid": "49b4797d-6752-4b44-bf53-256946731598",
     "showTitle": false,
     "title": ""
    }
   },
   "source": [
    "- Ordering the columns"
   ]
  },
  {
   "cell_type": "code",
   "execution_count": 0,
   "metadata": {
    "application/vnd.databricks.v1+cell": {
     "cellMetadata": {
      "byteLimit": 2048000,
      "rowLimit": 10000
     },
     "inputWidgets": {},
     "nuid": "3046a5af-fa4d-4fe1-8bd7-397163e7d7d9",
     "showTitle": false,
     "title": ""
    }
   },
   "outputs": [],
   "source": [
    "# Adjusting the order of columns in joined_df, placing white_country right after white and black_country right after black\n",
    "ordered_columns = [\n",
    "    col for col in joined_df.columns if col not in [\"white_country\", \"black_country\"]\n",
    "]\n",
    "\n",
    "# Assuming the columns to place after are named \"white\" and \"black\" respectively\n",
    "white_index = ordered_columns.index(\"white\") + 1\n",
    "black_index = ordered_columns.index(\"black\") + 1\n",
    "\n",
    "# Inserting the country columns in the desired positions\n",
    "ordered_columns.insert(white_index, \"white_country\")\n",
    "ordered_columns.insert(black_index + 1, \"black_country\")  # +1 to account for the insertion of white_country\n",
    "\n",
    "# Selecting columns in the new order\n",
    "joined_df = joined_df.select(*ordered_columns)\n",
    "\n",
    "# Display the reordered DataFrame\n",
    "display(joined_df)"
   ]
  },
  {
   "cell_type": "code",
   "execution_count": 0,
   "metadata": {
    "application/vnd.databricks.v1+cell": {
     "cellMetadata": {
      "byteLimit": 2048000,
      "rowLimit": 10000
     },
     "inputWidgets": {},
     "nuid": "eab7a8d9-c82b-45a2-9f65-3e12a339dace",
     "showTitle": false,
     "title": ""
    }
   },
   "outputs": [],
   "source": [
    "joined_df.write.mode('overwrite').saveAsTable('silver.games_with_country')"
   ]
  },
  {
   "cell_type": "code",
   "execution_count": 0,
   "metadata": {
    "application/vnd.databricks.v1+cell": {
     "cellMetadata": {
      "byteLimit": 2048000,
      "rowLimit": 10000
     },
     "inputWidgets": {},
     "nuid": "6061921a-c240-43a1-bd1d-68fddcf03aca",
     "showTitle": false,
     "title": ""
    }
   },
   "outputs": [],
   "source": [
    "ind_df = joined_df.filter(\n",
    "    F.col(\"white_country\") == \"IND\"\n",
    ")\n",
    "\n",
    "display(ind_df)"
   ]
  },
  {
   "cell_type": "code",
   "execution_count": 0,
   "metadata": {
    "application/vnd.databricks.v1+cell": {
     "cellMetadata": {
      "byteLimit": 2048000,
      "rowLimit": 10000
     },
     "inputWidgets": {},
     "nuid": "35c45dfa-daf0-4600-8bac-a7089b180a39",
     "showTitle": false,
     "title": ""
    }
   },
   "outputs": [],
   "source": [
    "ind_df.write.mode('overwrite').saveAsTable('silver.games_IND')"
   ]
  },
  {
   "cell_type": "markdown",
   "metadata": {
    "application/vnd.databricks.v1+cell": {
     "cellMetadata": {},
     "inputWidgets": {},
     "nuid": "992225ad-573e-4345-a4e6-f44092de417a",
     "showTitle": false,
     "title": ""
    }
   },
   "source": [
    "Filtering for white_country 'IND' and counting each opening, then ordering by count descending"
   ]
  },
  {
   "cell_type": "code",
   "execution_count": 0,
   "metadata": {
    "application/vnd.databricks.v1+cell": {
     "cellMetadata": {
      "byteLimit": 2048000,
      "rowLimit": 10000
     },
     "inputWidgets": {},
     "nuid": "cfe88185-2987-417e-a997-a9dcd576e5ca",
     "showTitle": false,
     "title": ""
    }
   },
   "outputs": [],
   "source": [
    "openings_count_df = joined_df.filter(\n",
    "    F.col(\"white_country\") == \"IND\"\n",
    ").groupBy(\"opening\").agg(\n",
    "    F.count(\"*\").alias(\"openings_count\")\n",
    ").orderBy(\n",
    "    F.col(\"openings_count\").desc()\n",
    ")\n",
    "\n",
    "# Display the result\n",
    "display(openings_count_df)"
   ]
  },
  {
   "cell_type": "markdown",
   "metadata": {
    "application/vnd.databricks.v1+cell": {
     "cellMetadata": {},
     "inputWidgets": {},
     "nuid": "96826eeb-38d5-4877-a77c-5a94af64664f",
     "showTitle": false,
     "title": ""
    }
   },
   "source": [
    "- Filtering for white_country 'IND' and result_of_match 'White wins', counting each opening, and displaying each unique result_of_match"
   ]
  },
  {
   "cell_type": "code",
   "execution_count": 0,
   "metadata": {
    "application/vnd.databricks.v1+cell": {
     "cellMetadata": {
      "byteLimit": 2048000,
      "rowLimit": 10000
     },
     "inputWidgets": {},
     "nuid": "38d705c1-61a5-4076-bee5-1504feaad0d1",
     "showTitle": false,
     "title": ""
    }
   },
   "outputs": [],
   "source": [
    "from pyspark.sql import functions as F\n",
    "\n",
    "openings_results_df = joined_df.filter(\n",
    "    (F.col(\"white_country\") == \"IND\") & \n",
    "    (F.col(\"result_of_match\") == \"White wins\")\n",
    ").groupBy(\"opening\", \"result_of_match\").agg(\n",
    "    F.count(\"*\").alias(\"openings_count\")\n",
    ").orderBy(\n",
    "    F.col(\"openings_count\").desc(), F.col(\"opening\")\n",
    ")\n",
    "\n",
    "# Display the result\n",
    "display(openings_results_df)"
   ]
  },
  {
   "cell_type": "markdown",
   "metadata": {
    "application/vnd.databricks.v1+cell": {
     "cellMetadata": {},
     "inputWidgets": {},
     "nuid": "f1fceaa0-c7c4-448f-9f54-e5906206f870",
     "showTitle": false,
     "title": ""
    }
   },
   "source": [
    "- Calculating the win percentage for each opening of the indian players, where the white_wins_count is over 100, for a more accurate statistic "
   ]
  },
  {
   "cell_type": "code",
   "execution_count": 0,
   "metadata": {
    "application/vnd.databricks.v1+cell": {
     "cellMetadata": {
      "byteLimit": 2048000,
      "rowLimit": 10000
     },
     "inputWidgets": {},
     "nuid": "34dcde65-0fcd-4dba-aad4-d6ba343503f7",
     "showTitle": false,
     "title": ""
    }
   },
   "outputs": [],
   "source": [
    "# Calculate total openings count for normalization\n",
    "total_openings_df = joined_df.filter(\n",
    "    F.col(\"white_country\") == \"IND\"\n",
    ").groupBy(\"opening\").agg(\n",
    "    F.count(\"*\").alias(\"total_openings_count\")\n",
    ")\n",
    "\n",
    "# Calculate white wins count and percentage\n",
    "white_wins_percentage_df_ind = joined_df.filter(\n",
    "    (F.col(\"white_country\") == \"IND\") & \n",
    "    (F.col(\"result_of_match\") == \"White wins\")\n",
    ").groupBy(\"opening\").agg(\n",
    "    F.count(\"*\").alias(\"victory_count_ind\")\n",
    ").join(\n",
    "    total_openings_df, [\"opening\"], \"inner\"\n",
    ").withColumn(\n",
    "    \"percentage_ind\", \n",
    "    F.round((F.col(\"victory_count_ind\") / F.col(\"total_openings_count\") * 100), 1)\n",
    ").filter(\n",
    "    F.col(\"victory_count_ind\") > 100\n",
    ").select(\n",
    "    \"opening\", \"victory_count_ind\", \"percentage_ind\"\n",
    ").orderBy(\n",
    "    F.col(\"percentage_ind\").desc()\n",
    ")\n",
    "\n",
    "# Display the result\n",
    "display(white_wins_percentage_df_ind)"
   ]
  },
  {
   "cell_type": "code",
   "execution_count": 0,
   "metadata": {
    "application/vnd.databricks.v1+cell": {
     "cellMetadata": {
      "byteLimit": 2048000,
      "rowLimit": 10000
     },
     "inputWidgets": {},
     "nuid": "9cb69958-bcf4-4b80-bff0-1cff5189a00a",
     "showTitle": false,
     "title": ""
    }
   },
   "outputs": [],
   "source": [
    "white_wins_percentage_df_ind.write.mode('overwrite').saveAsTable('gold.IND_most_ef_openings')"
   ]
  },
  {
   "cell_type": "markdown",
   "metadata": {
    "application/vnd.databricks.v1+cell": {
     "cellMetadata": {},
     "inputWidgets": {},
     "nuid": "a44ecc51-7d85-45de-af8c-95d36f360560",
     "showTitle": false,
     "title": ""
    }
   },
   "source": [
    "- Calculating the win percentage for each opening of the world players, where the white_wins_count is over 100, for a more accurate statistic"
   ]
  },
  {
   "cell_type": "code",
   "execution_count": 0,
   "metadata": {
    "application/vnd.databricks.v1+cell": {
     "cellMetadata": {
      "byteLimit": 2048000,
      "rowLimit": 10000
     },
     "inputWidgets": {},
     "nuid": "6017e376-7121-43c0-8b91-bcd7892c0770",
     "showTitle": false,
     "title": ""
    }
   },
   "outputs": [],
   "source": [
    "# Calculate total openings count for normalization\n",
    "total_openings_df = joined_df.groupBy(\"opening\").agg(\n",
    "    F.count(\"*\").alias(\"total_openings_count\")\n",
    ")\n",
    "\n",
    "# Calculate white wins count and percentage\n",
    "white_wins_percentage_df_world = joined_df.filter(\n",
    "    F.col(\"result_of_match\") == \"White wins\"\n",
    ").groupBy(\"opening\").agg(\n",
    "    F.count(\"*\").alias(\"white_wins_count\")\n",
    ").join(\n",
    "    total_openings_df, [\"opening\"], \"inner\"\n",
    ").withColumn(\n",
    "    \"percentage\", \n",
    "    F.round((F.col(\"white_wins_count\") / F.col(\"total_openings_count\") * 100), 1)\n",
    ").filter(\n",
    "    F.col(\"white_wins_count\") > 100\n",
    ").select(\n",
    "    \"opening\", \"white_wins_count\", \"percentage\"\n",
    ").orderBy(\n",
    "    F.col(\"percentage\").desc()\n",
    ")\n",
    "\n",
    "# Display the result\n",
    "display(white_wins_percentage_df_world)"
   ]
  },
  {
   "cell_type": "code",
   "execution_count": 0,
   "metadata": {
    "application/vnd.databricks.v1+cell": {
     "cellMetadata": {
      "byteLimit": 2048000,
      "rowLimit": 10000
     },
     "inputWidgets": {},
     "nuid": "a4d04827-8040-498b-9774-0aced70433d0",
     "showTitle": false,
     "title": ""
    }
   },
   "outputs": [],
   "source": [
    "# Rename columns in white_wins_percentage_df_world\n",
    "white_wins_percentage_df_world = white_wins_percentage_df_world.withColumnRenamed(\n",
    "    \"white_wins_count\", \"victory_count_world\"\n",
    ").withColumnRenamed(\n",
    "    \"percentage\", \"percentage_world\"\n",
    ")\n",
    "\n",
    "# Display the result\n",
    "display(white_wins_percentage_df_world)"
   ]
  },
  {
   "cell_type": "markdown",
   "metadata": {
    "application/vnd.databricks.v1+cell": {
     "cellMetadata": {},
     "inputWidgets": {},
     "nuid": "fd4cfa1e-41f7-4128-b309-fd345d52f353",
     "showTitle": false,
     "title": ""
    }
   },
   "source": [
    "- Joining dataframes for openings compare"
   ]
  },
  {
   "cell_type": "code",
   "execution_count": 0,
   "metadata": {
    "application/vnd.databricks.v1+cell": {
     "cellMetadata": {
      "byteLimit": 2048000,
      "rowLimit": 10000
     },
     "inputWidgets": {},
     "nuid": "636c5df8-795d-49bd-9a5a-732c2996ec12",
     "showTitle": false,
     "title": ""
    }
   },
   "outputs": [],
   "source": [
    "# Join the dataframes on the 'opening' column\n",
    "openings_comp_ind_world = white_wins_percentage_df_world.join(\n",
    "    white_wins_percentage_df_ind, \n",
    "    on=\"opening\", \n",
    "    how=\"inner\"\n",
    ").select(\n",
    "    \"opening\", \n",
    "    \"victory_count_world\", \n",
    "    \"victory_count_ind\", \n",
    "    \"percentage_world\", \n",
    "    \"percentage_ind\"\n",
    ").orderBy(\n",
    "    F.col(\"percentage_ind\").desc()\n",
    ")\n",
    "\n",
    "# Display the result\n",
    "display(openings_comp_ind_world)"
   ]
  },
  {
   "cell_type": "code",
   "execution_count": 0,
   "metadata": {
    "application/vnd.databricks.v1+cell": {
     "cellMetadata": {
      "byteLimit": 2048000,
      "rowLimit": 10000
     },
     "inputWidgets": {},
     "nuid": "3b6482ae-7f2b-42e0-bbe5-f91913a24ece",
     "showTitle": false,
     "title": ""
    }
   },
   "outputs": [],
   "source": [
    "openings_comp_ind_world.write.mode('overwrite').saveAsTable('gold.IND_world_comp_openings')"
   ]
  }
 ],
 "metadata": {
  "application/vnd.databricks.v1+notebook": {
   "dashboards": [],
   "environmentMetadata": null,
   "language": "python",
   "notebookMetadata": {
    "pythonIndentUnit": 4
   },
   "notebookName": "silver to gold - matchs common openings",
   "widgets": {}
  }
 },
 "nbformat": 4,
 "nbformat_minor": 0
}
