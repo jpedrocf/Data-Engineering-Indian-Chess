{
 "cells": [
  {
   "cell_type": "markdown",
   "metadata": {
    "application/vnd.databricks.v1+cell": {
     "cellMetadata": {},
     "inputWidgets": {},
     "nuid": "74fc50ee-23c4-4d3b-899f-517fb0e32852",
     "showTitle": false,
     "title": ""
    }
   },
   "source": [
    "- Dataframe creation of the table players in the silver DB that contains the entire historical data, using Spark"
   ]
  },
  {
   "cell_type": "code",
   "execution_count": 0,
   "metadata": {
    "application/vnd.databricks.v1+cell": {
     "cellMetadata": {
      "byteLimit": 2048000,
      "rowLimit": 10000
     },
     "inputWidgets": {},
     "nuid": "1429ad71-1bfb-48e0-ab91-b7a9ebd1979e",
     "showTitle": false,
     "title": ""
    }
   },
   "outputs": [],
   "source": [
    "ranking_df = spark.table('silver.players')"
   ]
  },
  {
   "cell_type": "markdown",
   "metadata": {
    "application/vnd.databricks.v1+cell": {
     "cellMetadata": {},
     "inputWidgets": {},
     "nuid": "97d8027e-62da-4ff5-a680-ac171e64f4f2",
     "showTitle": false,
     "title": ""
    }
   },
   "source": [
    "- Transform the date type to 'MMM/yyyy'"
   ]
  },
  {
   "cell_type": "code",
   "execution_count": 0,
   "metadata": {
    "application/vnd.databricks.v1+cell": {
     "cellMetadata": {
      "byteLimit": 2048000,
      "rowLimit": 10000
     },
     "inputWidgets": {},
     "nuid": "9e549842-e75e-4a10-b826-024369d636a2",
     "showTitle": false,
     "title": ""
    }
   },
   "outputs": [],
   "source": [
    "from pyspark.sql.functions import to_date\n",
    "\n",
    "# Transform rating_date to date\n",
    "ranking_df = ranking_df.withColumn('rating_date', to_date(ranking_df.rating_date, 'MMM/yyyy'))"
   ]
  },
  {
   "cell_type": "markdown",
   "metadata": {
    "application/vnd.databricks.v1+cell": {
     "cellMetadata": {},
     "inputWidgets": {},
     "nuid": "2ce50336-a637-4110-b2c4-ae249205d4cd",
     "showTitle": false,
     "title": ""
    }
   },
   "source": [
    "- Ranking federations by month according to the average rating of the top 10 players"
   ]
  },
  {
   "cell_type": "code",
   "execution_count": 0,
   "metadata": {
    "application/vnd.databricks.v1+cell": {
     "cellMetadata": {
      "byteLimit": 2048000,
      "rowLimit": 10000
     },
     "inputWidgets": {},
     "nuid": "b9c7c6e3-0436-44eb-a02c-90008a2af06f",
     "showTitle": false,
     "title": ""
    }
   },
   "outputs": [],
   "source": [
    "from pyspark.sql import Window\n",
    "from pyspark.sql import functions as F\n",
    "\n",
    "# Filter the rows where the rating is not 0 or not null and flag is not inactive\n",
    "filtered_df = ranking_df.filter(\n",
    "    (ranking_df.rating != 0) & (ranking_df.rating.isNotNull()) & (ranking_df.flag != 'wi') & (ranking_df.flag != 'i') \n",
    ")\n",
    "\n",
    "# Define a window specification to partition by country and month, and order by rating in descending order\n",
    "window_spec = Window.partitionBy('country', 'rating_date').orderBy(F.desc('rating'))\n",
    "\n",
    "# Add a rank column within each partition\n",
    "ranked_df = filtered_df.withColumn('rank', F.row_number().over(window_spec))\n",
    "\n",
    "# Filter to keep only the top 10 players by country and month\n",
    "top_10_df = ranked_df.filter(ranked_df.rank <= 10)\n",
    "\n",
    "# Group by country and month and calculate the average rating of the top 10 players\n",
    "average_rating_by_country_month = top_10_df.groupBy('country', 'rating_date').agg(\n",
    "    F.avg('rating').alias('average_rating')\n",
    ")\n",
    "\n",
    "# Add a rank column for the grouping by country and month\n",
    "window_spec_country = Window.partitionBy('rating_date').orderBy(F.desc('average_rating'))\n",
    "average_rating_by_country_month = average_rating_by_country_month.withColumn(\n",
    "    'rank', F.row_number().over(window_spec_country)\n",
    ")\n",
    "\n",
    "# Order by month (most recent to oldest) and average rating, and round the average to one decimal place\n",
    "average_rating_by_country_month = average_rating_by_country_month.orderBy(\n",
    "    F.desc('rating_date'), \n",
    "    F.desc('average_rating')\n",
    ").withColumn('average_rating', F.round('average_rating', 1))\n",
    "\n",
    "# Display the result\n",
    "display(average_rating_by_country_month)\n"
   ]
  },
  {
   "cell_type": "code",
   "execution_count": 0,
   "metadata": {
    "application/vnd.databricks.v1+cell": {
     "cellMetadata": {
      "byteLimit": 2048000,
      "rowLimit": 10000
     },
     "inputWidgets": {},
     "nuid": "c6bb693f-a16d-4ff9-94ac-7e49146c0e3b",
     "showTitle": false,
     "title": ""
    }
   },
   "outputs": [],
   "source": [
    "average_rating_by_country_month.write.mode('overwrite').saveAsTable('gold.mix_fed_rank_evolution')"
   ]
  },
  {
   "cell_type": "markdown",
   "metadata": {
    "application/vnd.databricks.v1+cell": {
     "cellMetadata": {},
     "inputWidgets": {},
     "nuid": "3016cfb3-1c2a-4923-abda-7ea0d4f224bf",
     "showTitle": false,
     "title": ""
    }
   },
   "source": [
    "- Showing the ranking evolution of India"
   ]
  },
  {
   "cell_type": "code",
   "execution_count": 0,
   "metadata": {
    "application/vnd.databricks.v1+cell": {
     "cellMetadata": {
      "byteLimit": 2048000,
      "rowLimit": 10000
     },
     "inputWidgets": {},
     "nuid": "909f96ea-0d01-408b-96ce-a1681d6195d4",
     "showTitle": false,
     "title": ""
    }
   },
   "outputs": [],
   "source": [
    "# Filtering just country = 'IND'\n",
    "average_rating_india = average_rating_by_country_month.filter(average_rating_by_country_month.country == 'IND')\n",
    "\n",
    "display(average_rating_india)"
   ]
  },
  {
   "cell_type": "code",
   "execution_count": 0,
   "metadata": {
    "application/vnd.databricks.v1+cell": {
     "cellMetadata": {
      "byteLimit": 2048000,
      "rowLimit": 10000
     },
     "inputWidgets": {},
     "nuid": "b4a32e5b-0d6b-42e7-b4e6-cdc7182e5baf",
     "showTitle": false,
     "title": ""
    }
   },
   "outputs": [],
   "source": [
    "average_rating_india.write.mode('overwrite').saveAsTable('gold.mix_IND_rank_evolution')"
   ]
  },
  {
   "cell_type": "code",
   "execution_count": 0,
   "metadata": {
    "application/vnd.databricks.v1+cell": {
     "cellMetadata": {
      "byteLimit": 2048000,
      "rowLimit": 10000
     },
     "inputWidgets": {},
     "nuid": "203df8ff-b813-4826-810c-369b6b368035",
     "showTitle": false,
     "title": ""
    }
   },
   "outputs": [
    {
     "output_type": "display_data",
     "data": {
      "text/plain": [
       "Databricks visualization. Run in Databricks to view."
      ]
     },
     "metadata": {
      "application/vnd.databricks.v1.subcommand+json": {
       "baseErrorDetails": null,
       "bindings": {},
       "collapsed": false,
       "command": "%python\n__backend_agg_display_orig = display\n__backend_agg_dfs = []\ndef __backend_agg_display_new(df):\n    __backend_agg_df_modules = [\"pandas.core.frame\", \"databricks.koalas.frame\", \"pyspark.sql.dataframe\", \"pyspark.pandas.frame\", \"pyspark.sql.connect.dataframe\"]\n    if (type(df).__module__ in __backend_agg_df_modules and type(df).__name__ == 'DataFrame') or isinstance(df, list):\n        __backend_agg_dfs.append(df)\n\ndisplay = __backend_agg_display_new\n\ndef __backend_agg_user_code_fn():\n    import base64\n    exec(base64.standard_b64decode(\"ZnJvbSBweXNwYXJrLnNxbC5mdW5jdGlvbnMgaW1wb3J0IGRhdGVfZm9ybWF0CgphdmVyYWdlX3JhdGluZ19pbmRpYSA9IGF2ZXJhZ2VfcmF0aW5nX2luZGlhLndpdGhDb2x1bW4oJ3JhdGluZ19kYXRlJywgZGF0ZV9mb3JtYXQoJ3JhdGluZ19kYXRlJywgJ01NTS95eXl5JykpCmRpc3BsYXkoYXZlcmFnZV9yYXRpbmdfaW5kaWEp\").decode())\n\ntry:\n    # run user code\n    __backend_agg_user_code_fn()\n\n    #reset display function\n    display = __backend_agg_display_orig\n\n    if len(__backend_agg_dfs) > 0:\n        # create a temp view\n        if type(__backend_agg_dfs[0]).__module__ == \"databricks.koalas.frame\":\n            # koalas dataframe\n            __backend_agg_dfs[0].to_spark().createOrReplaceTempView(\"DatabricksView1a04373\")\n        elif type(__backend_agg_dfs[0]).__module__ == \"pandas.core.frame\" or isinstance(__backend_agg_dfs[0], list):\n            # pandas dataframe\n            spark.createDataFrame(__backend_agg_dfs[0]).createOrReplaceTempView(\"DatabricksView1a04373\")\n        else:\n            __backend_agg_dfs[0].createOrReplaceTempView(\"DatabricksView1a04373\")\n        #run backend agg\n        display(spark.sql(\"\"\"WITH q AS (select * from DatabricksView1a04373) SELECT `rating_date`,`rank` FROM q\"\"\"))\n    else:\n        displayHTML(\"dataframe no longer exists. If you're using dataframe.display(), use display(dataframe) instead.\")\n\n\nfinally:\n    spark.sql(\"drop view if exists DatabricksView1a04373\")\n    display = __backend_agg_display_orig\n    del __backend_agg_display_new\n    del __backend_agg_display_orig\n    del __backend_agg_dfs\n    del __backend_agg_user_code_fn\n\n",
       "commandTitle": "Position Evolution in Federation's Ranking",
       "commandType": "auto",
       "commandVersion": 0,
       "commentThread": [],
       "commentsVisible": false,
       "contentSha256Hex": null,
       "customPlotOptions": {
        "redashChart": [
         {
          "key": "type",
          "value": "CHART"
         },
         {
          "key": "options",
          "value": {
           "alignYAxesAtZero": false,
           "coefficient": 1,
           "columnConfigurationMap": {
            "x": {
             "column": "rating_date",
             "id": "column_719f8a7f13"
            },
            "y": [
             {
              "column": "rank",
              "id": "column_719f8a7f26"
             }
            ]
           },
           "dateTimeFormat": "DD/MM/YYYY HH:mm",
           "direction": {
            "type": "counterclockwise"
           },
           "error_y": {
            "type": "data",
            "visible": true
           },
           "globalSeriesType": "column",
           "hideXAxis": false,
           "hideYAxes": false,
           "isAggregationOn": false,
           "legend": {
            "traceorder": "normal"
           },
           "missingValuesAsZero": true,
           "numBins": 10,
           "numberFormat": "0,0.[00000]",
           "percentFormat": "0[.]00%",
           "reverseX": true,
           "series": {
            "error_y": {
             "type": "data",
             "visible": true
            },
            "percentValues": false,
            "stacking": "stack"
           },
           "seriesOptions": {
            "rank": {
             "type": "column",
             "yAxis": 0
            }
           },
           "showDataLabels": true,
           "sizemode": "diameter",
           "sortX": false,
           "sortY": true,
           "swappedAxes": false,
           "textFormat": "",
           "useAggregationsUi": true,
           "valuesOptions": {},
           "version": 2,
           "xAxis": {
            "labels": {
             "enabled": true
            },
            "title": {
             "text": "Date"
            },
            "type": "-"
           },
           "yAxis": [
            {
             "rangeMin": 1,
             "title": {
              "text": "Ranking Position"
             },
             "type": "linear"
            },
            {
             "opposite": true,
             "title": {
              "text": null
             },
             "type": "-"
            }
           ]
          }
         }
        ]
       },
       "datasetPreviewNameToCmdIdMap": {},
       "diffDeletes": [],
       "diffInserts": [],
       "displayType": "redashChart",
       "error": null,
       "errorDetails": null,
       "errorSummary": null,
       "errorTraceType": null,
       "finishTime": 0,
       "globalVars": {},
       "guid": "",
       "height": "auto",
       "hideCommandCode": false,
       "hideCommandResult": false,
       "iPythonMetadata": null,
       "inputWidgets": {},
       "isLockedInExamMode": false,
       "latestUser": "a user",
       "latestUserId": null,
       "listResultMetadata": null,
       "metadata": {},
       "nuid": "2c98c2ea-1bf8-424c-85d9-3783ce56d829",
       "origId": 0,
       "parentHierarchy": [],
       "pivotAggregation": null,
       "pivotColumns": null,
       "position": -1.0,
       "resultDbfsErrorMessage": null,
       "resultDbfsStatus": "INLINED_IN_TREE",
       "results": null,
       "showCommandTitle": false,
       "startTime": 0,
       "state": "input",
       "streamStates": {},
       "subcommandOptions": {
        "queryPlan": {
         "selects": [
          {
           "column": "rating_date",
           "type": "column"
          },
          {
           "column": "rank",
           "type": "column"
          }
         ]
        }
       },
       "submitTime": 0,
       "subtype": "tableResultSubCmd.visualization",
       "tableResultIndex": 0,
       "useConsistentColors": false,
       "version": "CommandV1",
       "width": "auto",
       "workflows": null,
       "xColumns": null,
       "yColumns": null
      }
     },
     "output_type": "display_data"
    }
   ],
   "source": [
    "from pyspark.sql.functions import date_format\n",
    "\n",
    "average_rating_india = average_rating_india.withColumn('rating_date', date_format('rating_date', 'MMM/yyyy'))\n",
    "display(average_rating_india)"
   ]
  },
  {
   "cell_type": "code",
   "execution_count": 0,
   "metadata": {
    "application/vnd.databricks.v1+cell": {
     "cellMetadata": {
      "byteLimit": 2048000,
      "rowLimit": 10000
     },
     "inputWidgets": {},
     "nuid": "be909e93-49c4-4643-a784-08f96db99f61",
     "showTitle": false,
     "title": ""
    }
   },
   "outputs": [],
   "source": [
    "import pandas as pd\n",
    "import matplotlib.pyplot as plt\n",
    "from pyspark.sql.functions import to_date\n",
    "\n",
    "average_rating_india2 = average_rating_india.withColumn('rating_date', to_date('rating_date', 'MMM/yyyy'))\n",
    "\n",
    "# Convert DataFrame Spark to Pandas DataFrame\n",
    "df_pandas = average_rating_india2.toPandas()\n",
    "\n",
    "# Order data per date\n",
    "df_pandas = df_pandas.sort_values(by='rating_date')\n",
    "\n",
    "# Data plot\n",
    "plt.figure(figsize=(14, 7))\n",
    "plt.plot(df_pandas['rating_date'], df_pandas['rank'], marker='o', linestyle='-', color='skyblue')\n",
    "plt.title('India Position Evolution in Federations Ranking')\n",
    "plt.xlabel('Date')\n",
    "plt.ylabel('Ranking Position')\n",
    "\n",
    "# Better view of date in the X axis\n",
    "plt.xticks(rotation=45)\n",
    "\n",
    "# Invert Y axis\n",
    "plt.gca().invert_yaxis()\n",
    "plt.ylim(10, 1)\n",
    "plt.yticks(range(1, 10))\n",
    "plt.grid(True)\n",
    "plt.tight_layout()\n",
    "\n",
    "plt.show()"
   ]
  }
 ],
 "metadata": {
  "application/vnd.databricks.v1+notebook": {
   "dashboards": [],
   "environmentMetadata": null,
   "language": "python",
   "notebookMetadata": {
    "pythonIndentUnit": 4
   },
   "notebookName": "silver to gold - fed ranking evolution by time",
   "widgets": {}
  }
 },
 "nbformat": 4,
 "nbformat_minor": 0
}
